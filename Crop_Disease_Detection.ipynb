{
  "nbformat": 4,
  "nbformat_minor": 0,
  "metadata": {
    "colab": {
      "provenance": [],
      "authorship_tag": "ABX9TyOuiBMyco8n53QaVyTu6hs4",
      "include_colab_link": true
    },
    "kernelspec": {
      "name": "python3",
      "display_name": "Python 3"
    },
    "language_info": {
      "name": "python"
    }
  },
  "cells": [
    {
      "cell_type": "markdown",
      "metadata": {
        "id": "view-in-github",
        "colab_type": "text"
      },
      "source": [
        "<a href=\"https://colab.research.google.com/github/varuncode01/SIH_Files/blob/main/Crop_Disease_Detection.ipynb\" target=\"_parent\"><img src=\"https://colab.research.google.com/assets/colab-badge.svg\" alt=\"Open In Colab\"/></a>"
      ]
    },
    {
      "cell_type": "code",
      "source": [],
      "metadata": {
        "id": "qj0NtC3wkW_P"
      },
      "execution_count": null,
      "outputs": []
    },
    {
      "cell_type": "code",
      "source": [
        "pip install streamlit"
      ],
      "metadata": {
        "colab": {
          "base_uri": "https://localhost:8080/"
        },
        "id": "ymVn6UuykgQb",
        "outputId": "d7242c4c-8487-4bf1-ea1d-3dcaeb39a720"
      },
      "execution_count": null,
      "outputs": [
        {
          "output_type": "stream",
          "name": "stdout",
          "text": [
            "Collecting streamlit\n",
            "  Downloading streamlit-1.49.1-py3-none-any.whl.metadata (9.5 kB)\n",
            "Requirement already satisfied: altair!=5.4.0,!=5.4.1,<6,>=4.0 in /usr/local/lib/python3.12/dist-packages (from streamlit) (5.5.0)\n",
            "Requirement already satisfied: blinker<2,>=1.5.0 in /usr/local/lib/python3.12/dist-packages (from streamlit) (1.9.0)\n",
            "Requirement already satisfied: cachetools<7,>=4.0 in /usr/local/lib/python3.12/dist-packages (from streamlit) (5.5.2)\n",
            "Requirement already satisfied: click<9,>=7.0 in /usr/local/lib/python3.12/dist-packages (from streamlit) (8.2.1)\n",
            "Requirement already satisfied: numpy<3,>=1.23 in /usr/local/lib/python3.12/dist-packages (from streamlit) (2.0.2)\n",
            "Requirement already satisfied: packaging<26,>=20 in /usr/local/lib/python3.12/dist-packages (from streamlit) (25.0)\n",
            "Requirement already satisfied: pandas<3,>=1.4.0 in /usr/local/lib/python3.12/dist-packages (from streamlit) (2.2.2)\n",
            "Requirement already satisfied: pillow<12,>=7.1.0 in /usr/local/lib/python3.12/dist-packages (from streamlit) (11.3.0)\n",
            "Requirement already satisfied: protobuf<7,>=3.20 in /usr/local/lib/python3.12/dist-packages (from streamlit) (5.29.5)\n",
            "Requirement already satisfied: pyarrow>=7.0 in /usr/local/lib/python3.12/dist-packages (from streamlit) (18.1.0)\n",
            "Requirement already satisfied: requests<3,>=2.27 in /usr/local/lib/python3.12/dist-packages (from streamlit) (2.32.4)\n",
            "Requirement already satisfied: tenacity<10,>=8.1.0 in /usr/local/lib/python3.12/dist-packages (from streamlit) (8.5.0)\n",
            "Requirement already satisfied: toml<2,>=0.10.1 in /usr/local/lib/python3.12/dist-packages (from streamlit) (0.10.2)\n",
            "Requirement already satisfied: typing-extensions<5,>=4.4.0 in /usr/local/lib/python3.12/dist-packages (from streamlit) (4.15.0)\n",
            "Requirement already satisfied: watchdog<7,>=2.1.5 in /usr/local/lib/python3.12/dist-packages (from streamlit) (6.0.0)\n",
            "Requirement already satisfied: gitpython!=3.1.19,<4,>=3.0.7 in /usr/local/lib/python3.12/dist-packages (from streamlit) (3.1.45)\n",
            "Collecting pydeck<1,>=0.8.0b4 (from streamlit)\n",
            "  Downloading pydeck-0.9.1-py2.py3-none-any.whl.metadata (4.1 kB)\n",
            "Requirement already satisfied: tornado!=6.5.0,<7,>=6.0.3 in /usr/local/lib/python3.12/dist-packages (from streamlit) (6.4.2)\n",
            "Requirement already satisfied: jinja2 in /usr/local/lib/python3.12/dist-packages (from altair!=5.4.0,!=5.4.1,<6,>=4.0->streamlit) (3.1.6)\n",
            "Requirement already satisfied: jsonschema>=3.0 in /usr/local/lib/python3.12/dist-packages (from altair!=5.4.0,!=5.4.1,<6,>=4.0->streamlit) (4.25.1)\n",
            "Requirement already satisfied: narwhals>=1.14.2 in /usr/local/lib/python3.12/dist-packages (from altair!=5.4.0,!=5.4.1,<6,>=4.0->streamlit) (2.4.0)\n",
            "Requirement already satisfied: gitdb<5,>=4.0.1 in /usr/local/lib/python3.12/dist-packages (from gitpython!=3.1.19,<4,>=3.0.7->streamlit) (4.0.12)\n",
            "Requirement already satisfied: python-dateutil>=2.8.2 in /usr/local/lib/python3.12/dist-packages (from pandas<3,>=1.4.0->streamlit) (2.9.0.post0)\n",
            "Requirement already satisfied: pytz>=2020.1 in /usr/local/lib/python3.12/dist-packages (from pandas<3,>=1.4.0->streamlit) (2025.2)\n",
            "Requirement already satisfied: tzdata>=2022.7 in /usr/local/lib/python3.12/dist-packages (from pandas<3,>=1.4.0->streamlit) (2025.2)\n",
            "Requirement already satisfied: charset_normalizer<4,>=2 in /usr/local/lib/python3.12/dist-packages (from requests<3,>=2.27->streamlit) (3.4.3)\n",
            "Requirement already satisfied: idna<4,>=2.5 in /usr/local/lib/python3.12/dist-packages (from requests<3,>=2.27->streamlit) (3.10)\n",
            "Requirement already satisfied: urllib3<3,>=1.21.1 in /usr/local/lib/python3.12/dist-packages (from requests<3,>=2.27->streamlit) (2.5.0)\n",
            "Requirement already satisfied: certifi>=2017.4.17 in /usr/local/lib/python3.12/dist-packages (from requests<3,>=2.27->streamlit) (2025.8.3)\n",
            "Requirement already satisfied: smmap<6,>=3.0.1 in /usr/local/lib/python3.12/dist-packages (from gitdb<5,>=4.0.1->gitpython!=3.1.19,<4,>=3.0.7->streamlit) (5.0.2)\n",
            "Requirement already satisfied: MarkupSafe>=2.0 in /usr/local/lib/python3.12/dist-packages (from jinja2->altair!=5.4.0,!=5.4.1,<6,>=4.0->streamlit) (3.0.2)\n",
            "Requirement already satisfied: attrs>=22.2.0 in /usr/local/lib/python3.12/dist-packages (from jsonschema>=3.0->altair!=5.4.0,!=5.4.1,<6,>=4.0->streamlit) (25.3.0)\n",
            "Requirement already satisfied: jsonschema-specifications>=2023.03.6 in /usr/local/lib/python3.12/dist-packages (from jsonschema>=3.0->altair!=5.4.0,!=5.4.1,<6,>=4.0->streamlit) (2025.9.1)\n",
            "Requirement already satisfied: referencing>=0.28.4 in /usr/local/lib/python3.12/dist-packages (from jsonschema>=3.0->altair!=5.4.0,!=5.4.1,<6,>=4.0->streamlit) (0.36.2)\n",
            "Requirement already satisfied: rpds-py>=0.7.1 in /usr/local/lib/python3.12/dist-packages (from jsonschema>=3.0->altair!=5.4.0,!=5.4.1,<6,>=4.0->streamlit) (0.27.1)\n",
            "Requirement already satisfied: six>=1.5 in /usr/local/lib/python3.12/dist-packages (from python-dateutil>=2.8.2->pandas<3,>=1.4.0->streamlit) (1.17.0)\n",
            "Downloading streamlit-1.49.1-py3-none-any.whl (10.0 MB)\n",
            "\u001b[2K   \u001b[90m━━━━━━━━━━━━━━━━━━━━━━━━━━━━━━━━━━━━━━━━\u001b[0m \u001b[32m10.0/10.0 MB\u001b[0m \u001b[31m93.1 MB/s\u001b[0m eta \u001b[36m0:00:00\u001b[0m\n",
            "\u001b[?25hDownloading pydeck-0.9.1-py2.py3-none-any.whl (6.9 MB)\n",
            "\u001b[2K   \u001b[90m━━━━━━━━━━━━━━━━━━━━━━━━━━━━━━━━━━━━━━━━\u001b[0m \u001b[32m6.9/6.9 MB\u001b[0m \u001b[31m121.0 MB/s\u001b[0m eta \u001b[36m0:00:00\u001b[0m\n",
            "\u001b[?25hInstalling collected packages: pydeck, streamlit\n",
            "Successfully installed pydeck-0.9.1 streamlit-1.49.1\n"
          ]
        }
      ]
    },
    {
      "cell_type": "code",
      "execution_count": null,
      "metadata": {
        "id": "1DDB3YtnkQA2",
        "colab": {
          "base_uri": "https://localhost:8080/"
        },
        "outputId": "eec5200c-de13-4589-f98c-d6335ea4e5ba"
      },
      "outputs": [
        {
          "output_type": "stream",
          "name": "stderr",
          "text": [
            "2025-09-20 10:01:40.703 WARNING streamlit.runtime.scriptrunner_utils.script_run_context: Thread 'MainThread': missing ScriptRunContext! This warning can be ignored when running in bare mode.\n",
            "2025-09-20 10:01:40.936 \n",
            "  \u001b[33m\u001b[1mWarning:\u001b[0m to view this Streamlit app on a browser, run it with the following\n",
            "  command:\n",
            "\n",
            "    streamlit run /usr/local/lib/python3.12/dist-packages/colab_kernel_launcher.py [ARGUMENTS]\n",
            "2025-09-20 10:01:40.940 Thread 'MainThread': missing ScriptRunContext! This warning can be ignored when running in bare mode.\n",
            "2025-09-20 10:01:40.944 Thread 'MainThread': missing ScriptRunContext! This warning can be ignored when running in bare mode.\n",
            "2025-09-20 10:01:40.947 Thread 'MainThread': missing ScriptRunContext! This warning can be ignored when running in bare mode.\n",
            "2025-09-20 10:01:40.950 Thread 'MainThread': missing ScriptRunContext! This warning can be ignored when running in bare mode.\n",
            "2025-09-20 10:01:40.954 Thread 'MainThread': missing ScriptRunContext! This warning can be ignored when running in bare mode.\n",
            "2025-09-20 10:01:40.957 Thread 'MainThread': missing ScriptRunContext! This warning can be ignored when running in bare mode.\n",
            "2025-09-20 10:01:40.961 Thread 'MainThread': missing ScriptRunContext! This warning can be ignored when running in bare mode.\n",
            "2025-09-20 10:01:40.964 Thread 'MainThread': missing ScriptRunContext! This warning can be ignored when running in bare mode.\n",
            "2025-09-20 10:01:40.968 Thread 'MainThread': missing ScriptRunContext! This warning can be ignored when running in bare mode.\n",
            "2025-09-20 10:01:40.971 Thread 'MainThread': missing ScriptRunContext! This warning can be ignored when running in bare mode.\n",
            "2025-09-20 10:01:40.974 Thread 'MainThread': missing ScriptRunContext! This warning can be ignored when running in bare mode.\n"
          ]
        }
      ],
      "source": [
        "import streamlit as st\n",
        "import requests\n",
        "from PIL import Image\n",
        "import io\n",
        "\n",
        "# ------------------------\n",
        "# CONFIGURATION\n",
        "# ------------------------\n",
        "ROBOFLOW_API_KEY = \"YOUR_ROBOFLOW_API_KEY\"\n",
        "ROBOFLOW_MODEL = \"YOUR_MODEL_NAME\"\n",
        "ROBOFLOW_VERSION = \"YOUR_MODEL_VERSION\"\n",
        "\n",
        "endpoint = f\"https://detect.roboflow.com/{ROBOFLOW_MODEL}/{ROBOFLOW_VERSION}?api_key={ROBOFLOW_API_KEY}\"\n",
        "\n",
        "# ------------------------\n",
        "# STREAMLIT UI\n",
        "# ------------------------\n",
        "st.title(\"🌿 Crop Disease Detection (Roboflow)\")\n",
        "st.write(\"Upload an image of a plant, and this app will detect disease using a Roboflow-hosted model.\")\n",
        "\n",
        "uploaded_file = st.file_uploader(\"Upload Plant Image\", type=[\"jpg\", \"jpeg\", \"png\"])\n",
        "\n",
        "if uploaded_file is not None:\n",
        "    image = Image.open(uploaded_file)\n",
        "    st.image(image, caption=\"Uploaded Image\", use_column_width=True)\n",
        "\n",
        "    # Convert image to bytes\n",
        "    img_bytes = io.BytesIO()\n",
        "    image.save(img_bytes, format=\"JPEG\")\n",
        "    img_bytes = img_bytes.getvalue()\n",
        "\n",
        "    if st.button(\"🔍 Analyze with Roboflow\"):\n",
        "        with st.spinner(\"Sending image to Roboflow...\"):\n",
        "            response = requests.post(\n",
        "                endpoint,\n",
        "                files={\"file\": img_bytes},\n",
        "                data={\"format\": \"json\"},\n",
        "            )\n",
        "\n",
        "        if response.status_code == 200:\n",
        "            result = response.json()\n",
        "\n",
        "            if \"predictions\" in result and len(result[\"predictions\"]) > 0:\n",
        "                st.success(f\"✅ Found {len(result['predictions'])} issue(s)\")\n",
        "\n",
        "                for pred in result[\"predictions\"]:\n",
        "                    st.markdown(\"---\")\n",
        "                    st.write(f\"**Class:** {pred['class']}\")\n",
        "                    st.write(f\"**Confidence:** {round(pred['confidence'] * 100, 2)}%\")\n",
        "                    st.write(f\"**Box:** x={pred['x']}, y={pred['y']}, width={pred['width']}, height={pred['height']}\")\n",
        "            else:\n",
        "                st.warning(\"No disease detected.\")\n",
        "        else:\n",
        "            st.error(f\"Request failed: {response.status_code}\")\n",
        "            st.text(response.text)\n"
      ]
    },
    {
      "cell_type": "code",
      "source": [
        "import gradio as gr\n",
        "import requests\n",
        "from PIL import Image\n",
        "import io\n",
        "\n",
        "# ---------------------\n",
        "# CONFIG\n",
        "# ---------------------\n",
        "ROBOFLOW_API_KEY = \"your_api_key_here\"\n",
        "ROBOFLOW_MODEL = \"your_model_name\"\n",
        "ROBOFLOW_VERSION = \"1\"\n",
        "\n",
        "endpoint = f\"https://detect.roboflow.com/{ROBOFLOW_MODEL}/{ROBOFLOW_VERSION}?api_key={ROBOFLOW_API_KEY}\"\n",
        "\n",
        "# ---------------------\n",
        "# Function to call API\n",
        "# ---------------------\n",
        "def analyze_image(image: Image.Image):\n",
        "    # Convert PIL image to bytes\n",
        "    img_byte_arr = io.BytesIO()\n",
        "    image.save(img_byte_arr, format=\"JPEG\")\n",
        "    img_bytes = img_byte_arr.getvalue()\n",
        "\n",
        "    # Send to Roboflow\n",
        "    response = requests.post(\n",
        "        endpoint,\n",
        "        files={\"file\": img_bytes},\n",
        "        data={\"format\": \"json\"}\n",
        "    )\n",
        "\n",
        "    # Handle response\n",
        "    if response.status_code != 200:\n",
        "        return f\"❌ API Error: {response.status_code}\", None\n",
        "\n",
        "    result = response.json()\n",
        "    predictions = result.get(\"predictions\", [])\n",
        "\n",
        "    if not predictions:\n",
        "        return \"✅ No disease detected.\", None\n",
        "\n",
        "    # Build output string\n",
        "    output = \"🔍 **Predictions:**\\n\"\n",
        "    for pred in predictions:\n",
        "        cls = pred['class']\n",
        "        conf = round(pred['confidence'] * 100, 2)\n",
        "        output += f\"- {cls} ({conf}%)\\n\"\n",
        "\n",
        "    return output, image\n",
        "\n",
        "# ---------------------\n",
        "# Gradio UI\n",
        "# ---------------------\n",
        "demo = gr.Interface(\n",
        "    fn=analyze_image,\n",
        "    inputs=gr.Image(type=\"pil\"),\n",
        "    outputs=[\n",
        "        gr.Markdown(label=\"Prediction Result\"),\n",
        "        gr.Image(label=\"Uploaded Image\")\n",
        "    ],\n",
        "    title=\"🌿 Crop Disease Detection with Roboflow\",\n",
        "    description=\"Upload an image of a plant leaf or fruit. The model will return disease or pest predictions using Roboflow.\"\n",
        ")\n",
        "\n",
        "demo.launch()\n"
      ],
      "metadata": {
        "colab": {
          "base_uri": "https://localhost:8080/",
          "height": 650
        },
        "id": "YJYd692sknOS",
        "outputId": "dfbcceec-f147-42cc-ccdb-3f6850905d78"
      },
      "execution_count": null,
      "outputs": [
        {
          "output_type": "stream",
          "name": "stdout",
          "text": [
            "It looks like you are running Gradio on a hosted Jupyter notebook, which requires `share=True`. Automatically setting `share=True` (you can turn this off by setting `share=False` in `launch()` explicitly).\n",
            "\n",
            "Colab notebook detected. To show errors in colab notebook, set debug=True in launch()\n",
            "* Running on public URL: https://8d0cde6c2a481f5188.gradio.live\n",
            "\n",
            "This share link expires in 1 week. For free permanent hosting and GPU upgrades, run `gradio deploy` from the terminal in the working directory to deploy to Hugging Face Spaces (https://huggingface.co/spaces)\n"
          ]
        },
        {
          "output_type": "display_data",
          "data": {
            "text/plain": [
              "<IPython.core.display.HTML object>"
            ],
            "text/html": [
              "<div><iframe src=\"https://8d0cde6c2a481f5188.gradio.live\" width=\"100%\" height=\"500\" allow=\"autoplay; camera; microphone; clipboard-read; clipboard-write;\" frameborder=\"0\" allowfullscreen></iframe></div>"
            ]
          },
          "metadata": {}
        },
        {
          "output_type": "execute_result",
          "data": {
            "text/plain": []
          },
          "metadata": {},
          "execution_count": 3
        }
      ]
    },
    {
      "cell_type": "code",
      "source": [
        "pip install gradio inference-sdk"
      ],
      "metadata": {
        "colab": {
          "base_uri": "https://localhost:8080/"
        },
        "id": "p4ghb32imHx1",
        "outputId": "278a8454-ad0c-44d0-813c-4e2dae3e55bf"
      },
      "execution_count": null,
      "outputs": [
        {
          "output_type": "stream",
          "name": "stdout",
          "text": [
            "Requirement already satisfied: gradio in /usr/local/lib/python3.12/dist-packages (5.44.1)\n",
            "Collecting inference-sdk\n",
            "  Downloading inference_sdk-0.56.0-py3-none-any.whl.metadata (20 kB)\n",
            "Requirement already satisfied: aiofiles<25.0,>=22.0 in /usr/local/lib/python3.12/dist-packages (from gradio) (24.1.0)\n",
            "Requirement already satisfied: anyio<5.0,>=3.0 in /usr/local/lib/python3.12/dist-packages (from gradio) (4.10.0)\n",
            "Requirement already satisfied: brotli>=1.1.0 in /usr/local/lib/python3.12/dist-packages (from gradio) (1.1.0)\n",
            "Requirement already satisfied: fastapi<1.0,>=0.115.2 in /usr/local/lib/python3.12/dist-packages (from gradio) (0.116.1)\n",
            "Requirement already satisfied: ffmpy in /usr/local/lib/python3.12/dist-packages (from gradio) (0.6.1)\n",
            "Requirement already satisfied: gradio-client==1.12.1 in /usr/local/lib/python3.12/dist-packages (from gradio) (1.12.1)\n",
            "Requirement already satisfied: groovy~=0.1 in /usr/local/lib/python3.12/dist-packages (from gradio) (0.1.2)\n",
            "Requirement already satisfied: httpx<1.0,>=0.24.1 in /usr/local/lib/python3.12/dist-packages (from gradio) (0.28.1)\n",
            "Requirement already satisfied: huggingface-hub<1.0,>=0.33.5 in /usr/local/lib/python3.12/dist-packages (from gradio) (0.34.4)\n",
            "Requirement already satisfied: jinja2<4.0 in /usr/local/lib/python3.12/dist-packages (from gradio) (3.1.6)\n",
            "Requirement already satisfied: markupsafe<4.0,>=2.0 in /usr/local/lib/python3.12/dist-packages (from gradio) (3.0.2)\n",
            "Requirement already satisfied: numpy<3.0,>=1.0 in /usr/local/lib/python3.12/dist-packages (from gradio) (2.0.2)\n",
            "Requirement already satisfied: orjson~=3.0 in /usr/local/lib/python3.12/dist-packages (from gradio) (3.11.3)\n",
            "Requirement already satisfied: packaging in /usr/local/lib/python3.12/dist-packages (from gradio) (25.0)\n",
            "Requirement already satisfied: pandas<3.0,>=1.0 in /usr/local/lib/python3.12/dist-packages (from gradio) (2.2.2)\n",
            "Requirement already satisfied: pillow<12.0,>=8.0 in /usr/local/lib/python3.12/dist-packages (from gradio) (11.3.0)\n",
            "Requirement already satisfied: pydantic<2.12,>=2.0 in /usr/local/lib/python3.12/dist-packages (from gradio) (2.11.7)\n",
            "Requirement already satisfied: pydub in /usr/local/lib/python3.12/dist-packages (from gradio) (0.25.1)\n",
            "Requirement already satisfied: python-multipart>=0.0.18 in /usr/local/lib/python3.12/dist-packages (from gradio) (0.0.20)\n",
            "Requirement already satisfied: pyyaml<7.0,>=5.0 in /usr/local/lib/python3.12/dist-packages (from gradio) (6.0.2)\n",
            "Requirement already satisfied: ruff>=0.9.3 in /usr/local/lib/python3.12/dist-packages (from gradio) (0.12.12)\n",
            "Requirement already satisfied: safehttpx<0.2.0,>=0.1.6 in /usr/local/lib/python3.12/dist-packages (from gradio) (0.1.6)\n",
            "Requirement already satisfied: semantic-version~=2.0 in /usr/local/lib/python3.12/dist-packages (from gradio) (2.10.0)\n",
            "Requirement already satisfied: starlette<1.0,>=0.40.0 in /usr/local/lib/python3.12/dist-packages (from gradio) (0.47.3)\n",
            "Requirement already satisfied: tomlkit<0.14.0,>=0.12.0 in /usr/local/lib/python3.12/dist-packages (from gradio) (0.13.3)\n",
            "Requirement already satisfied: typer<1.0,>=0.12 in /usr/local/lib/python3.12/dist-packages (from gradio) (0.17.4)\n",
            "Requirement already satisfied: typing-extensions~=4.0 in /usr/local/lib/python3.12/dist-packages (from gradio) (4.15.0)\n",
            "Requirement already satisfied: uvicorn>=0.14.0 in /usr/local/lib/python3.12/dist-packages (from gradio) (0.35.0)\n",
            "Requirement already satisfied: fsspec in /usr/local/lib/python3.12/dist-packages (from gradio-client==1.12.1->gradio) (2025.3.0)\n",
            "Requirement already satisfied: websockets<16.0,>=10.0 in /usr/local/lib/python3.12/dist-packages (from gradio-client==1.12.1->gradio) (15.0.1)\n",
            "Requirement already satisfied: requests<3.0.0,>=2.32.0 in /usr/local/lib/python3.12/dist-packages (from inference-sdk) (2.32.4)\n",
            "Collecting dataclasses-json~=0.6.0 (from inference-sdk)\n",
            "  Downloading dataclasses_json-0.6.7-py3-none-any.whl.metadata (25 kB)\n",
            "Collecting opencv-python<=4.10.0.84,>=4.8.1.78 (from inference-sdk)\n",
            "  Downloading opencv_python-4.10.0.84-cp37-abi3-manylinux_2_17_x86_64.manylinux2014_x86_64.whl.metadata (20 kB)\n",
            "Collecting supervision>=0.26 (from inference-sdk)\n",
            "  Downloading supervision-0.26.1-py3-none-any.whl.metadata (13 kB)\n",
            "Collecting aiohttp<=3.10.11,>=3.9.0 (from inference-sdk)\n",
            "  Downloading aiohttp-3.10.11-cp312-cp312-manylinux_2_17_x86_64.manylinux2014_x86_64.whl.metadata (7.7 kB)\n",
            "Collecting backoff~=2.2.0 (from inference-sdk)\n",
            "  Downloading backoff-2.2.1-py3-none-any.whl.metadata (14 kB)\n",
            "Requirement already satisfied: py-cpuinfo~=9.0.0 in /usr/local/lib/python3.12/dist-packages (from inference-sdk) (9.0.0)\n",
            "Requirement already satisfied: aiohappyeyeballs>=2.3.0 in /usr/local/lib/python3.12/dist-packages (from aiohttp<=3.10.11,>=3.9.0->inference-sdk) (2.6.1)\n",
            "Requirement already satisfied: aiosignal>=1.1.2 in /usr/local/lib/python3.12/dist-packages (from aiohttp<=3.10.11,>=3.9.0->inference-sdk) (1.4.0)\n",
            "Requirement already satisfied: attrs>=17.3.0 in /usr/local/lib/python3.12/dist-packages (from aiohttp<=3.10.11,>=3.9.0->inference-sdk) (25.3.0)\n",
            "Requirement already satisfied: frozenlist>=1.1.1 in /usr/local/lib/python3.12/dist-packages (from aiohttp<=3.10.11,>=3.9.0->inference-sdk) (1.7.0)\n",
            "Requirement already satisfied: multidict<7.0,>=4.5 in /usr/local/lib/python3.12/dist-packages (from aiohttp<=3.10.11,>=3.9.0->inference-sdk) (6.6.4)\n",
            "Requirement already satisfied: yarl<2.0,>=1.12.0 in /usr/local/lib/python3.12/dist-packages (from aiohttp<=3.10.11,>=3.9.0->inference-sdk) (1.20.1)\n",
            "Requirement already satisfied: idna>=2.8 in /usr/local/lib/python3.12/dist-packages (from anyio<5.0,>=3.0->gradio) (3.10)\n",
            "Requirement already satisfied: sniffio>=1.1 in /usr/local/lib/python3.12/dist-packages (from anyio<5.0,>=3.0->gradio) (1.3.1)\n",
            "Collecting marshmallow<4.0.0,>=3.18.0 (from dataclasses-json~=0.6.0->inference-sdk)\n",
            "  Downloading marshmallow-3.26.1-py3-none-any.whl.metadata (7.3 kB)\n",
            "Collecting typing-inspect<1,>=0.4.0 (from dataclasses-json~=0.6.0->inference-sdk)\n",
            "  Downloading typing_inspect-0.9.0-py3-none-any.whl.metadata (1.5 kB)\n",
            "Requirement already satisfied: certifi in /usr/local/lib/python3.12/dist-packages (from httpx<1.0,>=0.24.1->gradio) (2025.8.3)\n",
            "Requirement already satisfied: httpcore==1.* in /usr/local/lib/python3.12/dist-packages (from httpx<1.0,>=0.24.1->gradio) (1.0.9)\n",
            "Requirement already satisfied: h11>=0.16 in /usr/local/lib/python3.12/dist-packages (from httpcore==1.*->httpx<1.0,>=0.24.1->gradio) (0.16.0)\n",
            "Requirement already satisfied: filelock in /usr/local/lib/python3.12/dist-packages (from huggingface-hub<1.0,>=0.33.5->gradio) (3.19.1)\n",
            "Requirement already satisfied: tqdm>=4.42.1 in /usr/local/lib/python3.12/dist-packages (from huggingface-hub<1.0,>=0.33.5->gradio) (4.67.1)\n",
            "Requirement already satisfied: hf-xet<2.0.0,>=1.1.3 in /usr/local/lib/python3.12/dist-packages (from huggingface-hub<1.0,>=0.33.5->gradio) (1.1.9)\n",
            "Requirement already satisfied: python-dateutil>=2.8.2 in /usr/local/lib/python3.12/dist-packages (from pandas<3.0,>=1.0->gradio) (2.9.0.post0)\n",
            "Requirement already satisfied: pytz>=2020.1 in /usr/local/lib/python3.12/dist-packages (from pandas<3.0,>=1.0->gradio) (2025.2)\n",
            "Requirement already satisfied: tzdata>=2022.7 in /usr/local/lib/python3.12/dist-packages (from pandas<3.0,>=1.0->gradio) (2025.2)\n",
            "Requirement already satisfied: annotated-types>=0.6.0 in /usr/local/lib/python3.12/dist-packages (from pydantic<2.12,>=2.0->gradio) (0.7.0)\n",
            "Requirement already satisfied: pydantic-core==2.33.2 in /usr/local/lib/python3.12/dist-packages (from pydantic<2.12,>=2.0->gradio) (2.33.2)\n",
            "Requirement already satisfied: typing-inspection>=0.4.0 in /usr/local/lib/python3.12/dist-packages (from pydantic<2.12,>=2.0->gradio) (0.4.1)\n",
            "Requirement already satisfied: charset_normalizer<4,>=2 in /usr/local/lib/python3.12/dist-packages (from requests<3.0.0,>=2.32.0->inference-sdk) (3.4.3)\n",
            "Requirement already satisfied: urllib3<3,>=1.21.1 in /usr/local/lib/python3.12/dist-packages (from requests<3.0.0,>=2.32.0->inference-sdk) (2.5.0)\n",
            "Requirement already satisfied: scipy>=1.10.0 in /usr/local/lib/python3.12/dist-packages (from supervision>=0.26->inference-sdk) (1.16.1)\n",
            "Requirement already satisfied: matplotlib>=3.6.0 in /usr/local/lib/python3.12/dist-packages (from supervision>=0.26->inference-sdk) (3.10.0)\n",
            "Requirement already satisfied: defusedxml>=0.7.1 in /usr/local/lib/python3.12/dist-packages (from supervision>=0.26->inference-sdk) (0.7.1)\n",
            "Requirement already satisfied: click>=8.0.0 in /usr/local/lib/python3.12/dist-packages (from typer<1.0,>=0.12->gradio) (8.2.1)\n",
            "Requirement already satisfied: shellingham>=1.3.0 in /usr/local/lib/python3.12/dist-packages (from typer<1.0,>=0.12->gradio) (1.5.4)\n",
            "Requirement already satisfied: rich>=10.11.0 in /usr/local/lib/python3.12/dist-packages (from typer<1.0,>=0.12->gradio) (13.9.4)\n",
            "Requirement already satisfied: contourpy>=1.0.1 in /usr/local/lib/python3.12/dist-packages (from matplotlib>=3.6.0->supervision>=0.26->inference-sdk) (1.3.3)\n",
            "Requirement already satisfied: cycler>=0.10 in /usr/local/lib/python3.12/dist-packages (from matplotlib>=3.6.0->supervision>=0.26->inference-sdk) (0.12.1)\n",
            "Requirement already satisfied: fonttools>=4.22.0 in /usr/local/lib/python3.12/dist-packages (from matplotlib>=3.6.0->supervision>=0.26->inference-sdk) (4.59.2)\n",
            "Requirement already satisfied: kiwisolver>=1.3.1 in /usr/local/lib/python3.12/dist-packages (from matplotlib>=3.6.0->supervision>=0.26->inference-sdk) (1.4.9)\n",
            "Requirement already satisfied: pyparsing>=2.3.1 in /usr/local/lib/python3.12/dist-packages (from matplotlib>=3.6.0->supervision>=0.26->inference-sdk) (3.2.3)\n",
            "Requirement already satisfied: six>=1.5 in /usr/local/lib/python3.12/dist-packages (from python-dateutil>=2.8.2->pandas<3.0,>=1.0->gradio) (1.17.0)\n",
            "Requirement already satisfied: markdown-it-py>=2.2.0 in /usr/local/lib/python3.12/dist-packages (from rich>=10.11.0->typer<1.0,>=0.12->gradio) (4.0.0)\n",
            "Requirement already satisfied: pygments<3.0.0,>=2.13.0 in /usr/local/lib/python3.12/dist-packages (from rich>=10.11.0->typer<1.0,>=0.12->gradio) (2.19.2)\n",
            "Collecting mypy-extensions>=0.3.0 (from typing-inspect<1,>=0.4.0->dataclasses-json~=0.6.0->inference-sdk)\n",
            "  Downloading mypy_extensions-1.1.0-py3-none-any.whl.metadata (1.1 kB)\n",
            "Requirement already satisfied: propcache>=0.2.1 in /usr/local/lib/python3.12/dist-packages (from yarl<2.0,>=1.12.0->aiohttp<=3.10.11,>=3.9.0->inference-sdk) (0.3.2)\n",
            "Requirement already satisfied: mdurl~=0.1 in /usr/local/lib/python3.12/dist-packages (from markdown-it-py>=2.2.0->rich>=10.11.0->typer<1.0,>=0.12->gradio) (0.1.2)\n",
            "Downloading inference_sdk-0.56.0-py3-none-any.whl (44 kB)\n",
            "\u001b[2K   \u001b[90m━━━━━━━━━━━━━━━━━━━━━━━━━━━━━━━━━━━━━━━━\u001b[0m \u001b[32m44.1/44.1 kB\u001b[0m \u001b[31m4.0 MB/s\u001b[0m eta \u001b[36m0:00:00\u001b[0m\n",
            "\u001b[?25hDownloading aiohttp-3.10.11-cp312-cp312-manylinux_2_17_x86_64.manylinux2014_x86_64.whl (1.3 MB)\n",
            "\u001b[2K   \u001b[90m━━━━━━━━━━━━━━━━━━━━━━━━━━━━━━━━━━━━━━━━\u001b[0m \u001b[32m1.3/1.3 MB\u001b[0m \u001b[31m33.0 MB/s\u001b[0m eta \u001b[36m0:00:00\u001b[0m\n",
            "\u001b[?25hDownloading backoff-2.2.1-py3-none-any.whl (15 kB)\n",
            "Downloading dataclasses_json-0.6.7-py3-none-any.whl (28 kB)\n",
            "Downloading opencv_python-4.10.0.84-cp37-abi3-manylinux_2_17_x86_64.manylinux2014_x86_64.whl (62.5 MB)\n",
            "\u001b[2K   \u001b[90m━━━━━━━━━━━━━━━━━━━━━━━━━━━━━━━━━━━━━━━━\u001b[0m \u001b[32m62.5/62.5 MB\u001b[0m \u001b[31m13.1 MB/s\u001b[0m eta \u001b[36m0:00:00\u001b[0m\n",
            "\u001b[?25hDownloading supervision-0.26.1-py3-none-any.whl (207 kB)\n",
            "\u001b[2K   \u001b[90m━━━━━━━━━━━━━━━━━━━━━━━━━━━━━━━━━━━━━━━━\u001b[0m \u001b[32m207.2/207.2 kB\u001b[0m \u001b[31m19.5 MB/s\u001b[0m eta \u001b[36m0:00:00\u001b[0m\n",
            "\u001b[?25hDownloading marshmallow-3.26.1-py3-none-any.whl (50 kB)\n",
            "\u001b[2K   \u001b[90m━━━━━━━━━━━━━━━━━━━━━━━━━━━━━━━━━━━━━━━━\u001b[0m \u001b[32m50.9/50.9 kB\u001b[0m \u001b[31m4.6 MB/s\u001b[0m eta \u001b[36m0:00:00\u001b[0m\n",
            "\u001b[?25hDownloading typing_inspect-0.9.0-py3-none-any.whl (8.8 kB)\n",
            "Downloading mypy_extensions-1.1.0-py3-none-any.whl (5.0 kB)\n",
            "Installing collected packages: opencv-python, mypy-extensions, marshmallow, backoff, typing-inspect, aiohttp, supervision, dataclasses-json, inference-sdk\n",
            "  Attempting uninstall: opencv-python\n",
            "    Found existing installation: opencv-python 4.12.0.88\n",
            "    Uninstalling opencv-python-4.12.0.88:\n",
            "      Successfully uninstalled opencv-python-4.12.0.88\n",
            "  Attempting uninstall: aiohttp\n",
            "    Found existing installation: aiohttp 3.12.15\n",
            "    Uninstalling aiohttp-3.12.15:\n",
            "      Successfully uninstalled aiohttp-3.12.15\n",
            "Successfully installed aiohttp-3.10.11 backoff-2.2.1 dataclasses-json-0.6.7 inference-sdk-0.56.0 marshmallow-3.26.1 mypy-extensions-1.1.0 opencv-python-4.10.0.84 supervision-0.26.1 typing-inspect-0.9.0\n"
          ]
        }
      ]
    },
    {
      "cell_type": "code",
      "source": [
        "pip install inference-sdk"
      ],
      "metadata": {
        "colab": {
          "base_uri": "https://localhost:8080/"
        },
        "id": "qEzyKlJhmiux",
        "outputId": "cfa0a7e7-633e-4d6a-8750-3d40c049f3cc"
      },
      "execution_count": null,
      "outputs": [
        {
          "output_type": "stream",
          "name": "stdout",
          "text": [
            "Requirement already satisfied: inference-sdk in /usr/local/lib/python3.12/dist-packages (0.56.0)\n",
            "Requirement already satisfied: requests<3.0.0,>=2.32.0 in /usr/local/lib/python3.12/dist-packages (from inference-sdk) (2.32.4)\n",
            "Requirement already satisfied: dataclasses-json~=0.6.0 in /usr/local/lib/python3.12/dist-packages (from inference-sdk) (0.6.7)\n",
            "Requirement already satisfied: opencv-python<=4.10.0.84,>=4.8.1.78 in /usr/local/lib/python3.12/dist-packages (from inference-sdk) (4.10.0.84)\n",
            "Requirement already satisfied: pillow<12.0,>=11.0 in /usr/local/lib/python3.12/dist-packages (from inference-sdk) (11.3.0)\n",
            "Requirement already satisfied: supervision>=0.26 in /usr/local/lib/python3.12/dist-packages (from inference-sdk) (0.26.1)\n",
            "Requirement already satisfied: numpy<2.3.0,>=2.0.0 in /usr/local/lib/python3.12/dist-packages (from inference-sdk) (2.0.2)\n",
            "Requirement already satisfied: aiohttp<=3.10.11,>=3.9.0 in /usr/local/lib/python3.12/dist-packages (from inference-sdk) (3.10.11)\n",
            "Requirement already satisfied: backoff~=2.2.0 in /usr/local/lib/python3.12/dist-packages (from inference-sdk) (2.2.1)\n",
            "Requirement already satisfied: py-cpuinfo~=9.0.0 in /usr/local/lib/python3.12/dist-packages (from inference-sdk) (9.0.0)\n",
            "Requirement already satisfied: aiohappyeyeballs>=2.3.0 in /usr/local/lib/python3.12/dist-packages (from aiohttp<=3.10.11,>=3.9.0->inference-sdk) (2.6.1)\n",
            "Requirement already satisfied: aiosignal>=1.1.2 in /usr/local/lib/python3.12/dist-packages (from aiohttp<=3.10.11,>=3.9.0->inference-sdk) (1.4.0)\n",
            "Requirement already satisfied: attrs>=17.3.0 in /usr/local/lib/python3.12/dist-packages (from aiohttp<=3.10.11,>=3.9.0->inference-sdk) (25.3.0)\n",
            "Requirement already satisfied: frozenlist>=1.1.1 in /usr/local/lib/python3.12/dist-packages (from aiohttp<=3.10.11,>=3.9.0->inference-sdk) (1.7.0)\n",
            "Requirement already satisfied: multidict<7.0,>=4.5 in /usr/local/lib/python3.12/dist-packages (from aiohttp<=3.10.11,>=3.9.0->inference-sdk) (6.6.4)\n",
            "Requirement already satisfied: yarl<2.0,>=1.12.0 in /usr/local/lib/python3.12/dist-packages (from aiohttp<=3.10.11,>=3.9.0->inference-sdk) (1.20.1)\n",
            "Requirement already satisfied: marshmallow<4.0.0,>=3.18.0 in /usr/local/lib/python3.12/dist-packages (from dataclasses-json~=0.6.0->inference-sdk) (3.26.1)\n",
            "Requirement already satisfied: typing-inspect<1,>=0.4.0 in /usr/local/lib/python3.12/dist-packages (from dataclasses-json~=0.6.0->inference-sdk) (0.9.0)\n",
            "Requirement already satisfied: charset_normalizer<4,>=2 in /usr/local/lib/python3.12/dist-packages (from requests<3.0.0,>=2.32.0->inference-sdk) (3.4.3)\n",
            "Requirement already satisfied: idna<4,>=2.5 in /usr/local/lib/python3.12/dist-packages (from requests<3.0.0,>=2.32.0->inference-sdk) (3.10)\n",
            "Requirement already satisfied: urllib3<3,>=1.21.1 in /usr/local/lib/python3.12/dist-packages (from requests<3.0.0,>=2.32.0->inference-sdk) (2.5.0)\n",
            "Requirement already satisfied: certifi>=2017.4.17 in /usr/local/lib/python3.12/dist-packages (from requests<3.0.0,>=2.32.0->inference-sdk) (2025.8.3)\n",
            "Requirement already satisfied: scipy>=1.10.0 in /usr/local/lib/python3.12/dist-packages (from supervision>=0.26->inference-sdk) (1.16.1)\n",
            "Requirement already satisfied: matplotlib>=3.6.0 in /usr/local/lib/python3.12/dist-packages (from supervision>=0.26->inference-sdk) (3.10.0)\n",
            "Requirement already satisfied: pyyaml>=5.3 in /usr/local/lib/python3.12/dist-packages (from supervision>=0.26->inference-sdk) (6.0.2)\n",
            "Requirement already satisfied: defusedxml>=0.7.1 in /usr/local/lib/python3.12/dist-packages (from supervision>=0.26->inference-sdk) (0.7.1)\n",
            "Requirement already satisfied: tqdm>=4.62.3 in /usr/local/lib/python3.12/dist-packages (from supervision>=0.26->inference-sdk) (4.67.1)\n",
            "Requirement already satisfied: typing-extensions>=4.2 in /usr/local/lib/python3.12/dist-packages (from aiosignal>=1.1.2->aiohttp<=3.10.11,>=3.9.0->inference-sdk) (4.15.0)\n",
            "Requirement already satisfied: packaging>=17.0 in /usr/local/lib/python3.12/dist-packages (from marshmallow<4.0.0,>=3.18.0->dataclasses-json~=0.6.0->inference-sdk) (25.0)\n",
            "Requirement already satisfied: contourpy>=1.0.1 in /usr/local/lib/python3.12/dist-packages (from matplotlib>=3.6.0->supervision>=0.26->inference-sdk) (1.3.3)\n",
            "Requirement already satisfied: cycler>=0.10 in /usr/local/lib/python3.12/dist-packages (from matplotlib>=3.6.0->supervision>=0.26->inference-sdk) (0.12.1)\n",
            "Requirement already satisfied: fonttools>=4.22.0 in /usr/local/lib/python3.12/dist-packages (from matplotlib>=3.6.0->supervision>=0.26->inference-sdk) (4.59.2)\n",
            "Requirement already satisfied: kiwisolver>=1.3.1 in /usr/local/lib/python3.12/dist-packages (from matplotlib>=3.6.0->supervision>=0.26->inference-sdk) (1.4.9)\n",
            "Requirement already satisfied: pyparsing>=2.3.1 in /usr/local/lib/python3.12/dist-packages (from matplotlib>=3.6.0->supervision>=0.26->inference-sdk) (3.2.3)\n",
            "Requirement already satisfied: python-dateutil>=2.7 in /usr/local/lib/python3.12/dist-packages (from matplotlib>=3.6.0->supervision>=0.26->inference-sdk) (2.9.0.post0)\n",
            "Requirement already satisfied: mypy-extensions>=0.3.0 in /usr/local/lib/python3.12/dist-packages (from typing-inspect<1,>=0.4.0->dataclasses-json~=0.6.0->inference-sdk) (1.1.0)\n",
            "Requirement already satisfied: propcache>=0.2.1 in /usr/local/lib/python3.12/dist-packages (from yarl<2.0,>=1.12.0->aiohttp<=3.10.11,>=3.9.0->inference-sdk) (0.3.2)\n",
            "Requirement already satisfied: six>=1.5 in /usr/local/lib/python3.12/dist-packages (from python-dateutil>=2.7->matplotlib>=3.6.0->supervision>=0.26->inference-sdk) (1.17.0)\n"
          ]
        }
      ]
    },
    {
      "cell_type": "code",
      "source": [
        "import gradio as gr\n",
        "from inference_sdk import InferenceHTTPClient\n",
        "\n",
        "# -----------------------------\n",
        "# CONFIGURATION\n",
        "# -----------------------------\n",
        "CLIENT = InferenceHTTPClient(\n",
        "    api_url=\"https://serverless.roboflow.com\",\n",
        "    api_key=\"7DbiKWzKS99H2vHwftND\"  # 👈 Use your own key (already public in your screenshot)\n",
        ")\n",
        "\n",
        "MODEL_ID = \"crop-disease-identification/9\"\n",
        "\n",
        "# -----------------------------\n",
        "# INFERENCE FUNCTION\n",
        "# -----------------------------\n",
        "def predict(image):\n",
        "    try:\n",
        "        result = CLIENT.infer(image, model_id=MODEL_ID)\n",
        "        predictions = result.get(\"predictions\", [])\n",
        "\n",
        "        if not predictions:\n",
        "            return \"✅ No disease or pest detected.\"\n",
        "\n",
        "        output = \"🔍 **Predictions:**\\n\"\n",
        "        for pred in predictions:\n",
        "            cls = pred['class']\n",
        "            conf = round(pred['confidence'] * 100, 2)\n",
        "            output += f\"- {cls} ({conf}%)\\n\"\n",
        "\n",
        "        return output\n",
        "\n",
        "    except Exception as e:\n",
        "        return f\"❌ Error: {str(e)}\"\n",
        "\n",
        "# -----------------------------\n",
        "# GRADIO UI\n",
        "# -----------------------------\n",
        "demo = gr.Interface(\n",
        "    fn=predict,\n",
        "    inputs=gr.Image(type=\"filepath\", label=\"Upload Plant Image\"),\n",
        "    outputs=gr.Markdown(label=\"Results\"),\n",
        "    title=\"🌿 Crop Disease Detection (Roboflow Model)\",\n",
        "    description=\"Upload a plant image and get disease/pest predictions using a Roboflow-hosted model.\",\n",
        ")\n",
        "\n",
        "demo.launch()\n"
      ],
      "metadata": {
        "colab": {
          "base_uri": "https://localhost:8080/",
          "height": 650
        },
        "id": "uj5AMqQumra-",
        "outputId": "35f94d7f-f444-4d6b-fac9-069efa5c96f6"
      },
      "execution_count": null,
      "outputs": [
        {
          "output_type": "stream",
          "name": "stdout",
          "text": [
            "It looks like you are running Gradio on a hosted Jupyter notebook, which requires `share=True`. Automatically setting `share=True` (you can turn this off by setting `share=False` in `launch()` explicitly).\n",
            "\n",
            "Colab notebook detected. To show errors in colab notebook, set debug=True in launch()\n",
            "* Running on public URL: https://764707813793d6881e.gradio.live\n",
            "\n",
            "This share link expires in 1 week. For free permanent hosting and GPU upgrades, run `gradio deploy` from the terminal in the working directory to deploy to Hugging Face Spaces (https://huggingface.co/spaces)\n"
          ]
        },
        {
          "output_type": "display_data",
          "data": {
            "text/plain": [
              "<IPython.core.display.HTML object>"
            ],
            "text/html": [
              "<div><iframe src=\"https://764707813793d6881e.gradio.live\" width=\"100%\" height=\"500\" allow=\"autoplay; camera; microphone; clipboard-read; clipboard-write;\" frameborder=\"0\" allowfullscreen></iframe></div>"
            ]
          },
          "metadata": {}
        },
        {
          "output_type": "execute_result",
          "data": {
            "text/plain": []
          },
          "metadata": {},
          "execution_count": 6
        }
      ]
    },
    {
      "cell_type": "code",
      "source": [
        "from inference_sdk import InferenceHTTPClient\n",
        "\n",
        "# Your Roboflow config\n",
        "CLIENT = InferenceHTTPClient(\n",
        "    api_url=\"https://serverless.roboflow.com\",\n",
        "    api_key=\"7DbiKWzKS99H2vHwftND\"  # ← your API key\n",
        ")\n",
        "\n",
        "MODEL_ID = \"crop-disease-identification/9\"\n",
        "\n",
        "# Just call with a sample hosted image\n",
        "result = CLIENT.infer(\n",
        "    \"https://i.imgur.com/1n7f0aA.jpg\",  # ← A tomato leaf with disease\n",
        "    model_id=MODEL_ID\n",
        ")\n",
        "\n",
        "print(result)\n"
      ],
      "metadata": {
        "colab": {
          "base_uri": "https://localhost:8080/",
          "height": 426
        },
        "id": "c54cGFn8mzk2",
        "outputId": "deb589b6-45a0-4122-89da-bb19778d49e5"
      },
      "execution_count": null,
      "outputs": [
        {
          "output_type": "error",
          "ename": "HTTPCallErrorError",
          "evalue": "HTTPCallErrorError(description='429 Client Error: Unknown Error for url: https://i.imgur.com/1n7f0aA.jpg', api_message='',status_code=429)",
          "traceback": [
            "\u001b[0;31m---------------------------------------------------------------------------\u001b[0m",
            "\u001b[0;31mHTTPError\u001b[0m                                 Traceback (most recent call last)",
            "\u001b[0;32m/usr/local/lib/python3.12/dist-packages/inference_sdk/http/client.py\u001b[0m in \u001b[0;36mdecorate\u001b[0;34m(*args, **kwargs)\u001b[0m\n\u001b[1;32m     95\u001b[0m         \u001b[0;32mtry\u001b[0m\u001b[0;34m:\u001b[0m\u001b[0;34m\u001b[0m\u001b[0;34m\u001b[0m\u001b[0m\n\u001b[0;32m---> 96\u001b[0;31m             \u001b[0;32mreturn\u001b[0m \u001b[0mfunction\u001b[0m\u001b[0;34m(\u001b[0m\u001b[0;34m*\u001b[0m\u001b[0margs\u001b[0m\u001b[0;34m,\u001b[0m \u001b[0;34m**\u001b[0m\u001b[0mkwargs\u001b[0m\u001b[0;34m)\u001b[0m\u001b[0;34m\u001b[0m\u001b[0;34m\u001b[0m\u001b[0m\n\u001b[0m\u001b[1;32m     97\u001b[0m         \u001b[0;32mexcept\u001b[0m \u001b[0mRetryError\u001b[0m \u001b[0;32mas\u001b[0m \u001b[0merror\u001b[0m\u001b[0;34m:\u001b[0m\u001b[0;34m\u001b[0m\u001b[0;34m\u001b[0m\u001b[0m\n",
            "\u001b[0;32m/usr/local/lib/python3.12/dist-packages/inference_sdk/http/client.py\u001b[0m in \u001b[0;36minfer\u001b[0;34m(self, inference_input, model_id)\u001b[0m\n\u001b[1;32m    412\u001b[0m         \u001b[0;32mif\u001b[0m \u001b[0mself\u001b[0m\u001b[0;34m.\u001b[0m\u001b[0m__client_mode\u001b[0m \u001b[0;32mis\u001b[0m \u001b[0mHTTPClientMode\u001b[0m\u001b[0;34m.\u001b[0m\u001b[0mV0\u001b[0m\u001b[0;34m:\u001b[0m\u001b[0;34m\u001b[0m\u001b[0;34m\u001b[0m\u001b[0m\n\u001b[0;32m--> 413\u001b[0;31m             return self.infer_from_api_v0(\n\u001b[0m\u001b[1;32m    414\u001b[0m                 \u001b[0minference_input\u001b[0m\u001b[0;34m=\u001b[0m\u001b[0minference_input\u001b[0m\u001b[0;34m,\u001b[0m\u001b[0;34m\u001b[0m\u001b[0;34m\u001b[0m\u001b[0m\n",
            "\u001b[0;32m/usr/local/lib/python3.12/dist-packages/inference_sdk/http/client.py\u001b[0m in \u001b[0;36minfer_from_api_v0\u001b[0;34m(self, inference_input, model_id)\u001b[0m\n\u001b[1;32m    483\u001b[0m         )\n\u001b[0;32m--> 484\u001b[0;31m         encoded_inference_inputs = load_static_inference_input(\n\u001b[0m\u001b[1;32m    485\u001b[0m             \u001b[0minference_input\u001b[0m\u001b[0;34m=\u001b[0m\u001b[0minference_input\u001b[0m\u001b[0;34m,\u001b[0m\u001b[0;34m\u001b[0m\u001b[0;34m\u001b[0m\u001b[0m\n",
            "\u001b[0;32m/usr/local/lib/python3.12/dist-packages/inference_sdk/http/utils/loaders.py\u001b[0m in \u001b[0;36mload_static_inference_input\u001b[0;34m(inference_input, max_height, max_width)\u001b[0m\n\u001b[1;32m    133\u001b[0m         return [\n\u001b[0;32m--> 134\u001b[0;31m             load_image_from_string(\n\u001b[0m\u001b[1;32m    135\u001b[0m                 \u001b[0mreference\u001b[0m\u001b[0;34m=\u001b[0m\u001b[0minference_input\u001b[0m\u001b[0;34m,\u001b[0m \u001b[0mmax_height\u001b[0m\u001b[0;34m=\u001b[0m\u001b[0mmax_height\u001b[0m\u001b[0;34m,\u001b[0m \u001b[0mmax_width\u001b[0m\u001b[0;34m=\u001b[0m\u001b[0mmax_width\u001b[0m\u001b[0;34m\u001b[0m\u001b[0;34m\u001b[0m\u001b[0m\n",
            "\u001b[0;32m/usr/local/lib/python3.12/dist-packages/inference_sdk/http/utils/loaders.py\u001b[0m in \u001b[0;36mload_image_from_string\u001b[0;34m(reference, max_height, max_width)\u001b[0m\n\u001b[1;32m    223\u001b[0m     \u001b[0;32mif\u001b[0m \u001b[0muri_is_http_link\u001b[0m\u001b[0;34m(\u001b[0m\u001b[0muri\u001b[0m\u001b[0;34m=\u001b[0m\u001b[0mreference\u001b[0m\u001b[0;34m)\u001b[0m\u001b[0;34m:\u001b[0m\u001b[0;34m\u001b[0m\u001b[0;34m\u001b[0m\u001b[0m\n\u001b[0;32m--> 224\u001b[0;31m         return load_image_from_url(\n\u001b[0m\u001b[1;32m    225\u001b[0m             \u001b[0murl\u001b[0m\u001b[0;34m=\u001b[0m\u001b[0mreference\u001b[0m\u001b[0;34m,\u001b[0m \u001b[0mmax_height\u001b[0m\u001b[0;34m=\u001b[0m\u001b[0mmax_height\u001b[0m\u001b[0;34m,\u001b[0m \u001b[0mmax_width\u001b[0m\u001b[0;34m=\u001b[0m\u001b[0mmax_width\u001b[0m\u001b[0;34m\u001b[0m\u001b[0;34m\u001b[0m\u001b[0m\n",
            "\u001b[0;32m/usr/local/lib/python3.12/dist-packages/inference_sdk/http/utils/loaders.py\u001b[0m in \u001b[0;36mload_image_from_url\u001b[0;34m(url, max_height, max_width)\u001b[0m\n\u001b[1;32m    310\u001b[0m     \u001b[0mresponse\u001b[0m \u001b[0;34m=\u001b[0m \u001b[0mrequests\u001b[0m\u001b[0;34m.\u001b[0m\u001b[0mget\u001b[0m\u001b[0;34m(\u001b[0m\u001b[0murl\u001b[0m\u001b[0;34m)\u001b[0m\u001b[0;34m\u001b[0m\u001b[0;34m\u001b[0m\u001b[0m\n\u001b[0;32m--> 311\u001b[0;31m     \u001b[0mresponse\u001b[0m\u001b[0;34m.\u001b[0m\u001b[0mraise_for_status\u001b[0m\u001b[0;34m(\u001b[0m\u001b[0;34m)\u001b[0m\u001b[0;34m\u001b[0m\u001b[0;34m\u001b[0m\u001b[0m\n\u001b[0m\u001b[1;32m    312\u001b[0m     \u001b[0;32mif\u001b[0m \u001b[0mmax_height\u001b[0m \u001b[0;32mis\u001b[0m \u001b[0;32mNone\u001b[0m \u001b[0;32mor\u001b[0m \u001b[0mmax_width\u001b[0m \u001b[0;32mis\u001b[0m \u001b[0;32mNone\u001b[0m\u001b[0;34m:\u001b[0m\u001b[0;34m\u001b[0m\u001b[0;34m\u001b[0m\u001b[0m\n",
            "\u001b[0;32m/usr/local/lib/python3.12/dist-packages/requests/models.py\u001b[0m in \u001b[0;36mraise_for_status\u001b[0;34m(self)\u001b[0m\n\u001b[1;32m   1025\u001b[0m         \u001b[0;32mif\u001b[0m \u001b[0mhttp_error_msg\u001b[0m\u001b[0;34m:\u001b[0m\u001b[0;34m\u001b[0m\u001b[0;34m\u001b[0m\u001b[0m\n\u001b[0;32m-> 1026\u001b[0;31m             \u001b[0;32mraise\u001b[0m \u001b[0mHTTPError\u001b[0m\u001b[0;34m(\u001b[0m\u001b[0mhttp_error_msg\u001b[0m\u001b[0;34m,\u001b[0m \u001b[0mresponse\u001b[0m\u001b[0;34m=\u001b[0m\u001b[0mself\u001b[0m\u001b[0;34m)\u001b[0m\u001b[0;34m\u001b[0m\u001b[0;34m\u001b[0m\u001b[0m\n\u001b[0m\u001b[1;32m   1027\u001b[0m \u001b[0;34m\u001b[0m\u001b[0m\n",
            "\u001b[0;31mHTTPError\u001b[0m: 429 Client Error: Unknown Error for url: https://i.imgur.com/1n7f0aA.jpg",
            "\nThe above exception was the direct cause of the following exception:\n",
            "\u001b[0;31mHTTPCallErrorError\u001b[0m                        Traceback (most recent call last)",
            "\u001b[0;32m/tmp/ipython-input-33977143.py\u001b[0m in \u001b[0;36m<cell line: 0>\u001b[0;34m()\u001b[0m\n\u001b[1;32m     10\u001b[0m \u001b[0;34m\u001b[0m\u001b[0m\n\u001b[1;32m     11\u001b[0m \u001b[0;31m# Just call with a sample hosted image\u001b[0m\u001b[0;34m\u001b[0m\u001b[0;34m\u001b[0m\u001b[0m\n\u001b[0;32m---> 12\u001b[0;31m result = CLIENT.infer(\n\u001b[0m\u001b[1;32m     13\u001b[0m     \u001b[0;34m\"https://i.imgur.com/1n7f0aA.jpg\"\u001b[0m\u001b[0;34m,\u001b[0m  \u001b[0;31m# ← A tomato leaf with disease\u001b[0m\u001b[0;34m\u001b[0m\u001b[0;34m\u001b[0m\u001b[0m\n\u001b[1;32m     14\u001b[0m     \u001b[0mmodel_id\u001b[0m\u001b[0;34m=\u001b[0m\u001b[0mMODEL_ID\u001b[0m\u001b[0;34m\u001b[0m\u001b[0;34m\u001b[0m\u001b[0m\n",
            "\u001b[0;32m/usr/local/lib/python3.12/dist-packages/inference_sdk/http/client.py\u001b[0m in \u001b[0;36mdecorate\u001b[0;34m(*args, **kwargs)\u001b[0m\n\u001b[1;32m    115\u001b[0m             \u001b[0;32melse\u001b[0m\u001b[0;34m:\u001b[0m\u001b[0;34m\u001b[0m\u001b[0;34m\u001b[0m\u001b[0m\n\u001b[1;32m    116\u001b[0m                 \u001b[0mapi_message\u001b[0m \u001b[0;34m=\u001b[0m \u001b[0merror\u001b[0m\u001b[0;34m.\u001b[0m\u001b[0mresponse\u001b[0m\u001b[0;34m.\u001b[0m\u001b[0mtext\u001b[0m\u001b[0;34m\u001b[0m\u001b[0;34m\u001b[0m\u001b[0m\n\u001b[0;32m--> 117\u001b[0;31m             raise HTTPCallErrorError(\n\u001b[0m\u001b[1;32m    118\u001b[0m                 \u001b[0mdescription\u001b[0m\u001b[0;34m=\u001b[0m\u001b[0mstr\u001b[0m\u001b[0;34m(\u001b[0m\u001b[0merror\u001b[0m\u001b[0;34m)\u001b[0m\u001b[0;34m,\u001b[0m\u001b[0;34m\u001b[0m\u001b[0;34m\u001b[0m\u001b[0m\n\u001b[1;32m    119\u001b[0m                 \u001b[0mstatus_code\u001b[0m\u001b[0;34m=\u001b[0m\u001b[0merror\u001b[0m\u001b[0;34m.\u001b[0m\u001b[0mresponse\u001b[0m\u001b[0;34m.\u001b[0m\u001b[0mstatus_code\u001b[0m\u001b[0;34m,\u001b[0m\u001b[0;34m\u001b[0m\u001b[0;34m\u001b[0m\u001b[0m\n",
            "\u001b[0;31mHTTPCallErrorError\u001b[0m: HTTPCallErrorError(description='429 Client Error: Unknown Error for url: https://i.imgur.com/1n7f0aA.jpg', api_message='',status_code=429)"
          ]
        }
      ]
    },
    {
      "cell_type": "code",
      "source": [
        "from inference_sdk import InferenceHTTPClient\n",
        "\n",
        "# Your Roboflow config\n",
        "CLIENT = InferenceHTTPClient(\n",
        "    api_url=\"https://serverless.roboflow.com\",\n",
        "    api_key=\"7DbiKWzKS99H2vHwftND\"\n",
        ")\n",
        "\n",
        "MODEL_ID = \"crop-disease-identification/9\"\n",
        "\n",
        "# Local image path (make sure the file exists in the same directory)\n",
        "image_path = \"/content/Screenshot 2025-09-20 154532.jpg\"  # 👈 change this if your file has a different name\n",
        "\n",
        "# Call with local image path\n",
        "result = CLIENT.infer(image_path, model_id=MODEL_ID)\n",
        "\n",
        "# Print predictions\n",
        "print(result)"
      ],
      "metadata": {
        "colab": {
          "base_uri": "https://localhost:8080/"
        },
        "id": "YN1SsoySoQBP",
        "outputId": "55896b31-bb4a-4e9c-c859-601565535c62"
      },
      "execution_count": null,
      "outputs": [
        {
          "output_type": "stream",
          "name": "stdout",
          "text": [
            "{'inference_id': 'e4befbad-2eb8-43c3-8f0d-a28c721949ef', 'time': 0.013402787000813987, 'image': {'width': 717, 'height': 394}, 'predictions': []}\n"
          ]
        }
      ]
    },
    {
      "cell_type": "code",
      "source": [
        "result = CLIENT.infer(\n",
        "    \"leaf.jpg\",\n",
        "    model_id=\"crop-disease-identification/9\",  # 👈 lower threshold\n",
        ")"
      ],
      "metadata": {
        "colab": {
          "base_uri": "https://localhost:8080/",
          "height": 347
        },
        "id": "UTiXp0PKrmZG",
        "outputId": "dcd05055-effc-45ad-a00c-1d31a73dd988"
      },
      "execution_count": null,
      "outputs": [
        {
          "output_type": "error",
          "ename": "TypeError",
          "evalue": "InferenceHTTPClient.infer() got an unexpected keyword argument 'confidence'",
          "traceback": [
            "\u001b[0;31m---------------------------------------------------------------------------\u001b[0m",
            "\u001b[0;31mTypeError\u001b[0m                                 Traceback (most recent call last)",
            "\u001b[0;32m/tmp/ipython-input-3076859308.py\u001b[0m in \u001b[0;36m<cell line: 0>\u001b[0;34m()\u001b[0m\n\u001b[0;32m----> 1\u001b[0;31m result = CLIENT.infer(\n\u001b[0m\u001b[1;32m      2\u001b[0m     \u001b[0;34m\"leaf.jpg\"\u001b[0m\u001b[0;34m,\u001b[0m\u001b[0;34m\u001b[0m\u001b[0;34m\u001b[0m\u001b[0m\n\u001b[1;32m      3\u001b[0m     \u001b[0mmodel_id\u001b[0m\u001b[0;34m=\u001b[0m\u001b[0;34m\"crop-disease-identification/9\"\u001b[0m\u001b[0;34m,\u001b[0m\u001b[0;34m\u001b[0m\u001b[0;34m\u001b[0m\u001b[0m\n\u001b[1;32m      4\u001b[0m     \u001b[0mconfidence\u001b[0m\u001b[0;34m=\u001b[0m\u001b[0;36m0.01\u001b[0m  \u001b[0;31m# 👈 lower threshold\u001b[0m\u001b[0;34m\u001b[0m\u001b[0;34m\u001b[0m\u001b[0m\n\u001b[1;32m      5\u001b[0m )\n",
            "\u001b[0;32m/usr/local/lib/python3.12/dist-packages/inference_sdk/http/client.py\u001b[0m in \u001b[0;36mdecorate\u001b[0;34m(*args, **kwargs)\u001b[0m\n\u001b[1;32m     94\u001b[0m     \u001b[0;32mdef\u001b[0m \u001b[0mdecorate\u001b[0m\u001b[0;34m(\u001b[0m\u001b[0;34m*\u001b[0m\u001b[0margs\u001b[0m\u001b[0;34m,\u001b[0m \u001b[0;34m**\u001b[0m\u001b[0mkwargs\u001b[0m\u001b[0;34m)\u001b[0m \u001b[0;34m->\u001b[0m \u001b[0mAny\u001b[0m\u001b[0;34m:\u001b[0m\u001b[0;34m\u001b[0m\u001b[0;34m\u001b[0m\u001b[0m\n\u001b[1;32m     95\u001b[0m         \u001b[0;32mtry\u001b[0m\u001b[0;34m:\u001b[0m\u001b[0;34m\u001b[0m\u001b[0;34m\u001b[0m\u001b[0m\n\u001b[0;32m---> 96\u001b[0;31m             \u001b[0;32mreturn\u001b[0m \u001b[0mfunction\u001b[0m\u001b[0;34m(\u001b[0m\u001b[0;34m*\u001b[0m\u001b[0margs\u001b[0m\u001b[0;34m,\u001b[0m \u001b[0;34m**\u001b[0m\u001b[0mkwargs\u001b[0m\u001b[0;34m)\u001b[0m\u001b[0;34m\u001b[0m\u001b[0;34m\u001b[0m\u001b[0m\n\u001b[0m\u001b[1;32m     97\u001b[0m         \u001b[0;32mexcept\u001b[0m \u001b[0mRetryError\u001b[0m \u001b[0;32mas\u001b[0m \u001b[0merror\u001b[0m\u001b[0;34m:\u001b[0m\u001b[0;34m\u001b[0m\u001b[0;34m\u001b[0m\u001b[0m\n\u001b[1;32m     98\u001b[0m             \u001b[0;32mif\u001b[0m \u001b[0merror\u001b[0m\u001b[0;34m.\u001b[0m\u001b[0mstatus_code\u001b[0m \u001b[0;32mis\u001b[0m \u001b[0;32mnot\u001b[0m \u001b[0;32mNone\u001b[0m\u001b[0;34m:\u001b[0m\u001b[0;34m\u001b[0m\u001b[0;34m\u001b[0m\u001b[0m\n",
            "\u001b[0;31mTypeError\u001b[0m: InferenceHTTPClient.infer() got an unexpected keyword argument 'confidence'"
          ]
        }
      ]
    },
    {
      "cell_type": "code",
      "source": [
        "import requests\n",
        "\n",
        "image_path = \"/content/Screenshot 2025-09-20 154532.jpg\"\n",
        "api_key = \"7DbiKWzKS99H2vHwftND\"\n",
        "model = \"crop-disease-identification\"\n",
        "version = \"9\"\n",
        "\n",
        "url = f\"https://detect.roboflow.com/{model}/{version}?api_key={api_key}&confidence=0.01\"\n",
        "\n",
        "with open(image_path, \"rb\") as f:\n",
        "    response = requests.post(url, files={\"file\": f})\n",
        "\n",
        "print(response.json())\n"
      ],
      "metadata": {
        "colab": {
          "base_uri": "https://localhost:8080/"
        },
        "id": "2-BD9lk4rnhj",
        "outputId": "ad54d16c-cd67-4ce5-f9f2-b4a88cbb7222"
      },
      "execution_count": null,
      "outputs": [
        {
          "output_type": "stream",
          "name": "stdout",
          "text": [
            "{'inference_id': '6a62ff3b-4c75-4585-9195-10ec05af9b59', 'time': 0.20975607599939394, 'image': {'width': 717, 'height': 394}, 'predictions': [{'x': 573.0, 'y': 196.0, 'width': 284.0, 'height': 390.0, 'confidence': 0.28574880957603455, 'class': 'cucumber leaf - healthy', 'points': [{'x': 431.3202819824219, 'y': 1.8468750715255737}, {'x': 431.3202819824219, 'y': 187.765625}, {'x': 432.44061279296875, 'y': 188.38125610351562}, {'x': 438.04217529296875, 'y': 188.38125610351562}, {'x': 439.1624755859375, 'y': 187.765625}, {'x': 440.2828063964844, 'y': 187.765625}, {'x': 440.2828063964844, 'y': 187.15000915527344}, {'x': 441.4031066894531, 'y': 186.5343780517578}, {'x': 441.4031066894531, 'y': 185.91876220703125}, {'x': 442.5234069824219, 'y': 185.30313110351562}, {'x': 443.64373779296875, 'y': 185.30313110351562}, {'x': 444.7640380859375, 'y': 184.6875}, {'x': 445.8843688964844, 'y': 184.6875}, {'x': 447.0046691894531, 'y': 185.30313110351562}, {'x': 449.24530029296875, 'y': 185.30313110351562}, {'x': 450.3656005859375, 'y': 185.91876220703125}, {'x': 451.4859313964844, 'y': 185.30313110351562}, {'x': 457.0874938964844, 'y': 185.30313110351562}, {'x': 458.2077941894531, 'y': 185.91876220703125}, {'x': 459.3280944824219, 'y': 185.30313110351562}, {'x': 460.44842529296875, 'y': 185.30313110351562}, {'x': 462.6890563964844, 'y': 184.07188415527344}, {'x': 464.9296569824219, 'y': 184.07188415527344}, {'x': 466.04998779296875, 'y': 184.6875}, {'x': 468.2906188964844, 'y': 184.6875}, {'x': 469.4109191894531, 'y': 185.30313110351562}, {'x': 469.4109191894531, 'y': 185.91876220703125}, {'x': 470.5312194824219, 'y': 186.5343780517578}, {'x': 470.5312194824219, 'y': 193.30625915527344}, {'x': 469.4109191894531, 'y': 193.921875}, {'x': 469.4109191894531, 'y': 195.7687530517578}, {'x': 467.1702880859375, 'y': 197.0}, {'x': 467.1702880859375, 'y': 198.23126220703125}, {'x': 466.04998779296875, 'y': 198.8468780517578}, {'x': 466.04998779296875, 'y': 200.69375610351562}, {'x': 464.9296569824219, 'y': 201.30938720703125}, {'x': 464.9296569824219, 'y': 202.54063415527344}, {'x': 463.8093566894531, 'y': 203.15626525878906}, {'x': 463.8093566894531, 'y': 203.77188110351562}, {'x': 461.5687255859375, 'y': 205.0031280517578}, {'x': 461.5687255859375, 'y': 206.85000610351562}, {'x': 460.44842529296875, 'y': 207.46563720703125}, {'x': 460.44842529296875, 'y': 208.0812530517578}, {'x': 459.3280944824219, 'y': 208.69688415527344}, {'x': 459.3280944824219, 'y': 209.31251525878906}, {'x': 458.2077941894531, 'y': 209.92813110351562}, {'x': 458.2077941894531, 'y': 210.54376220703125}, {'x': 457.0874938964844, 'y': 211.1593780517578}, {'x': 457.0874938964844, 'y': 211.77500915527344}, {'x': 455.9671630859375, 'y': 212.39064025878906}, {'x': 455.9671630859375, 'y': 213.00625610351562}, {'x': 454.84686279296875, 'y': 213.62188720703125}, {'x': 454.84686279296875, 'y': 214.2375030517578}, {'x': 453.7265319824219, 'y': 214.85313415527344}, {'x': 453.7265319824219, 'y': 215.46876525878906}, {'x': 449.24530029296875, 'y': 217.93125915527344}, {'x': 449.24530029296875, 'y': 218.54689025878906}, {'x': 440.2828063964844, 'y': 223.4718780517578}, {'x': 440.2828063964844, 'y': 224.08750915527344}, {'x': 439.1624755859375, 'y': 224.70314025878906}, {'x': 439.1624755859375, 'y': 225.31875610351562}, {'x': 433.5609130859375, 'y': 228.39688110351562}, {'x': 433.5609130859375, 'y': 229.01251220703125}, {'x': 432.44061279296875, 'y': 229.6281280517578}, {'x': 431.3202819824219, 'y': 229.6281280517578}, {'x': 431.3202819824219, 'y': 390.921875}, {'x': 470.5312194824219, 'y': 390.921875}, {'x': 470.5312194824219, 'y': 388.4593811035156}, {'x': 469.4109191894531, 'y': 387.84375}, {'x': 470.5312194824219, 'y': 387.2281494140625}, {'x': 470.5312194824219, 'y': 386.6125183105469}, {'x': 472.7718505859375, 'y': 385.3812561035156}, {'x': 476.1327819824219, 'y': 387.2281494140625}, {'x': 476.1327819824219, 'y': 387.84375}, {'x': 477.25311279296875, 'y': 388.4593811035156}, {'x': 477.25311279296875, 'y': 389.07501220703125}, {'x': 478.3734130859375, 'y': 389.6906433105469}, {'x': 478.3734130859375, 'y': 390.921875}, {'x': 714.7593383789062, 'y': 390.921875}, {'x': 714.7593383789062, 'y': 285.0343933105469}, {'x': 713.6390380859375, 'y': 285.6500244140625}, {'x': 713.6390380859375, 'y': 286.265625}, {'x': 710.278076171875, 'y': 288.1125183105469}, {'x': 706.9171752929688, 'y': 288.1125183105469}, {'x': 705.796875, 'y': 287.49688720703125}, {'x': 699.074951171875, 'y': 287.49688720703125}, {'x': 697.9546508789062, 'y': 288.1125183105469}, {'x': 695.7140502929688, 'y': 288.1125183105469}, {'x': 694.59375, 'y': 287.49688720703125}, {'x': 694.59375, 'y': 286.8812561035156}, {'x': 695.7140502929688, 'y': 286.265625}, {'x': 695.7140502929688, 'y': 285.6500244140625}, {'x': 696.8343505859375, 'y': 285.0343933105469}, {'x': 697.9546508789062, 'y': 285.0343933105469}, {'x': 700.1953125, 'y': 283.8031311035156}, {'x': 701.3156127929688, 'y': 283.8031311035156}, {'x': 703.5562133789062, 'y': 285.0343933105469}, {'x': 705.796875, 'y': 285.0343933105469}, {'x': 705.796875, 'y': 283.8031311035156}, {'x': 703.5562133789062, 'y': 282.5718994140625}, {'x': 703.5562133789062, 'y': 281.34063720703125}, {'x': 702.4359130859375, 'y': 280.7250061035156}, {'x': 702.4359130859375, 'y': 277.03125}, {'x': 701.3156127929688, 'y': 276.4156494140625}, {'x': 701.3156127929688, 'y': 273.3375244140625}, {'x': 702.4359130859375, 'y': 272.7218933105469}, {'x': 702.4359130859375, 'y': 271.4906311035156}, {'x': 701.3156127929688, 'y': 270.875}, {'x': 700.1953125, 'y': 270.875}, {'x': 699.074951171875, 'y': 271.4906311035156}, {'x': 697.9546508789062, 'y': 271.4906311035156}, {'x': 694.59375, 'y': 273.3375244140625}, {'x': 694.59375, 'y': 273.953125}, {'x': 693.473388671875, 'y': 274.5687561035156}, {'x': 692.3530883789062, 'y': 274.5687561035156}, {'x': 691.2327880859375, 'y': 275.18438720703125}, {'x': 690.1124877929688, 'y': 275.18438720703125}, {'x': 688.9921875, 'y': 275.8000183105469}, {'x': 685.6312255859375, 'y': 275.8000183105469}, {'x': 683.390625, 'y': 274.5687561035156}, {'x': 685.6312255859375, 'y': 273.3375244140625}, {'x': 686.7515258789062, 'y': 273.3375244140625}, {'x': 687.871826171875, 'y': 272.7218933105469}, {'x': 688.9921875, 'y': 272.7218933105469}, {'x': 690.1124877929688, 'y': 272.10626220703125}, {'x': 690.1124877929688, 'y': 271.4906311035156}, {'x': 695.7140502929688, 'y': 268.4125061035156}, {'x': 696.8343505859375, 'y': 268.4125061035156}, {'x': 697.9546508789062, 'y': 267.796875}, {'x': 699.074951171875, 'y': 267.796875}, {'x': 703.5562133789062, 'y': 265.3343811035156}, {'x': 703.5562133789062, 'y': 264.71875}, {'x': 705.796875, 'y': 263.4875183105469}, {'x': 708.0374755859375, 'y': 263.4875183105469}, {'x': 709.1577758789062, 'y': 262.87188720703125}, {'x': 710.278076171875, 'y': 262.87188720703125}, {'x': 714.7593383789062, 'y': 260.4093933105469}, {'x': 714.7593383789062, 'y': 1.8468750715255737}], 'class_id': 2, 'detection_id': '7b554997-d082-4c90-abe6-c03a5b223afe'}, {'x': 271.5, 'y': 321.0, 'width': 83.0, 'height': 146.0, 'confidence': 0.14200930297374725, 'class': 'cucumber veggie - healthy', 'points': [{'x': 230.78436279296875, 'y': 248.0968780517578}, {'x': 230.78436279296875, 'y': 393.3843994140625}, {'x': 312.5671691894531, 'y': 393.3843994140625}, {'x': 312.5671691894531, 'y': 381.6875}, {'x': 310.3265380859375, 'y': 380.4562683105469}, {'x': 310.3265380859375, 'y': 377.3781433105469}, {'x': 308.0859375, 'y': 376.1468811035156}, {'x': 308.0859375, 'y': 371.2218933105469}, {'x': 306.9656066894531, 'y': 370.60626220703125}, {'x': 306.9656066894531, 'y': 369.9906311035156}, {'x': 308.0859375, 'y': 369.375}, {'x': 308.0859375, 'y': 335.515625}, {'x': 306.9656066894531, 'y': 334.9000244140625}, {'x': 306.9656066894531, 'y': 329.359375}, {'x': 305.8453063964844, 'y': 328.7437744140625}, {'x': 305.8453063964844, 'y': 320.7406311035156}, {'x': 306.9656066894531, 'y': 320.125}, {'x': 306.9656066894531, 'y': 318.27813720703125}, {'x': 305.8453063964844, 'y': 317.6625061035156}, {'x': 305.8453063964844, 'y': 313.96875}, {'x': 306.9656066894531, 'y': 313.3531494140625}, {'x': 306.9656066894531, 'y': 310.890625}, {'x': 308.0859375, 'y': 310.2750244140625}, {'x': 308.0859375, 'y': 306.5812683105469}, {'x': 306.9656066894531, 'y': 305.96563720703125}, {'x': 306.9656066894531, 'y': 304.1187744140625}, {'x': 305.8453063964844, 'y': 303.5031433105469}, {'x': 305.8453063964844, 'y': 302.88751220703125}, {'x': 304.7249755859375, 'y': 302.2718811035156}, {'x': 304.7249755859375, 'y': 295.5}, {'x': 303.60467529296875, 'y': 294.8843994140625}, {'x': 303.60467529296875, 'y': 293.0375061035156}, {'x': 302.484375, 'y': 292.421875}, {'x': 302.484375, 'y': 291.1906433105469}, {'x': 301.3640441894531, 'y': 291.1906433105469}, {'x': 300.2437438964844, 'y': 290.57501220703125}, {'x': 300.2437438964844, 'y': 289.9593811035156}, {'x': 298.00311279296875, 'y': 288.7281494140625}, {'x': 298.00311279296875, 'y': 288.1125183105469}, {'x': 294.6421813964844, 'y': 286.265625}, {'x': 294.6421813964844, 'y': 285.6500244140625}, {'x': 290.1609191894531, 'y': 283.1875}, {'x': 290.1609191894531, 'y': 282.5718994140625}, {'x': 285.6796875, 'y': 280.109375}, {'x': 285.6796875, 'y': 279.4937744140625}, {'x': 281.19842529296875, 'y': 277.03125}, {'x': 281.19842529296875, 'y': 276.4156494140625}, {'x': 280.078125, 'y': 275.8000183105469}, {'x': 278.9577941894531, 'y': 275.8000183105469}, {'x': 277.8374938964844, 'y': 275.18438720703125}, {'x': 277.8374938964844, 'y': 274.5687561035156}, {'x': 272.2359313964844, 'y': 271.4906311035156}, {'x': 272.2359313964844, 'y': 270.875}, {'x': 267.7546691894531, 'y': 268.4125061035156}, {'x': 267.7546691894531, 'y': 267.796875}, {'x': 262.1531066894531, 'y': 264.71875}, {'x': 262.1531066894531, 'y': 264.1031494140625}, {'x': 261.0328063964844, 'y': 263.4875183105469}, {'x': 259.9124755859375, 'y': 263.4875183105469}, {'x': 258.79217529296875, 'y': 262.87188720703125}, {'x': 258.79217529296875, 'y': 262.2562561035156}, {'x': 249.82968139648438, 'y': 257.3312683105469}, {'x': 249.82968139648438, 'y': 256.71563720703125}, {'x': 247.58905029296875, 'y': 255.48439025878906}, {'x': 247.58905029296875, 'y': 254.86875915527344}, {'x': 246.46873474121094, 'y': 254.86875915527344}, {'x': 244.22811889648438, 'y': 253.63751220703125}, {'x': 244.22811889648438, 'y': 253.02188110351562}, {'x': 239.7468719482422, 'y': 250.55938720703125}, {'x': 239.7468719482422, 'y': 249.94375610351562}, {'x': 236.38592529296875, 'y': 248.0968780517578}], 'class_id': 4, 'detection_id': '3c4aa9a8-547f-4128-b32b-4c60d22182a2'}, {'x': 448.5, 'y': 287.0, 'width': 55.0, 'height': 212.0, 'confidence': 0.1308259665966034, 'class': 'cucumber veggie - healthy', 'points': [{'x': 476.1327819824219, 'y': 184.6875}, {'x': 476.1327819824219, 'y': 186.5343780517578}, {'x': 475.0124816894531, 'y': 187.15000915527344}, {'x': 475.0124816894531, 'y': 189.6125030517578}, {'x': 473.8921813964844, 'y': 190.22813415527344}, {'x': 473.8921813964844, 'y': 191.45938110351562}, {'x': 471.65155029296875, 'y': 192.6906280517578}, {'x': 471.65155029296875, 'y': 193.921875}, {'x': 470.5312194824219, 'y': 194.53750610351562}, {'x': 470.5312194824219, 'y': 195.7687530517578}, {'x': 469.4109191894531, 'y': 196.38438415527344}, {'x': 469.4109191894531, 'y': 197.0}, {'x': 467.1702880859375, 'y': 198.23126220703125}, {'x': 467.1702880859375, 'y': 199.46250915527344}, {'x': 466.04998779296875, 'y': 200.07814025878906}, {'x': 466.04998779296875, 'y': 202.54063415527344}, {'x': 464.9296569824219, 'y': 203.15626525878906}, {'x': 464.9296569824219, 'y': 203.77188110351562}, {'x': 462.6890563964844, 'y': 205.0031280517578}, {'x': 462.6890563964844, 'y': 206.23439025878906}, {'x': 461.5687255859375, 'y': 206.85000610351562}, {'x': 461.5687255859375, 'y': 208.0812530517578}, {'x': 459.3280944824219, 'y': 209.31251525878906}, {'x': 459.3280944824219, 'y': 209.92813110351562}, {'x': 448.1249694824219, 'y': 216.08438110351562}, {'x': 448.1249694824219, 'y': 216.70001220703125}, {'x': 447.0046691894531, 'y': 217.3156280517578}, {'x': 447.0046691894531, 'y': 217.93125915527344}, {'x': 444.7640380859375, 'y': 219.16250610351562}, {'x': 444.7640380859375, 'y': 220.3937530517578}, {'x': 441.4031066894531, 'y': 222.24063110351562}, {'x': 441.4031066894531, 'y': 222.85626220703125}, {'x': 440.2828063964844, 'y': 223.4718780517578}, {'x': 440.2828063964844, 'y': 224.08750915527344}, {'x': 439.1624755859375, 'y': 224.70314025878906}, {'x': 439.1624755859375, 'y': 225.93438720703125}, {'x': 435.8015441894531, 'y': 227.78126525878906}, {'x': 435.8015441894531, 'y': 228.39688110351562}, {'x': 434.6812438964844, 'y': 229.01251220703125}, {'x': 434.6812438964844, 'y': 229.6281280517578}, {'x': 433.5609130859375, 'y': 230.24375915527344}, {'x': 433.5609130859375, 'y': 230.85939025878906}, {'x': 431.3202819824219, 'y': 232.09063720703125}, {'x': 431.3202819824219, 'y': 232.7062530517578}, {'x': 430.1999816894531, 'y': 233.32188415527344}, {'x': 430.1999816894531, 'y': 233.93751525878906}, {'x': 429.0796813964844, 'y': 234.55313110351562}, {'x': 429.0796813964844, 'y': 235.16876220703125}, {'x': 425.7187194824219, 'y': 237.01564025878906}, {'x': 425.7187194824219, 'y': 237.63125610351562}, {'x': 422.3577880859375, 'y': 239.47813415527344}, {'x': 422.3577880859375, 'y': 325.0500183105469}, {'x': 423.4781188964844, 'y': 325.6656494140625}, {'x': 423.4781188964844, 'y': 327.51251220703125}, {'x': 424.5984191894531, 'y': 328.1281433105469}, {'x': 424.5984191894531, 'y': 346.5968933105469}, {'x': 423.4781188964844, 'y': 347.2125244140625}, {'x': 423.4781188964844, 'y': 358.9093933105469}, {'x': 424.5984191894531, 'y': 359.5250244140625}, {'x': 424.5984191894531, 'y': 367.52813720703125}, {'x': 425.7187194824219, 'y': 368.1437683105469}, {'x': 425.7187194824219, 'y': 375.53125}, {'x': 424.5984191894531, 'y': 376.1468811035156}, {'x': 424.5984191894531, 'y': 391.5375061035156}, {'x': 423.4781188964844, 'y': 392.15313720703125}, {'x': 423.4781188964844, 'y': 393.3843994140625}, {'x': 475.0124816894531, 'y': 393.3843994140625}, {'x': 475.0124816894531, 'y': 386.6125183105469}, {'x': 476.1327819824219, 'y': 385.99688720703125}, {'x': 476.1327819824219, 'y': 379.2250061035156}, {'x': 475.0124816894531, 'y': 378.609375}, {'x': 475.0124816894531, 'y': 360.7562561035156}, {'x': 473.8921813964844, 'y': 360.140625}, {'x': 473.8921813964844, 'y': 356.4468994140625}, {'x': 472.7718505859375, 'y': 355.8312683105469}, {'x': 472.7718505859375, 'y': 354.6000061035156}, {'x': 471.65155029296875, 'y': 353.984375}, {'x': 471.65155029296875, 'y': 352.13751220703125}, {'x': 470.5312194824219, 'y': 351.5218811035156}, {'x': 470.5312194824219, 'y': 346.5968933105469}, {'x': 469.4109191894531, 'y': 345.98126220703125}, {'x': 469.4109191894531, 'y': 341.671875}, {'x': 470.5312194824219, 'y': 341.0562744140625}, {'x': 470.5312194824219, 'y': 337.3625183105469}, {'x': 471.65155029296875, 'y': 336.74688720703125}, {'x': 472.7718505859375, 'y': 336.74688720703125}, {'x': 473.8921813964844, 'y': 337.3625183105469}, {'x': 473.8921813964844, 'y': 337.9781494140625}, {'x': 475.0124816894531, 'y': 338.59375}, {'x': 475.0124816894531, 'y': 339.82501220703125}, {'x': 476.1327819824219, 'y': 340.4406433105469}, {'x': 476.1327819824219, 'y': 341.0562744140625}], 'class_id': 4, 'detection_id': '08b8e73e-36cc-4a6b-9448-e2d49fa87e37'}, {'x': 447.5, 'y': 290.0, 'width': 55.0, 'height': 208.0, 'confidence': 0.12945210933685303, 'class': 'cucumber veggie - unhealthy', 'points': [{'x': 473.8921813964844, 'y': 186.5343780517578}, {'x': 473.8921813964844, 'y': 187.15000915527344}, {'x': 472.7718505859375, 'y': 187.765625}, {'x': 472.7718505859375, 'y': 189.6125030517578}, {'x': 471.65155029296875, 'y': 190.22813415527344}, {'x': 471.65155029296875, 'y': 191.45938110351562}, {'x': 470.5312194824219, 'y': 192.07501220703125}, {'x': 470.5312194824219, 'y': 193.921875}, {'x': 469.4109191894531, 'y': 194.53750610351562}, {'x': 469.4109191894531, 'y': 195.7687530517578}, {'x': 467.1702880859375, 'y': 197.0}, {'x': 467.1702880859375, 'y': 198.23126220703125}, {'x': 466.04998779296875, 'y': 198.8468780517578}, {'x': 466.04998779296875, 'y': 200.69375610351562}, {'x': 464.9296569824219, 'y': 201.30938720703125}, {'x': 464.9296569824219, 'y': 202.54063415527344}, {'x': 463.8093566894531, 'y': 203.15626525878906}, {'x': 463.8093566894531, 'y': 203.77188110351562}, {'x': 462.6890563964844, 'y': 204.38751220703125}, {'x': 462.6890563964844, 'y': 205.0031280517578}, {'x': 461.5687255859375, 'y': 205.61875915527344}, {'x': 461.5687255859375, 'y': 206.85000610351562}, {'x': 460.44842529296875, 'y': 207.46563720703125}, {'x': 460.44842529296875, 'y': 208.0812530517578}, {'x': 457.0874938964844, 'y': 209.92813110351562}, {'x': 457.0874938964844, 'y': 210.54376220703125}, {'x': 448.1249694824219, 'y': 215.46876525878906}, {'x': 448.1249694824219, 'y': 216.08438110351562}, {'x': 445.8843688964844, 'y': 217.3156280517578}, {'x': 445.8843688964844, 'y': 217.93125915527344}, {'x': 444.7640380859375, 'y': 218.54689025878906}, {'x': 444.7640380859375, 'y': 219.16250610351562}, {'x': 443.64373779296875, 'y': 219.77813720703125}, {'x': 443.64373779296875, 'y': 220.3937530517578}, {'x': 440.2828063964844, 'y': 222.24063110351562}, {'x': 440.2828063964844, 'y': 222.85626220703125}, {'x': 439.1624755859375, 'y': 223.4718780517578}, {'x': 439.1624755859375, 'y': 224.08750915527344}, {'x': 438.04217529296875, 'y': 224.70314025878906}, {'x': 438.04217529296875, 'y': 225.31875610351562}, {'x': 434.6812438964844, 'y': 227.16563415527344}, {'x': 434.6812438964844, 'y': 227.78126525878906}, {'x': 433.5609130859375, 'y': 228.39688110351562}, {'x': 433.5609130859375, 'y': 229.01251220703125}, {'x': 431.3202819824219, 'y': 230.24375915527344}, {'x': 431.3202819824219, 'y': 230.85939025878906}, {'x': 430.1999816894531, 'y': 231.47500610351562}, {'x': 430.1999816894531, 'y': 232.09063720703125}, {'x': 429.0796813964844, 'y': 232.7062530517578}, {'x': 429.0796813964844, 'y': 233.32188415527344}, {'x': 426.83905029296875, 'y': 234.55313110351562}, {'x': 426.83905029296875, 'y': 235.16876220703125}, {'x': 424.5984191894531, 'y': 236.40000915527344}, {'x': 424.5984191894531, 'y': 237.01564025878906}, {'x': 420.1171569824219, 'y': 239.47813415527344}, {'x': 420.1171569824219, 'y': 326.28125}, {'x': 422.3577880859375, 'y': 327.51251220703125}, {'x': 422.3577880859375, 'y': 328.1281433105469}, {'x': 423.4781188964844, 'y': 328.7437744140625}, {'x': 423.4781188964844, 'y': 331.2062683105469}, {'x': 424.5984191894531, 'y': 331.8218994140625}, {'x': 424.5984191894531, 'y': 366.296875}, {'x': 425.7187194824219, 'y': 366.9125061035156}, {'x': 425.7187194824219, 'y': 377.3781433105469}, {'x': 424.5984191894531, 'y': 377.9937744140625}, {'x': 424.5984191894531, 'y': 381.0718994140625}, {'x': 425.7187194824219, 'y': 381.6875}, {'x': 425.7187194824219, 'y': 393.3843994140625}, {'x': 475.0124816894531, 'y': 393.3843994140625}, {'x': 475.0124816894531, 'y': 186.5343780517578}], 'class_id': 5, 'detection_id': '65849241-328b-4210-b4c1-e4ffc537abdc'}, {'x': 570.0, 'y': 183.5, 'width': 290.0, 'height': 365.0, 'confidence': 0.044217515736818314, 'class': 'cucumber-powdery-mildew', 'points': [{'x': 425.7187194824219, 'y': 1.2312500476837158}, {'x': 425.7187194824219, 'y': 185.30313110351562}, {'x': 427.9593505859375, 'y': 186.5343780517578}, {'x': 427.9593505859375, 'y': 187.15000915527344}, {'x': 430.1999816894531, 'y': 188.38125610351562}, {'x': 431.3202819824219, 'y': 188.38125610351562}, {'x': 432.44061279296875, 'y': 188.99688720703125}, {'x': 434.6812438964844, 'y': 188.99688720703125}, {'x': 435.8015441894531, 'y': 189.6125030517578}, {'x': 436.9218444824219, 'y': 189.6125030517578}, {'x': 438.04217529296875, 'y': 188.99688720703125}, {'x': 441.4031066894531, 'y': 188.99688720703125}, {'x': 444.7640380859375, 'y': 187.15000915527344}, {'x': 451.4859313964844, 'y': 187.15000915527344}, {'x': 452.6062316894531, 'y': 186.5343780517578}, {'x': 454.84686279296875, 'y': 186.5343780517578}, {'x': 455.9671630859375, 'y': 187.15000915527344}, {'x': 459.3280944824219, 'y': 187.15000915527344}, {'x': 462.6890563964844, 'y': 185.30313110351562}, {'x': 468.2906188964844, 'y': 185.30313110351562}, {'x': 469.4109191894531, 'y': 185.91876220703125}, {'x': 469.4109191894531, 'y': 186.5343780517578}, {'x': 470.5312194824219, 'y': 187.15000915527344}, {'x': 470.5312194824219, 'y': 193.30625915527344}, {'x': 469.4109191894531, 'y': 193.921875}, {'x': 469.4109191894531, 'y': 195.7687530517578}, {'x': 467.1702880859375, 'y': 197.0}, {'x': 467.1702880859375, 'y': 197.61563110351562}, {'x': 466.04998779296875, 'y': 198.23126220703125}, {'x': 466.04998779296875, 'y': 200.69375610351562}, {'x': 464.9296569824219, 'y': 201.30938720703125}, {'x': 464.9296569824219, 'y': 202.54063415527344}, {'x': 463.8093566894531, 'y': 203.15626525878906}, {'x': 463.8093566894531, 'y': 203.77188110351562}, {'x': 461.5687255859375, 'y': 205.0031280517578}, {'x': 461.5687255859375, 'y': 206.23439025878906}, {'x': 460.44842529296875, 'y': 206.85000610351562}, {'x': 460.44842529296875, 'y': 208.0812530517578}, {'x': 459.3280944824219, 'y': 208.69688415527344}, {'x': 459.3280944824219, 'y': 209.31251525878906}, {'x': 457.0874938964844, 'y': 210.54376220703125}, {'x': 457.0874938964844, 'y': 211.1593780517578}, {'x': 455.9671630859375, 'y': 211.77500915527344}, {'x': 455.9671630859375, 'y': 212.39064025878906}, {'x': 454.84686279296875, 'y': 213.00625610351562}, {'x': 454.84686279296875, 'y': 213.62188720703125}, {'x': 453.7265319824219, 'y': 214.2375030517578}, {'x': 453.7265319824219, 'y': 214.85313415527344}, {'x': 449.24530029296875, 'y': 217.3156280517578}, {'x': 449.24530029296875, 'y': 217.93125915527344}, {'x': 444.7640380859375, 'y': 220.3937530517578}, {'x': 444.7640380859375, 'y': 221.00938415527344}, {'x': 440.2828063964844, 'y': 223.4718780517578}, {'x': 440.2828063964844, 'y': 224.08750915527344}, {'x': 439.1624755859375, 'y': 224.70314025878906}, {'x': 439.1624755859375, 'y': 225.31875610351562}, {'x': 433.5609130859375, 'y': 228.39688110351562}, {'x': 433.5609130859375, 'y': 229.01251220703125}, {'x': 431.3202819824219, 'y': 230.24375915527344}, {'x': 430.1999816894531, 'y': 230.24375915527344}, {'x': 429.0796813964844, 'y': 230.85939025878906}, {'x': 429.0796813964844, 'y': 232.09063720703125}, {'x': 427.9593505859375, 'y': 232.7062530517578}, {'x': 427.9593505859375, 'y': 233.32188415527344}, {'x': 426.83905029296875, 'y': 233.93751525878906}, {'x': 425.7187194824219, 'y': 233.93751525878906}, {'x': 425.7187194824219, 'y': 365.6812744140625}, {'x': 466.04998779296875, 'y': 365.6812744140625}, {'x': 466.04998779296875, 'y': 362.6031494140625}, {'x': 464.9296569824219, 'y': 361.9875183105469}, {'x': 464.9296569824219, 'y': 358.9093933105469}, {'x': 463.8093566894531, 'y': 358.29376220703125}, {'x': 463.8093566894531, 'y': 355.8312683105469}, {'x': 462.6890563964844, 'y': 355.21563720703125}, {'x': 462.6890563964844, 'y': 348.4437561035156}, {'x': 461.5687255859375, 'y': 347.828125}, {'x': 461.5687255859375, 'y': 307.8125}, {'x': 463.8093566894531, 'y': 306.5812683105469}, {'x': 464.9296569824219, 'y': 307.1968994140625}, {'x': 464.9296569824219, 'y': 309.6593933105469}, {'x': 466.04998779296875, 'y': 310.2750244140625}, {'x': 466.04998779296875, 'y': 312.7375183105469}, {'x': 467.1702880859375, 'y': 313.3531494140625}, {'x': 467.1702880859375, 'y': 315.8156433105469}, {'x': 468.2906188964844, 'y': 316.4312744140625}, {'x': 468.2906188964844, 'y': 320.125}, {'x': 469.4109191894531, 'y': 320.7406311035156}, {'x': 469.4109191894531, 'y': 335.515625}, {'x': 470.5312194824219, 'y': 336.1312561035156}, {'x': 470.5312194824219, 'y': 339.82501220703125}, {'x': 471.65155029296875, 'y': 340.4406433105469}, {'x': 471.65155029296875, 'y': 341.671875}, {'x': 472.7718505859375, 'y': 342.2875061035156}, {'x': 472.7718505859375, 'y': 344.1343994140625}, {'x': 473.8921813964844, 'y': 344.75}, {'x': 473.8921813964844, 'y': 365.6812744140625}, {'x': 714.7593383789062, 'y': 365.6812744140625}, {'x': 714.7593383789062, 'y': 283.1875}, {'x': 712.5187377929688, 'y': 283.1875}, {'x': 711.3984375, 'y': 283.8031311035156}, {'x': 708.0374755859375, 'y': 283.8031311035156}, {'x': 705.796875, 'y': 282.5718994140625}, {'x': 705.796875, 'y': 281.9562683105469}, {'x': 704.676513671875, 'y': 281.34063720703125}, {'x': 704.676513671875, 'y': 279.4937744140625}, {'x': 703.5562133789062, 'y': 278.8781433105469}, {'x': 703.5562133789062, 'y': 278.26251220703125}, {'x': 702.4359130859375, 'y': 277.6468811035156}, {'x': 702.4359130859375, 'y': 273.3375244140625}, {'x': 703.5562133789062, 'y': 272.7218933105469}, {'x': 703.5562133789062, 'y': 271.4906311035156}, {'x': 701.3156127929688, 'y': 270.2593994140625}, {'x': 700.1953125, 'y': 270.2593994140625}, {'x': 699.074951171875, 'y': 270.875}, {'x': 697.9546508789062, 'y': 270.875}, {'x': 696.8343505859375, 'y': 271.4906311035156}, {'x': 694.59375, 'y': 271.4906311035156}, {'x': 693.473388671875, 'y': 270.875}, {'x': 693.473388671875, 'y': 269.6437683105469}, {'x': 695.7140502929688, 'y': 268.4125061035156}, {'x': 700.1953125, 'y': 268.4125061035156}, {'x': 701.3156127929688, 'y': 267.796875}, {'x': 701.3156127929688, 'y': 267.1812744140625}, {'x': 703.5562133789062, 'y': 265.95001220703125}, {'x': 703.5562133789062, 'y': 265.3343811035156}, {'x': 705.796875, 'y': 264.1031494140625}, {'x': 706.9171752929688, 'y': 264.1031494140625}, {'x': 708.0374755859375, 'y': 263.4875183105469}, {'x': 709.1577758789062, 'y': 263.4875183105469}, {'x': 710.278076171875, 'y': 262.87188720703125}, {'x': 711.3984375, 'y': 262.87188720703125}, {'x': 714.7593383789062, 'y': 261.0250244140625}, {'x': 714.7593383789062, 'y': 1.2312500476837158}], 'class_id': 7, 'detection_id': 'bedf6627-6cc7-4f50-9cdd-648500ca999b'}, {'x': 312.5, 'y': 70.5, 'width': 85.0, 'height': 113.0, 'confidence': 0.03714747354388237, 'class': 'cucumber veggie - healthy', 'points': [{'x': 273.3562316894531, 'y': 14.77500057220459}, {'x': 272.2359313964844, 'y': 15.390625953674316}, {'x': 271.1156005859375, 'y': 15.390625953674316}, {'x': 271.1156005859375, 'y': 30.781251907348633}, {'x': 272.2359313964844, 'y': 31.396875381469727}, {'x': 272.2359313964844, 'y': 33.243751525878906}, {'x': 273.3562316894531, 'y': 33.859375}, {'x': 273.3562316894531, 'y': 36.321876525878906}, {'x': 274.4765625, 'y': 36.9375}, {'x': 274.4765625, 'y': 38.78437805175781}, {'x': 275.59686279296875, 'y': 39.400001525878906}, {'x': 275.59686279296875, 'y': 40.015625}, {'x': 276.7171630859375, 'y': 40.63125228881836}, {'x': 276.7171630859375, 'y': 41.24687576293945}, {'x': 277.8374938964844, 'y': 41.86250305175781}, {'x': 277.8374938964844, 'y': 43.70937728881836}, {'x': 278.9577941894531, 'y': 44.32500076293945}, {'x': 278.9577941894531, 'y': 45.556251525878906}, {'x': 281.19842529296875, 'y': 46.78750228881836}, {'x': 281.19842529296875, 'y': 47.40312576293945}, {'x': 282.3187255859375, 'y': 48.01875305175781}, {'x': 282.3187255859375, 'y': 52.328128814697266}, {'x': 283.4390563964844, 'y': 52.94375228881836}, {'x': 283.4390563964844, 'y': 54.17500305175781}, {'x': 284.5593566894531, 'y': 54.790626525878906}, {'x': 284.5593566894531, 'y': 55.406253814697266}, {'x': 285.6796875, 'y': 56.02187728881836}, {'x': 285.6796875, 'y': 56.63750076293945}, {'x': 286.79998779296875, 'y': 57.25312805175781}, {'x': 286.79998779296875, 'y': 60.946876525878906}, {'x': 287.9202880859375, 'y': 61.562503814697266}, {'x': 287.9202880859375, 'y': 62.79375076293945}, {'x': 289.0406188964844, 'y': 63.40937805175781}, {'x': 289.0406188964844, 'y': 64.0250015258789}, {'x': 290.1609191894531, 'y': 64.640625}, {'x': 290.1609191894531, 'y': 65.87187957763672}, {'x': 291.28125, 'y': 66.48750305175781}, {'x': 291.28125, 'y': 72.02812957763672}, {'x': 292.40155029296875, 'y': 72.64375305175781}, {'x': 292.40155029296875, 'y': 73.2593765258789}, {'x': 293.5218505859375, 'y': 73.875}, {'x': 293.5218505859375, 'y': 74.49063110351562}, {'x': 294.6421813964844, 'y': 75.10625457763672}, {'x': 294.6421813964844, 'y': 76.3375015258789}, {'x': 295.7624816894531, 'y': 76.953125}, {'x': 295.7624816894531, 'y': 80.64688110351562}, {'x': 296.8828125, 'y': 81.26250457763672}, {'x': 296.8828125, 'y': 83.109375}, {'x': 299.1234130859375, 'y': 84.34062957763672}, {'x': 299.1234130859375, 'y': 86.1875}, {'x': 300.2437438964844, 'y': 86.80313110351562}, {'x': 300.2437438964844, 'y': 90.49687957763672}, {'x': 301.3640441894531, 'y': 91.11250305175781}, {'x': 301.3640441894531, 'y': 94.19062805175781}, {'x': 302.484375, 'y': 94.8062515258789}, {'x': 302.484375, 'y': 96.03750610351562}, {'x': 303.60467529296875, 'y': 96.65312957763672}, {'x': 303.60467529296875, 'y': 97.8843765258789}, {'x': 304.7249755859375, 'y': 98.5}, {'x': 304.7249755859375, 'y': 100.9625015258789}, {'x': 305.8453063964844, 'y': 101.57813262939453}, {'x': 305.8453063964844, 'y': 103.42500305175781}, {'x': 306.9656066894531, 'y': 104.0406265258789}, {'x': 306.9656066894531, 'y': 104.65625762939453}, {'x': 308.0859375, 'y': 105.27188110351562}, {'x': 308.0859375, 'y': 107.1187515258789}, {'x': 309.20623779296875, 'y': 107.73438262939453}, {'x': 309.20623779296875, 'y': 108.35000610351562}, {'x': 310.3265380859375, 'y': 108.96562957763672}, {'x': 310.3265380859375, 'y': 110.1968765258789}, {'x': 312.5671691894531, 'y': 111.42813110351562}, {'x': 312.5671691894531, 'y': 112.04375457763672}, {'x': 313.6875, 'y': 112.65937805175781}, {'x': 313.6875, 'y': 113.2750015258789}, {'x': 314.80780029296875, 'y': 113.89063262939453}, {'x': 314.80780029296875, 'y': 114.50625610351562}, {'x': 315.9281005859375, 'y': 115.12187957763672}, {'x': 317.0484313964844, 'y': 115.12187957763672}, {'x': 318.1687316894531, 'y': 115.73750305175781}, {'x': 318.1687316894531, 'y': 116.3531265258789}, {'x': 319.2890625, 'y': 116.96875762939453}, {'x': 320.40936279296875, 'y': 116.96875762939453}, {'x': 321.5296630859375, 'y': 117.58438110351562}, {'x': 322.6499938964844, 'y': 117.58438110351562}, {'x': 327.1312255859375, 'y': 120.04688262939453}, {'x': 330.4921875, 'y': 120.04688262939453}, {'x': 333.8531188964844, 'y': 118.20000457763672}, {'x': 333.8531188964844, 'y': 117.58438110351562}, {'x': 334.9734191894531, 'y': 116.96875762939453}, {'x': 334.9734191894531, 'y': 116.3531265258789}, {'x': 336.09375, 'y': 115.73750305175781}, {'x': 336.09375, 'y': 113.89063262939453}, {'x': 337.21405029296875, 'y': 113.2750015258789}, {'x': 337.21405029296875, 'y': 111.42813110351562}, {'x': 340.5749816894531, 'y': 109.58125305175781}, {'x': 340.5749816894531, 'y': 108.96562957763672}, {'x': 341.6953125, 'y': 108.35000610351562}, {'x': 341.6953125, 'y': 106.50312805175781}, {'x': 342.81561279296875, 'y': 105.88750457763672}, {'x': 342.81561279296875, 'y': 102.80937957763672}, {'x': 343.9359130859375, 'y': 102.19375610351562}, {'x': 343.9359130859375, 'y': 97.26875305175781}, {'x': 345.0562438964844, 'y': 96.65312957763672}, {'x': 345.0562438964844, 'y': 88.6500015258789}, {'x': 343.9359130859375, 'y': 88.03437805175781}, {'x': 343.9359130859375, 'y': 83.72500610351562}, {'x': 342.81561279296875, 'y': 83.109375}, {'x': 342.81561279296875, 'y': 82.4937515258789}, {'x': 340.5749816894531, 'y': 81.26250457763672}, {'x': 340.5749816894531, 'y': 80.64688110351562}, {'x': 339.4546813964844, 'y': 80.03125}, {'x': 339.4546813964844, 'y': 78.80000305175781}, {'x': 338.3343505859375, 'y': 78.18437957763672}, {'x': 338.3343505859375, 'y': 77.56875610351562}, {'x': 337.21405029296875, 'y': 76.953125}, {'x': 337.21405029296875, 'y': 76.3375015258789}, {'x': 334.9734191894531, 'y': 75.10625457763672}, {'x': 334.9734191894531, 'y': 72.64375305175781}, {'x': 333.8531188964844, 'y': 72.02812957763672}, {'x': 333.8531188964844, 'y': 71.41250610351562}, {'x': 331.61248779296875, 'y': 70.1812515258789}, {'x': 331.61248779296875, 'y': 69.56562805175781}, {'x': 330.4921875, 'y': 68.95000457763672}, {'x': 330.4921875, 'y': 65.87187957763672}, {'x': 329.3718566894531, 'y': 65.25625610351562}, {'x': 329.3718566894531, 'y': 64.640625}, {'x': 327.1312255859375, 'y': 63.40937805175781}, {'x': 327.1312255859375, 'y': 62.79375076293945}, {'x': 326.01092529296875, 'y': 62.17812728881836}, {'x': 326.01092529296875, 'y': 60.33125305175781}, {'x': 324.890625, 'y': 59.71562576293945}, {'x': 324.890625, 'y': 59.10000228881836}, {'x': 322.6499938964844, 'y': 57.868751525878906}, {'x': 322.6499938964844, 'y': 57.25312805175781}, {'x': 321.5296630859375, 'y': 56.63750076293945}, {'x': 321.5296630859375, 'y': 54.790626525878906}, {'x': 320.40936279296875, 'y': 54.17500305175781}, {'x': 320.40936279296875, 'y': 53.55937576293945}, {'x': 318.1687316894531, 'y': 52.328128814697266}, {'x': 318.1687316894531, 'y': 51.09687805175781}, {'x': 317.0484313964844, 'y': 50.48125076293945}, {'x': 317.0484313964844, 'y': 48.01875305175781}, {'x': 312.5671691894531, 'y': 45.556251525878906}, {'x': 312.5671691894531, 'y': 43.09375}, {'x': 311.4468688964844, 'y': 42.478126525878906}, {'x': 311.4468688964844, 'y': 41.86250305175781}, {'x': 308.0859375, 'y': 40.015625}, {'x': 308.0859375, 'y': 37.55312728881836}, {'x': 304.7249755859375, 'y': 35.70625305175781}, {'x': 304.7249755859375, 'y': 35.09062576293945}, {'x': 303.60467529296875, 'y': 34.47500228881836}, {'x': 303.60467529296875, 'y': 32.01250076293945}, {'x': 302.484375, 'y': 31.396875381469727}, {'x': 302.484375, 'y': 30.781251907348633}, {'x': 300.2437438964844, 'y': 29.55000114440918}, {'x': 300.2437438964844, 'y': 28.934375762939453}, {'x': 299.1234130859375, 'y': 28.318750381469727}, {'x': 299.1234130859375, 'y': 27.703126907348633}, {'x': 295.7624816894531, 'y': 25.856250762939453}, {'x': 295.7624816894531, 'y': 25.240625381469727}, {'x': 294.6421813964844, 'y': 24.625}, {'x': 294.6421813964844, 'y': 22.778125762939453}, {'x': 284.5593566894531, 'y': 17.23750114440918}, {'x': 283.4390563964844, 'y': 17.23750114440918}, {'x': 280.078125, 'y': 15.390625953674316}, {'x': 277.8374938964844, 'y': 15.390625953674316}, {'x': 276.7171630859375, 'y': 14.77500057220459}], 'class_id': 4, 'detection_id': '683f2785-f2af-4ad8-9e06-04adc34acb2f'}, {'x': 62.0, 'y': 197.0, 'width': 122.0, 'height': 390.0, 'confidence': 0.03666960075497627, 'class': 'cucumber veggie - healthy', 'points': [{'x': 1.1203124523162842, 'y': 2.4625000953674316}, {'x': 1.1203124523162842, 'y': 388.4593811035156}, {'x': 2.2406249046325684, 'y': 389.07501220703125}, {'x': 3.3609373569488525, 'y': 389.07501220703125}, {'x': 4.481249809265137, 'y': 389.6906433105469}, {'x': 6.721874713897705, 'y': 389.6906433105469}, {'x': 7.84218692779541, 'y': 390.3062744140625}, {'x': 7.84218692779541, 'y': 390.921875}, {'x': 8.962499618530273, 'y': 391.5375061035156}, {'x': 122.11405944824219, 'y': 391.5375061035156}, {'x': 122.11405944824219, 'y': 238.8625030517578}, {'x': 119.8734359741211, 'y': 237.63125610351562}, {'x': 119.8734359741211, 'y': 235.16876220703125}, {'x': 120.99374389648438, 'y': 234.55313110351562}, {'x': 120.99374389648438, 'y': 230.24375915527344}, {'x': 122.11405944824219, 'y': 229.6281280517578}, {'x': 120.99374389648438, 'y': 229.01251220703125}, {'x': 120.99374389648438, 'y': 227.16563415527344}, {'x': 122.11405944824219, 'y': 226.5500030517578}, {'x': 122.11405944824219, 'y': 224.70314025878906}, {'x': 120.99374389648438, 'y': 224.08750915527344}, {'x': 120.99374389648438, 'y': 209.92813110351562}, {'x': 119.8734359741211, 'y': 209.31251525878906}, {'x': 119.8734359741211, 'y': 205.61875915527344}, {'x': 120.99374389648438, 'y': 205.0031280517578}, {'x': 120.99374389648438, 'y': 203.15626525878906}, {'x': 122.11405944824219, 'y': 202.54063415527344}, {'x': 122.11405944824219, 'y': 2.4625000953674316}], 'class_id': 4, 'detection_id': '4a94708e-766e-410e-a4f5-fc3cca4c1e79'}, {'x': 606.0, 'y': 333.0, 'width': 220.0, 'height': 120.0, 'confidence': 0.030604252591729164, 'class': 'bell pepper leaf-healthy', 'points': [{'x': 700.1953125, 'y': 273.3375244140625}, {'x': 700.1953125, 'y': 273.953125}, {'x': 699.074951171875, 'y': 274.5687561035156}, {'x': 699.074951171875, 'y': 276.4156494140625}, {'x': 696.8343505859375, 'y': 277.6468811035156}, {'x': 696.8343505859375, 'y': 278.26251220703125}, {'x': 695.7140502929688, 'y': 278.8781433105469}, {'x': 695.7140502929688, 'y': 288.1125183105469}, {'x': 692.3530883789062, 'y': 289.9593811035156}, {'x': 692.3530883789062, 'y': 290.57501220703125}, {'x': 688.9921875, 'y': 292.421875}, {'x': 687.871826171875, 'y': 292.421875}, {'x': 664.3452758789062, 'y': 305.3500061035156}, {'x': 663.2249755859375, 'y': 305.3500061035156}, {'x': 658.7437133789062, 'y': 307.8125}, {'x': 657.6234130859375, 'y': 307.8125}, {'x': 654.262451171875, 'y': 309.6593933105469}, {'x': 653.1421508789062, 'y': 309.6593933105469}, {'x': 649.78125, 'y': 311.5062561035156}, {'x': 648.660888671875, 'y': 311.5062561035156}, {'x': 647.5405883789062, 'y': 312.12188720703125}, {'x': 646.4202880859375, 'y': 312.12188720703125}, {'x': 645.2999877929688, 'y': 312.7375183105469}, {'x': 644.1796875, 'y': 312.7375183105469}, {'x': 640.8187255859375, 'y': 314.5843811035156}, {'x': 639.6984252929688, 'y': 314.5843811035156}, {'x': 639.6984252929688, 'y': 315.20001220703125}, {'x': 636.3374633789062, 'y': 317.046875}, {'x': 635.2171630859375, 'y': 317.046875}, {'x': 634.0968627929688, 'y': 317.6625061035156}, {'x': 634.0968627929688, 'y': 318.27813720703125}, {'x': 632.9765625, 'y': 318.8937683105469}, {'x': 631.856201171875, 'y': 318.8937683105469}, {'x': 627.375, 'y': 321.35626220703125}, {'x': 626.254638671875, 'y': 321.35626220703125}, {'x': 624.0140380859375, 'y': 322.5875244140625}, {'x': 622.8937377929688, 'y': 322.5875244140625}, {'x': 620.653076171875, 'y': 323.8187561035156}, {'x': 619.5327758789062, 'y': 323.8187561035156}, {'x': 618.4124755859375, 'y': 324.43438720703125}, {'x': 617.2921752929688, 'y': 324.43438720703125}, {'x': 616.171875, 'y': 325.0500183105469}, {'x': 616.171875, 'y': 325.6656494140625}, {'x': 613.9312133789062, 'y': 326.8968811035156}, {'x': 612.8109130859375, 'y': 326.8968811035156}, {'x': 608.3296508789062, 'y': 329.359375}, {'x': 607.2093505859375, 'y': 329.359375}, {'x': 596.0062255859375, 'y': 335.515625}, {'x': 596.0062255859375, 'y': 336.1312561035156}, {'x': 575.840576171875, 'y': 347.2125244140625}, {'x': 574.7202758789062, 'y': 347.2125244140625}, {'x': 564.637451171875, 'y': 352.7531433105469}, {'x': 564.637451171875, 'y': 353.3687744140625}, {'x': 560.15625, 'y': 355.8312683105469}, {'x': 560.15625, 'y': 356.4468994140625}, {'x': 554.5546875, 'y': 359.5250244140625}, {'x': 554.5546875, 'y': 360.140625}, {'x': 551.1937255859375, 'y': 361.9875183105469}, {'x': 550.0734252929688, 'y': 361.9875183105469}, {'x': 541.1109008789062, 'y': 366.9125061035156}, {'x': 539.9906005859375, 'y': 366.9125061035156}, {'x': 535.5093383789062, 'y': 369.375}, {'x': 534.3890380859375, 'y': 369.375}, {'x': 525.426513671875, 'y': 374.3000183105469}, {'x': 524.3062133789062, 'y': 374.3000183105469}, {'x': 520.9453125, 'y': 376.1468811035156}, {'x': 519.824951171875, 'y': 376.1468811035156}, {'x': 518.7046508789062, 'y': 376.76251220703125}, {'x': 517.5843505859375, 'y': 376.76251220703125}, {'x': 516.4640502929688, 'y': 377.3781433105469}, {'x': 515.34375, 'y': 377.3781433105469}, {'x': 513.1030883789062, 'y': 378.609375}, {'x': 511.9827880859375, 'y': 378.609375}, {'x': 510.86248779296875, 'y': 379.2250061035156}, {'x': 509.7421569824219, 'y': 379.2250061035156}, {'x': 508.6218566894531, 'y': 379.84063720703125}, {'x': 507.50152587890625, 'y': 379.84063720703125}, {'x': 506.3812255859375, 'y': 380.4562683105469}, {'x': 504.1405944824219, 'y': 380.4562683105469}, {'x': 503.0202941894531, 'y': 381.0718994140625}, {'x': 500.7796630859375, 'y': 381.0718994140625}, {'x': 499.65936279296875, 'y': 381.6875}, {'x': 498.5390319824219, 'y': 381.6875}, {'x': 497.4187316894531, 'y': 381.0718994140625}, {'x': 497.4187316894531, 'y': 393.3843994140625}, {'x': 715.879638671875, 'y': 393.3843994140625}, {'x': 715.879638671875, 'y': 273.3375244140625}], 'class_id': 0, 'detection_id': 'cfbfd318-6f9c-46ca-932f-081fab3a6463'}, {'x': 310.0, 'y': 75.5, 'width': 70.0, 'height': 115.0, 'confidence': 0.022784020751714706, 'class': 'tomato-early blight', 'points': [{'x': 275.59686279296875, 'y': 17.853126525878906}, {'x': 275.59686279296875, 'y': 40.63125228881836}, {'x': 276.7171630859375, 'y': 41.24687576293945}, {'x': 276.7171630859375, 'y': 41.86250305175781}, {'x': 277.8374938964844, 'y': 42.478126525878906}, {'x': 277.8374938964844, 'y': 44.94062805175781}, {'x': 278.9577941894531, 'y': 45.556251525878906}, {'x': 278.9577941894531, 'y': 46.171875}, {'x': 281.19842529296875, 'y': 47.40312576293945}, {'x': 281.19842529296875, 'y': 48.01875305175781}, {'x': 282.3187255859375, 'y': 48.634376525878906}, {'x': 282.3187255859375, 'y': 52.94375228881836}, {'x': 283.4390563964844, 'y': 53.55937576293945}, {'x': 283.4390563964844, 'y': 55.406253814697266}, {'x': 285.6796875, 'y': 56.63750076293945}, {'x': 285.6796875, 'y': 57.25312805175781}, {'x': 286.79998779296875, 'y': 57.868751525878906}, {'x': 286.79998779296875, 'y': 62.17812728881836}, {'x': 287.9202880859375, 'y': 62.79375076293945}, {'x': 287.9202880859375, 'y': 63.40937805175781}, {'x': 289.0406188964844, 'y': 64.0250015258789}, {'x': 289.0406188964844, 'y': 64.640625}, {'x': 290.1609191894531, 'y': 65.25625610351562}, {'x': 290.1609191894531, 'y': 66.48750305175781}, {'x': 291.28125, 'y': 67.1031265258789}, {'x': 291.28125, 'y': 72.64375305175781}, {'x': 292.40155029296875, 'y': 73.2593765258789}, {'x': 292.40155029296875, 'y': 74.49063110351562}, {'x': 294.6421813964844, 'y': 75.72187805175781}, {'x': 294.6421813964844, 'y': 76.3375015258789}, {'x': 295.7624816894531, 'y': 76.953125}, {'x': 295.7624816894531, 'y': 81.87812805175781}, {'x': 296.8828125, 'y': 82.4937515258789}, {'x': 296.8828125, 'y': 83.72500610351562}, {'x': 298.00311279296875, 'y': 84.34062957763672}, {'x': 298.00311279296875, 'y': 84.95625305175781}, {'x': 299.1234130859375, 'y': 85.5718765258789}, {'x': 299.1234130859375, 'y': 87.41875457763672}, {'x': 300.2437438964844, 'y': 88.03437805175781}, {'x': 300.2437438964844, 'y': 91.7281265258789}, {'x': 301.3640441894531, 'y': 92.34375}, {'x': 301.3640441894531, 'y': 94.8062515258789}, {'x': 302.484375, 'y': 95.421875}, {'x': 302.484375, 'y': 96.65312957763672}, {'x': 303.60467529296875, 'y': 97.26875305175781}, {'x': 303.60467529296875, 'y': 98.5}, {'x': 304.7249755859375, 'y': 99.11563110351562}, {'x': 304.7249755859375, 'y': 102.19375610351562}, {'x': 305.8453063964844, 'y': 102.80937957763672}, {'x': 305.8453063964844, 'y': 104.0406265258789}, {'x': 306.9656066894531, 'y': 104.65625762939453}, {'x': 306.9656066894531, 'y': 105.88750457763672}, {'x': 308.0859375, 'y': 106.50312805175781}, {'x': 308.0859375, 'y': 107.73438262939453}, {'x': 309.20623779296875, 'y': 108.35000610351562}, {'x': 309.20623779296875, 'y': 109.58125305175781}, {'x': 310.3265380859375, 'y': 110.1968765258789}, {'x': 310.3265380859375, 'y': 110.81250762939453}, {'x': 311.4468688964844, 'y': 111.42813110351562}, {'x': 311.4468688964844, 'y': 112.04375457763672}, {'x': 312.5671691894531, 'y': 112.65937805175781}, {'x': 312.5671691894531, 'y': 113.2750015258789}, {'x': 313.6875, 'y': 113.89063262939453}, {'x': 313.6875, 'y': 114.50625610351562}, {'x': 314.80780029296875, 'y': 115.12187957763672}, {'x': 314.80780029296875, 'y': 115.73750305175781}, {'x': 318.1687316894531, 'y': 117.58438110351562}, {'x': 319.2890625, 'y': 117.58438110351562}, {'x': 324.890625, 'y': 120.66250610351562}, {'x': 326.01092529296875, 'y': 120.66250610351562}, {'x': 327.1312255859375, 'y': 121.27812957763672}, {'x': 327.1312255859375, 'y': 121.89375305175781}, {'x': 328.2515563964844, 'y': 122.5093765258789}, {'x': 328.2515563964844, 'y': 123.12500762939453}, {'x': 329.3718566894531, 'y': 123.12500762939453}, {'x': 330.4921875, 'y': 122.5093765258789}, {'x': 330.4921875, 'y': 121.89375305175781}, {'x': 333.8531188964844, 'y': 120.04688262939453}, {'x': 333.8531188964844, 'y': 119.4312515258789}, {'x': 334.9734191894531, 'y': 118.81562805175781}, {'x': 334.9734191894531, 'y': 117.58438110351562}, {'x': 336.09375, 'y': 116.96875762939453}, {'x': 336.09375, 'y': 114.50625610351562}, {'x': 337.21405029296875, 'y': 113.89063262939453}, {'x': 337.21405029296875, 'y': 110.81250762939453}, {'x': 339.4546813964844, 'y': 109.58125305175781}, {'x': 339.4546813964844, 'y': 108.96562957763672}, {'x': 340.5749816894531, 'y': 108.35000610351562}, {'x': 340.5749816894531, 'y': 107.1187515258789}, {'x': 341.6953125, 'y': 106.50312805175781}, {'x': 341.6953125, 'y': 105.27188110351562}, {'x': 342.81561279296875, 'y': 104.65625762939453}, {'x': 342.81561279296875, 'y': 100.34687805175781}, {'x': 343.9359130859375, 'y': 99.73125457763672}, {'x': 343.9359130859375, 'y': 92.95938110351562}, {'x': 345.0562438964844, 'y': 92.34375}, {'x': 345.0562438964844, 'y': 89.88125610351562}, {'x': 343.9359130859375, 'y': 89.265625}, {'x': 343.9359130859375, 'y': 84.95625305175781}, {'x': 342.81561279296875, 'y': 84.34062957763672}, {'x': 342.81561279296875, 'y': 83.109375}, {'x': 339.4546813964844, 'y': 81.26250457763672}, {'x': 339.4546813964844, 'y': 80.03125}, {'x': 338.3343505859375, 'y': 79.4156265258789}, {'x': 338.3343505859375, 'y': 78.80000305175781}, {'x': 337.21405029296875, 'y': 78.18437957763672}, {'x': 337.21405029296875, 'y': 77.56875610351562}, {'x': 336.09375, 'y': 76.953125}, {'x': 336.09375, 'y': 76.3375015258789}, {'x': 334.9734191894531, 'y': 75.72187805175781}, {'x': 334.9734191894531, 'y': 73.875}, {'x': 333.8531188964844, 'y': 73.2593765258789}, {'x': 333.8531188964844, 'y': 72.02812957763672}, {'x': 330.4921875, 'y': 70.1812515258789}, {'x': 330.4921875, 'y': 67.71875}, {'x': 329.3718566894531, 'y': 67.1031265258789}, {'x': 329.3718566894531, 'y': 65.87187957763672}, {'x': 328.2515563964844, 'y': 65.25625610351562}, {'x': 328.2515563964844, 'y': 64.640625}, {'x': 327.1312255859375, 'y': 64.0250015258789}, {'x': 327.1312255859375, 'y': 63.40937805175781}, {'x': 326.01092529296875, 'y': 62.79375076293945}, {'x': 326.01092529296875, 'y': 61.562503814697266}, {'x': 324.890625, 'y': 60.946876525878906}, {'x': 324.890625, 'y': 59.71562576293945}, {'x': 322.6499938964844, 'y': 58.484378814697266}, {'x': 322.6499938964844, 'y': 57.868751525878906}, {'x': 321.5296630859375, 'y': 57.25312805175781}, {'x': 321.5296630859375, 'y': 54.790626525878906}, {'x': 320.40936279296875, 'y': 54.17500305175781}, {'x': 320.40936279296875, 'y': 53.55937576293945}, {'x': 319.2890625, 'y': 53.55937576293945}, {'x': 318.1687316894531, 'y': 52.94375228881836}, {'x': 318.1687316894531, 'y': 51.712501525878906}, {'x': 317.0484313964844, 'y': 51.09687805175781}, {'x': 317.0484313964844, 'y': 48.634376525878906}, {'x': 315.9281005859375, 'y': 48.01875305175781}, {'x': 315.9281005859375, 'y': 47.40312576293945}, {'x': 312.5671691894531, 'y': 45.556251525878906}, {'x': 312.5671691894531, 'y': 43.70937728881836}, {'x': 311.4468688964844, 'y': 43.09375}, {'x': 311.4468688964844, 'y': 42.478126525878906}, {'x': 309.20623779296875, 'y': 41.24687576293945}, {'x': 309.20623779296875, 'y': 40.63125228881836}, {'x': 308.0859375, 'y': 40.015625}, {'x': 308.0859375, 'y': 38.16875076293945}, {'x': 306.9656066894531, 'y': 37.55312728881836}, {'x': 306.9656066894531, 'y': 36.9375}, {'x': 303.60467529296875, 'y': 35.09062576293945}, {'x': 303.60467529296875, 'y': 32.01250076293945}, {'x': 302.484375, 'y': 31.396875381469727}, {'x': 302.484375, 'y': 30.781251907348633}, {'x': 300.2437438964844, 'y': 29.55000114440918}, {'x': 300.2437438964844, 'y': 28.934375762939453}, {'x': 299.1234130859375, 'y': 28.318750381469727}, {'x': 299.1234130859375, 'y': 27.703126907348633}, {'x': 295.7624816894531, 'y': 25.856250762939453}, {'x': 295.7624816894531, 'y': 25.240625381469727}, {'x': 294.6421813964844, 'y': 24.625}, {'x': 294.6421813964844, 'y': 22.778125762939453}, {'x': 285.6796875, 'y': 17.853126525878906}], 'class_id': 18, 'detection_id': '02f85156-589f-4cc0-bc6a-0483900d43c6'}, {'x': 112.5, 'y': 197.5, 'width': 219.0, 'height': 389.0, 'confidence': 0.018864117562770844, 'class': 'cucumber leaf - healthy', 'points': [{'x': 4.481249809265137, 'y': 3.078125}, {'x': 4.481249809265137, 'y': 389.07501220703125}, {'x': 5.6015625, 'y': 389.6906433105469}, {'x': 6.721874713897705, 'y': 389.6906433105469}, {'x': 7.84218692779541, 'y': 390.3062744140625}, {'x': 7.84218692779541, 'y': 390.921875}, {'x': 8.962499618530273, 'y': 391.5375061035156}, {'x': 220.70155334472656, 'y': 391.5375061035156}, {'x': 220.70155334472656, 'y': 227.78126525878906}, {'x': 219.58123779296875, 'y': 227.16563415527344}, {'x': 219.58123779296875, 'y': 226.5500030517578}, {'x': 218.46092224121094, 'y': 225.93438720703125}, {'x': 218.46092224121094, 'y': 224.70314025878906}, {'x': 217.3406219482422, 'y': 224.08750915527344}, {'x': 217.3406219482422, 'y': 223.4718780517578}, {'x': 216.22030639648438, 'y': 222.85626220703125}, {'x': 216.22030639648438, 'y': 222.24063110351562}, {'x': 213.97967529296875, 'y': 221.00938415527344}, {'x': 213.97967529296875, 'y': 219.77813720703125}, {'x': 212.85935974121094, 'y': 219.16250610351562}, {'x': 212.85935974121094, 'y': 218.54689025878906}, {'x': 210.61874389648438, 'y': 217.3156280517578}, {'x': 210.61874389648438, 'y': 216.08438110351562}, {'x': 209.49842834472656, 'y': 215.46876525878906}, {'x': 209.49842834472656, 'y': 213.62188720703125}, {'x': 208.37811279296875, 'y': 213.00625610351562}, {'x': 208.37811279296875, 'y': 211.77500915527344}, {'x': 207.25779724121094, 'y': 211.1593780517578}, {'x': 207.25779724121094, 'y': 210.54376220703125}, {'x': 206.1374969482422, 'y': 209.92813110351562}, {'x': 206.1374969482422, 'y': 208.69688415527344}, {'x': 205.01718139648438, 'y': 208.0812530517578}, {'x': 205.01718139648438, 'y': 207.46563720703125}, {'x': 203.89686584472656, 'y': 206.85000610351562}, {'x': 203.89686584472656, 'y': 206.23439025878906}, {'x': 201.65623474121094, 'y': 205.0031280517578}, {'x': 201.65623474121094, 'y': 203.77188110351562}, {'x': 200.5359344482422, 'y': 203.15626525878906}, {'x': 200.5359344482422, 'y': 201.9250030517578}, {'x': 199.41561889648438, 'y': 201.30938720703125}, {'x': 199.41561889648438, 'y': 200.69375610351562}, {'x': 198.29530334472656, 'y': 200.07814025878906}, {'x': 198.29530334472656, 'y': 199.46250915527344}, {'x': 197.17498779296875, 'y': 198.8468780517578}, {'x': 197.17498779296875, 'y': 198.23126220703125}, {'x': 196.05467224121094, 'y': 197.61563110351562}, {'x': 196.05467224121094, 'y': 197.0}, {'x': 194.9343719482422, 'y': 196.38438415527344}, {'x': 194.9343719482422, 'y': 195.7687530517578}, {'x': 193.81405639648438, 'y': 195.15313720703125}, {'x': 193.81405639648438, 'y': 193.921875}, {'x': 192.69374084472656, 'y': 193.30625915527344}, {'x': 192.69374084472656, 'y': 192.6906280517578}, {'x': 191.57342529296875, 'y': 192.07501220703125}, {'x': 191.57342529296875, 'y': 190.84375}, {'x': 190.45310974121094, 'y': 190.22813415527344}, {'x': 190.45310974121094, 'y': 189.6125030517578}, {'x': 189.3328094482422, 'y': 188.99688720703125}, {'x': 189.3328094482422, 'y': 188.38125610351562}, {'x': 188.21249389648438, 'y': 187.765625}, {'x': 188.21249389648438, 'y': 186.5343780517578}, {'x': 187.09217834472656, 'y': 185.91876220703125}, {'x': 187.09217834472656, 'y': 184.6875}, {'x': 185.97186279296875, 'y': 184.07188415527344}, {'x': 185.97186279296875, 'y': 183.4562530517578}, {'x': 181.49061584472656, 'y': 180.99375915527344}, {'x': 180.37030029296875, 'y': 180.99375915527344}, {'x': 179.25, 'y': 180.3781280517578}, {'x': 178.1296844482422, 'y': 180.3781280517578}, {'x': 177.00936889648438, 'y': 179.76251220703125}, {'x': 165.80624389648438, 'y': 179.76251220703125}, {'x': 164.68592834472656, 'y': 180.3781280517578}, {'x': 159.08436584472656, 'y': 180.3781280517578}, {'x': 155.7234344482422, 'y': 178.53125}, {'x': 155.7234344482422, 'y': 176.68438720703125}, {'x': 156.84375, 'y': 176.06875610351562}, {'x': 156.84375, 'y': 168.0656280517578}, {'x': 157.96405029296875, 'y': 167.45001220703125}, {'x': 157.96405029296875, 'y': 166.83438110351562}, {'x': 159.08436584472656, 'y': 166.21875}, {'x': 159.08436584472656, 'y': 165.60313415527344}, {'x': 162.4453125, 'y': 163.75625610351562}, {'x': 162.4453125, 'y': 163.140625}, {'x': 163.56561279296875, 'y': 162.52500915527344}, {'x': 163.56561279296875, 'y': 161.9093780517578}, {'x': 164.68592834472656, 'y': 161.29376220703125}, {'x': 164.68592834472656, 'y': 159.44688415527344}, {'x': 165.80624389648438, 'y': 158.8312530517578}, {'x': 165.80624389648438, 'y': 156.36875915527344}, {'x': 166.9265594482422, 'y': 155.7531280517578}, {'x': 166.9265594482422, 'y': 153.29063415527344}, {'x': 168.046875, 'y': 152.6750030517578}, {'x': 168.046875, 'y': 152.05938720703125}, {'x': 170.28749084472656, 'y': 150.828125}, {'x': 170.28749084472656, 'y': 150.21250915527344}, {'x': 171.40780639648438, 'y': 149.5968780517578}, {'x': 171.40780639648438, 'y': 148.98126220703125}, {'x': 177.00936889648438, 'y': 145.90313720703125}, {'x': 178.1296844482422, 'y': 145.90313720703125}, {'x': 179.25, 'y': 145.28750610351562}, {'x': 180.37030029296875, 'y': 145.28750610351562}, {'x': 181.49061584472656, 'y': 144.671875}, {'x': 184.85154724121094, 'y': 146.5187530517578}, {'x': 187.09217834472656, 'y': 146.5187530517578}, {'x': 187.09217834472656, 'y': 145.28750610351562}, {'x': 185.97186279296875, 'y': 144.671875}, {'x': 185.97186279296875, 'y': 144.05625915527344}, {'x': 184.85154724121094, 'y': 143.4406280517578}, {'x': 183.7312469482422, 'y': 143.4406280517578}, {'x': 182.61093139648438, 'y': 142.82501220703125}, {'x': 181.49061584472656, 'y': 142.82501220703125}, {'x': 180.37030029296875, 'y': 142.20938110351562}, {'x': 180.37030029296875, 'y': 141.59375}, {'x': 178.1296844482422, 'y': 140.3625030517578}, {'x': 178.1296844482422, 'y': 139.74688720703125}, {'x': 177.00936889648438, 'y': 139.13125610351562}, {'x': 177.00936889648438, 'y': 138.515625}, {'x': 173.6484375, 'y': 136.66876220703125}, {'x': 173.6484375, 'y': 136.05313110351562}, {'x': 171.40780639648438, 'y': 134.82188415527344}, {'x': 171.40780639648438, 'y': 134.2062530517578}, {'x': 170.28749084472656, 'y': 133.59063720703125}, {'x': 170.28749084472656, 'y': 132.97500610351562}, {'x': 165.80624389648438, 'y': 130.51251220703125}, {'x': 165.80624389648438, 'y': 129.89688110351562}, {'x': 163.56561279296875, 'y': 128.66563415527344}, {'x': 163.56561279296875, 'y': 128.0500030517578}, {'x': 161.3249969482422, 'y': 126.81875610351562}, {'x': 161.3249969482422, 'y': 126.20313262939453}, {'x': 160.20468139648438, 'y': 125.5875015258789}, {'x': 160.20468139648438, 'y': 124.97187805175781}, {'x': 159.08436584472656, 'y': 124.97187805175781}, {'x': 156.84375, 'y': 123.74063110351562}, {'x': 156.84375, 'y': 122.5093765258789}, {'x': 155.7234344482422, 'y': 121.89375305175781}, {'x': 155.7234344482422, 'y': 121.27812957763672}, {'x': 157.96405029296875, 'y': 120.04688262939453}, {'x': 159.08436584472656, 'y': 120.04688262939453}, {'x': 161.3249969482422, 'y': 121.27812957763672}, {'x': 162.4453125, 'y': 121.27812957763672}, {'x': 163.56561279296875, 'y': 121.89375305175781}, {'x': 163.56561279296875, 'y': 122.5093765258789}, {'x': 166.9265594482422, 'y': 122.5093765258789}, {'x': 171.40780639648438, 'y': 124.97187805175781}, {'x': 172.5281219482422, 'y': 124.97187805175781}, {'x': 175.88905334472656, 'y': 126.81875610351562}, {'x': 177.00936889648438, 'y': 126.81875610351562}, {'x': 182.61093139648438, 'y': 129.89688110351562}, {'x': 182.61093139648438, 'y': 130.51251220703125}, {'x': 183.7312469482422, 'y': 131.1281280517578}, {'x': 183.7312469482422, 'y': 131.74375915527344}, {'x': 189.3328094482422, 'y': 134.82188415527344}, {'x': 189.3328094482422, 'y': 135.4375}, {'x': 193.81405639648438, 'y': 137.90000915527344}, {'x': 194.9343719482422, 'y': 137.90000915527344}, {'x': 196.05467224121094, 'y': 138.515625}, {'x': 196.05467224121094, 'y': 139.13125610351562}, {'x': 197.17498779296875, 'y': 139.74688720703125}, {'x': 197.17498779296875, 'y': 140.3625030517578}, {'x': 198.29530334472656, 'y': 140.97813415527344}, {'x': 198.29530334472656, 'y': 141.59375}, {'x': 200.5359344482422, 'y': 142.82501220703125}, {'x': 200.5359344482422, 'y': 143.4406280517578}, {'x': 201.65623474121094, 'y': 144.05625915527344}, {'x': 201.65623474121094, 'y': 147.13438415527344}, {'x': 202.77655029296875, 'y': 147.75}, {'x': 202.77655029296875, 'y': 148.36563110351562}, {'x': 203.89686584472656, 'y': 148.98126220703125}, {'x': 203.89686584472656, 'y': 150.21250915527344}, {'x': 205.01718139648438, 'y': 150.828125}, {'x': 203.89686584472656, 'y': 151.44375610351562}, {'x': 200.5359344482422, 'y': 151.44375610351562}, {'x': 199.41561889648438, 'y': 150.828125}, {'x': 193.81405639648438, 'y': 150.828125}, {'x': 193.81405639648438, 'y': 152.05938720703125}, {'x': 192.69374084472656, 'y': 152.6750030517578}, {'x': 192.69374084472656, 'y': 153.90625}, {'x': 193.81405639648438, 'y': 154.52188110351562}, {'x': 193.81405639648438, 'y': 157.60000610351562}, {'x': 192.69374084472656, 'y': 158.21563720703125}, {'x': 196.05467224121094, 'y': 160.0625}, {'x': 198.29530334472656, 'y': 160.0625}, {'x': 200.5359344482422, 'y': 161.29376220703125}, {'x': 200.5359344482422, 'y': 161.9093780517578}, {'x': 203.89686584472656, 'y': 163.75625610351562}, {'x': 207.25779724121094, 'y': 163.75625610351562}, {'x': 212.85935974121094, 'y': 166.83438110351562}, {'x': 213.97967529296875, 'y': 166.83438110351562}, {'x': 217.3406219482422, 'y': 168.68125915527344}, {'x': 216.22030639648438, 'y': 169.296875}, {'x': 216.22030639648438, 'y': 169.91250610351562}, {'x': 213.97967529296875, 'y': 171.1437530517578}, {'x': 213.97967529296875, 'y': 171.75938415527344}, {'x': 211.7390594482422, 'y': 172.99063110351562}, {'x': 201.65623474121094, 'y': 172.99063110351562}, {'x': 200.5359344482422, 'y': 173.60626220703125}, {'x': 199.41561889648438, 'y': 173.60626220703125}, {'x': 198.29530334472656, 'y': 174.2218780517578}, {'x': 198.29530334472656, 'y': 174.83750915527344}, {'x': 196.05467224121094, 'y': 176.06875610351562}, {'x': 196.05467224121094, 'y': 176.68438720703125}, {'x': 194.9343719482422, 'y': 177.3000030517578}, {'x': 194.9343719482422, 'y': 178.53125}, {'x': 193.81405639648438, 'y': 179.14688110351562}, {'x': 193.81405639648438, 'y': 179.76251220703125}, {'x': 192.69374084472656, 'y': 180.3781280517578}, {'x': 196.05467224121094, 'y': 182.22500610351562}, {'x': 196.05467224121094, 'y': 182.84063720703125}, {'x': 197.17498779296875, 'y': 183.4562530517578}, {'x': 197.17498779296875, 'y': 184.6875}, {'x': 198.29530334472656, 'y': 185.30313110351562}, {'x': 198.29530334472656, 'y': 185.91876220703125}, {'x': 199.41561889648438, 'y': 185.91876220703125}, {'x': 199.41561889648438, 'y': 185.30313110351562}, {'x': 200.5359344482422, 'y': 184.6875}, {'x': 200.5359344482422, 'y': 184.07188415527344}, {'x': 202.77655029296875, 'y': 182.84063720703125}, {'x': 202.77655029296875, 'y': 180.3781280517578}, {'x': 203.89686584472656, 'y': 179.76251220703125}, {'x': 203.89686584472656, 'y': 177.91563415527344}, {'x': 202.77655029296875, 'y': 177.3000030517578}, {'x': 202.77655029296875, 'y': 174.83750915527344}, {'x': 205.01718139648438, 'y': 173.60626220703125}, {'x': 212.85935974121094, 'y': 173.60626220703125}, {'x': 215.09999084472656, 'y': 174.83750915527344}, {'x': 216.22030639648438, 'y': 174.83750915527344}, {'x': 217.3406219482422, 'y': 175.453125}, {'x': 217.3406219482422, 'y': 176.68438720703125}, {'x': 218.46092224121094, 'y': 177.3000030517578}, {'x': 218.46092224121094, 'y': 177.91563415527344}, {'x': 220.70155334472656, 'y': 179.14688110351562}, {'x': 220.70155334472656, 'y': 102.80937957763672}, {'x': 219.58123779296875, 'y': 102.19375610351562}, {'x': 219.58123779296875, 'y': 97.8843765258789}, {'x': 218.46092224121094, 'y': 97.26875305175781}, {'x': 218.46092224121094, 'y': 92.95938110351562}, {'x': 217.3406219482422, 'y': 92.34375}, {'x': 217.3406219482422, 'y': 91.7281265258789}, {'x': 218.46092224121094, 'y': 91.11250305175781}, {'x': 218.46092224121094, 'y': 89.88125610351562}, {'x': 219.58123779296875, 'y': 89.265625}, {'x': 219.58123779296875, 'y': 88.6500015258789}, {'x': 220.70155334472656, 'y': 88.03437805175781}, {'x': 220.70155334472656, 'y': 35.70625305175781}, {'x': 219.58123779296875, 'y': 36.321876525878906}, {'x': 218.46092224121094, 'y': 36.321876525878906}, {'x': 217.3406219482422, 'y': 36.9375}, {'x': 216.22030639648438, 'y': 36.9375}, {'x': 215.09999084472656, 'y': 37.55312728881836}, {'x': 213.97967529296875, 'y': 37.55312728881836}, {'x': 212.85935974121094, 'y': 38.16875076293945}, {'x': 208.37811279296875, 'y': 35.70625305175781}, {'x': 207.25779724121094, 'y': 35.70625305175781}, {'x': 206.1374969482422, 'y': 36.321876525878906}, {'x': 203.89686584472656, 'y': 36.321876525878906}, {'x': 202.77655029296875, 'y': 36.9375}, {'x': 201.65623474121094, 'y': 36.321876525878906}, {'x': 199.41561889648438, 'y': 36.321876525878906}, {'x': 197.17498779296875, 'y': 35.09062576293945}, {'x': 197.17498779296875, 'y': 33.859375}, {'x': 196.05467224121094, 'y': 33.243751525878906}, {'x': 196.05467224121094, 'y': 32.01250076293945}, {'x': 194.9343719482422, 'y': 31.396875381469727}, {'x': 194.9343719482422, 'y': 30.781251907348633}, {'x': 193.81405639648438, 'y': 30.165626525878906}, {'x': 193.81405639648438, 'y': 29.55000114440918}, {'x': 192.69374084472656, 'y': 28.934375762939453}, {'x': 192.69374084472656, 'y': 25.856250762939453}, {'x': 191.57342529296875, 'y': 25.240625381469727}, {'x': 191.57342529296875, 'y': 23.39375114440918}, {'x': 193.81405639648438, 'y': 22.162500381469727}, {'x': 196.05467224121094, 'y': 23.39375114440918}, {'x': 196.05467224121094, 'y': 24.009376525878906}, {'x': 205.01718139648438, 'y': 28.934375762939453}, {'x': 205.01718139648438, 'y': 29.55000114440918}, {'x': 206.1374969482422, 'y': 30.165626525878906}, {'x': 206.1374969482422, 'y': 31.396875381469727}, {'x': 207.25779724121094, 'y': 32.01250076293945}, {'x': 207.25779724121094, 'y': 32.62812805175781}, {'x': 208.37811279296875, 'y': 33.243751525878906}, {'x': 210.61874389648438, 'y': 32.01250076293945}, {'x': 210.61874389648438, 'y': 31.396875381469727}, {'x': 211.7390594482422, 'y': 30.781251907348633}, {'x': 211.7390594482422, 'y': 30.165626525878906}, {'x': 216.22030639648438, 'y': 27.703126907348633}, {'x': 220.70155334472656, 'y': 27.703126907348633}, {'x': 220.70155334472656, 'y': 3.6937501430511475}, {'x': 217.3406219482422, 'y': 3.6937501430511475}, {'x': 216.22030639648438, 'y': 4.309375286102295}, {'x': 213.97967529296875, 'y': 4.309375286102295}, {'x': 212.85935974121094, 'y': 4.925000190734863}, {'x': 211.7390594482422, 'y': 4.925000190734863}, {'x': 210.61874389648438, 'y': 4.309375286102295}, {'x': 209.49842834472656, 'y': 4.309375286102295}, {'x': 208.37811279296875, 'y': 3.6937501430511475}, {'x': 206.1374969482422, 'y': 3.6937501430511475}, {'x': 205.01718139648438, 'y': 3.078125}, {'x': 202.77655029296875, 'y': 3.078125}, {'x': 201.65623474121094, 'y': 3.6937501430511475}, {'x': 190.45310974121094, 'y': 3.6937501430511475}, {'x': 189.3328094482422, 'y': 4.309375286102295}, {'x': 189.3328094482422, 'y': 5.540625095367432}, {'x': 188.21249389648438, 'y': 6.15625}, {'x': 188.21249389648438, 'y': 6.771875381469727}, {'x': 187.09217834472656, 'y': 7.387500286102295}, {'x': 187.09217834472656, 'y': 9.234375}, {'x': 188.21249389648438, 'y': 9.850000381469727}, {'x': 188.21249389648438, 'y': 15.390625953674316}, {'x': 189.3328094482422, 'y': 16.006250381469727}, {'x': 189.3328094482422, 'y': 17.23750114440918}, {'x': 190.45310974121094, 'y': 17.853126525878906}, {'x': 190.45310974121094, 'y': 18.46875}, {'x': 189.3328094482422, 'y': 19.084375381469727}, {'x': 188.21249389648438, 'y': 19.084375381469727}, {'x': 187.09217834472656, 'y': 19.700000762939453}, {'x': 185.97186279296875, 'y': 19.700000762939453}, {'x': 183.7312469482422, 'y': 18.46875}, {'x': 183.7312469482422, 'y': 17.23750114440918}, {'x': 182.61093139648438, 'y': 16.621875762939453}, {'x': 182.61093139648438, 'y': 16.006250381469727}, {'x': 180.37030029296875, 'y': 14.77500057220459}, {'x': 180.37030029296875, 'y': 14.159375190734863}, {'x': 179.25, 'y': 13.543750762939453}, {'x': 179.25, 'y': 12.928125381469727}, {'x': 178.1296844482422, 'y': 12.3125}, {'x': 178.1296844482422, 'y': 11.69687557220459}, {'x': 174.76873779296875, 'y': 9.850000381469727}, {'x': 174.76873779296875, 'y': 9.234375}, {'x': 173.6484375, 'y': 8.61875057220459}, {'x': 173.6484375, 'y': 8.003125190734863}, {'x': 171.40780639648438, 'y': 6.771875381469727}, {'x': 171.40780639648438, 'y': 6.15625}, {'x': 170.28749084472656, 'y': 5.540625095367432}, {'x': 170.28749084472656, 'y': 4.925000190734863}, {'x': 169.16717529296875, 'y': 4.309375286102295}, {'x': 169.16717529296875, 'y': 3.078125}], 'class_id': 2, 'detection_id': '78c3b8ac-a066-4390-8d33-b6cf8b24587d'}, {'x': 328.5, 'y': 370.5, 'width': 43.0, 'height': 47.0, 'confidence': 0.0187379140406847, 'class': 'cucumber veggie - healthy', 'points': [{'x': 314.80780029296875, 'y': 358.29376220703125}, {'x': 314.80780029296875, 'y': 358.9093933105469}, {'x': 312.5671691894531, 'y': 360.140625}, {'x': 312.5671691894531, 'y': 360.7562561035156}, {'x': 310.3265380859375, 'y': 361.9875183105469}, {'x': 309.20623779296875, 'y': 361.37188720703125}, {'x': 309.20623779296875, 'y': 360.7562561035156}, {'x': 308.0859375, 'y': 360.140625}, {'x': 308.0859375, 'y': 358.9093933105469}, {'x': 308.0859375, 'y': 393.3843994140625}, {'x': 349.5374755859375, 'y': 393.3843994140625}, {'x': 349.5374755859375, 'y': 386.6125183105469}, {'x': 348.41717529296875, 'y': 385.99688720703125}, {'x': 345.0562438964844, 'y': 385.99688720703125}, {'x': 343.9359130859375, 'y': 385.3812561035156}, {'x': 342.81561279296875, 'y': 385.3812561035156}, {'x': 340.5749816894531, 'y': 384.1500244140625}, {'x': 340.5749816894531, 'y': 383.5343933105469}, {'x': 339.4546813964844, 'y': 382.91876220703125}, {'x': 339.4546813964844, 'y': 382.3031311035156}, {'x': 338.3343505859375, 'y': 381.6875}, {'x': 338.3343505859375, 'y': 381.0718994140625}, {'x': 337.21405029296875, 'y': 380.4562683105469}, {'x': 337.21405029296875, 'y': 379.84063720703125}, {'x': 336.09375, 'y': 379.2250061035156}, {'x': 336.09375, 'y': 377.9937744140625}, {'x': 334.9734191894531, 'y': 377.3781433105469}, {'x': 334.9734191894531, 'y': 376.76251220703125}, {'x': 333.8531188964844, 'y': 376.1468811035156}, {'x': 333.8531188964844, 'y': 374.9156494140625}, {'x': 331.61248779296875, 'y': 373.68438720703125}, {'x': 331.61248779296875, 'y': 372.453125}, {'x': 330.4921875, 'y': 371.8375244140625}, {'x': 330.4921875, 'y': 370.60626220703125}, {'x': 329.3718566894531, 'y': 369.9906311035156}, {'x': 329.3718566894531, 'y': 369.375}, {'x': 328.2515563964844, 'y': 368.7593994140625}, {'x': 328.2515563964844, 'y': 368.1437683105469}, {'x': 327.1312255859375, 'y': 367.52813720703125}, {'x': 327.1312255859375, 'y': 366.9125061035156}, {'x': 326.01092529296875, 'y': 366.296875}, {'x': 326.01092529296875, 'y': 365.6812744140625}, {'x': 324.890625, 'y': 365.0656433105469}, {'x': 324.890625, 'y': 364.45001220703125}, {'x': 323.7702941894531, 'y': 363.8343811035156}, {'x': 323.7702941894531, 'y': 363.21875}, {'x': 321.5296630859375, 'y': 361.9875183105469}, {'x': 321.5296630859375, 'y': 361.37188720703125}, {'x': 320.40936279296875, 'y': 360.7562561035156}, {'x': 320.40936279296875, 'y': 360.140625}, {'x': 318.1687316894531, 'y': 358.9093933105469}, {'x': 317.0484313964844, 'y': 358.9093933105469}, {'x': 315.9281005859375, 'y': 358.29376220703125}], 'class_id': 4, 'detection_id': 'd6003535-ef49-4581-85d4-cd031cbd2c37'}, {'x': 311.0, 'y': 76.5, 'width': 68.0, 'height': 113.0, 'confidence': 0.01542765274643898, 'class': 'bell pepper leaf-unhealthy', 'points': [{'x': 277.8374938964844, 'y': 20.31562614440918}, {'x': 277.8374938964844, 'y': 44.94062805175781}, {'x': 278.9577941894531, 'y': 45.556251525878906}, {'x': 278.9577941894531, 'y': 46.171875}, {'x': 281.19842529296875, 'y': 47.40312576293945}, {'x': 281.19842529296875, 'y': 48.634376525878906}, {'x': 282.3187255859375, 'y': 49.25}, {'x': 282.3187255859375, 'y': 52.94375228881836}, {'x': 283.4390563964844, 'y': 53.55937576293945}, {'x': 283.4390563964844, 'y': 55.406253814697266}, {'x': 285.6796875, 'y': 56.63750076293945}, {'x': 285.6796875, 'y': 57.25312805175781}, {'x': 286.79998779296875, 'y': 57.868751525878906}, {'x': 286.79998779296875, 'y': 62.17812728881836}, {'x': 287.9202880859375, 'y': 62.79375076293945}, {'x': 287.9202880859375, 'y': 63.40937805175781}, {'x': 289.0406188964844, 'y': 64.0250015258789}, {'x': 289.0406188964844, 'y': 64.640625}, {'x': 290.1609191894531, 'y': 65.25625610351562}, {'x': 290.1609191894531, 'y': 66.48750305175781}, {'x': 291.28125, 'y': 67.1031265258789}, {'x': 291.28125, 'y': 72.64375305175781}, {'x': 292.40155029296875, 'y': 73.2593765258789}, {'x': 292.40155029296875, 'y': 73.875}, {'x': 293.5218505859375, 'y': 74.49063110351562}, {'x': 293.5218505859375, 'y': 75.10625457763672}, {'x': 294.6421813964844, 'y': 75.72187805175781}, {'x': 294.6421813964844, 'y': 76.3375015258789}, {'x': 295.7624816894531, 'y': 76.953125}, {'x': 295.7624816894531, 'y': 81.87812805175781}, {'x': 296.8828125, 'y': 82.4937515258789}, {'x': 296.8828125, 'y': 83.109375}, {'x': 298.00311279296875, 'y': 83.72500610351562}, {'x': 298.00311279296875, 'y': 84.34062957763672}, {'x': 299.1234130859375, 'y': 84.95625305175781}, {'x': 299.1234130859375, 'y': 87.41875457763672}, {'x': 300.2437438964844, 'y': 88.03437805175781}, {'x': 300.2437438964844, 'y': 91.11250305175781}, {'x': 301.3640441894531, 'y': 91.7281265258789}, {'x': 301.3640441894531, 'y': 94.8062515258789}, {'x': 302.484375, 'y': 95.421875}, {'x': 302.484375, 'y': 96.65312957763672}, {'x': 303.60467529296875, 'y': 97.26875305175781}, {'x': 303.60467529296875, 'y': 98.5}, {'x': 304.7249755859375, 'y': 99.11563110351562}, {'x': 304.7249755859375, 'y': 102.19375610351562}, {'x': 305.8453063964844, 'y': 102.80937957763672}, {'x': 305.8453063964844, 'y': 104.0406265258789}, {'x': 306.9656066894531, 'y': 104.65625762939453}, {'x': 306.9656066894531, 'y': 106.50312805175781}, {'x': 308.0859375, 'y': 107.1187515258789}, {'x': 308.0859375, 'y': 107.73438262939453}, {'x': 309.20623779296875, 'y': 108.35000610351562}, {'x': 309.20623779296875, 'y': 109.58125305175781}, {'x': 310.3265380859375, 'y': 110.1968765258789}, {'x': 310.3265380859375, 'y': 111.42813110351562}, {'x': 312.5671691894531, 'y': 112.65937805175781}, {'x': 312.5671691894531, 'y': 113.2750015258789}, {'x': 313.6875, 'y': 113.89063262939453}, {'x': 313.6875, 'y': 114.50625610351562}, {'x': 314.80780029296875, 'y': 115.12187957763672}, {'x': 314.80780029296875, 'y': 115.73750305175781}, {'x': 318.1687316894531, 'y': 117.58438110351562}, {'x': 319.2890625, 'y': 117.58438110351562}, {'x': 328.2515563964844, 'y': 122.5093765258789}, {'x': 328.2515563964844, 'y': 123.12500762939453}, {'x': 329.3718566894531, 'y': 123.12500762939453}, {'x': 330.4921875, 'y': 122.5093765258789}, {'x': 330.4921875, 'y': 121.89375305175781}, {'x': 333.8531188964844, 'y': 120.04688262939453}, {'x': 333.8531188964844, 'y': 119.4312515258789}, {'x': 334.9734191894531, 'y': 118.81562805175781}, {'x': 334.9734191894531, 'y': 117.58438110351562}, {'x': 336.09375, 'y': 116.96875762939453}, {'x': 336.09375, 'y': 114.50625610351562}, {'x': 337.21405029296875, 'y': 113.89063262939453}, {'x': 337.21405029296875, 'y': 111.42813110351562}, {'x': 338.3343505859375, 'y': 110.81250762939453}, {'x': 338.3343505859375, 'y': 110.1968765258789}, {'x': 339.4546813964844, 'y': 109.58125305175781}, {'x': 339.4546813964844, 'y': 108.96562957763672}, {'x': 340.5749816894531, 'y': 108.35000610351562}, {'x': 340.5749816894531, 'y': 107.73438262939453}, {'x': 341.6953125, 'y': 107.1187515258789}, {'x': 341.6953125, 'y': 105.88750457763672}, {'x': 342.81561279296875, 'y': 105.27188110351562}, {'x': 342.81561279296875, 'y': 100.9625015258789}, {'x': 343.9359130859375, 'y': 100.34687805175781}, {'x': 343.9359130859375, 'y': 95.421875}, {'x': 345.0562438964844, 'y': 94.8062515258789}, {'x': 345.0562438964844, 'y': 89.265625}, {'x': 343.9359130859375, 'y': 88.6500015258789}, {'x': 343.9359130859375, 'y': 84.95625305175781}, {'x': 342.81561279296875, 'y': 84.34062957763672}, {'x': 342.81561279296875, 'y': 83.109375}, {'x': 339.4546813964844, 'y': 81.26250457763672}, {'x': 339.4546813964844, 'y': 80.03125}, {'x': 338.3343505859375, 'y': 79.4156265258789}, {'x': 338.3343505859375, 'y': 78.80000305175781}, {'x': 336.09375, 'y': 77.56875610351562}, {'x': 336.09375, 'y': 76.953125}, {'x': 334.9734191894531, 'y': 76.3375015258789}, {'x': 334.9734191894531, 'y': 74.49063110351562}, {'x': 333.8531188964844, 'y': 73.875}, {'x': 333.8531188964844, 'y': 72.64375305175781}, {'x': 332.7327880859375, 'y': 72.02812957763672}, {'x': 332.7327880859375, 'y': 71.41250610351562}, {'x': 330.4921875, 'y': 70.1812515258789}, {'x': 330.4921875, 'y': 68.33438110351562}, {'x': 329.3718566894531, 'y': 67.71875}, {'x': 329.3718566894531, 'y': 66.48750305175781}, {'x': 328.2515563964844, 'y': 65.87187957763672}, {'x': 328.2515563964844, 'y': 65.25625610351562}, {'x': 327.1312255859375, 'y': 64.640625}, {'x': 327.1312255859375, 'y': 63.40937805175781}, {'x': 326.01092529296875, 'y': 62.79375076293945}, {'x': 326.01092529296875, 'y': 61.562503814697266}, {'x': 324.890625, 'y': 60.946876525878906}, {'x': 324.890625, 'y': 60.33125305175781}, {'x': 323.7702941894531, 'y': 59.71562576293945}, {'x': 323.7702941894531, 'y': 59.10000228881836}, {'x': 322.6499938964844, 'y': 58.484378814697266}, {'x': 322.6499938964844, 'y': 57.868751525878906}, {'x': 321.5296630859375, 'y': 57.25312805175781}, {'x': 321.5296630859375, 'y': 54.790626525878906}, {'x': 318.1687316894531, 'y': 52.94375228881836}, {'x': 318.1687316894531, 'y': 51.712501525878906}, {'x': 317.0484313964844, 'y': 51.09687805175781}, {'x': 317.0484313964844, 'y': 49.25}, {'x': 315.9281005859375, 'y': 48.634376525878906}, {'x': 315.9281005859375, 'y': 47.40312576293945}, {'x': 312.5671691894531, 'y': 45.556251525878906}, {'x': 312.5671691894531, 'y': 43.70937728881836}, {'x': 311.4468688964844, 'y': 43.09375}, {'x': 311.4468688964844, 'y': 42.478126525878906}, {'x': 309.20623779296875, 'y': 41.24687576293945}, {'x': 309.20623779296875, 'y': 40.63125228881836}, {'x': 308.0859375, 'y': 40.015625}, {'x': 308.0859375, 'y': 37.55312728881836}, {'x': 303.60467529296875, 'y': 35.09062576293945}, {'x': 303.60467529296875, 'y': 32.01250076293945}, {'x': 302.484375, 'y': 31.396875381469727}, {'x': 302.484375, 'y': 30.781251907348633}, {'x': 300.2437438964844, 'y': 29.55000114440918}, {'x': 300.2437438964844, 'y': 28.934375762939453}, {'x': 299.1234130859375, 'y': 28.318750381469727}, {'x': 299.1234130859375, 'y': 27.703126907348633}, {'x': 295.7624816894531, 'y': 25.856250762939453}, {'x': 295.7624816894531, 'y': 25.240625381469727}, {'x': 294.6421813964844, 'y': 24.625}, {'x': 294.6421813964844, 'y': 22.778125762939453}, {'x': 290.1609191894531, 'y': 20.31562614440918}], 'class_id': 1, 'detection_id': 'ba9c318e-344d-40a4-93e2-b0d6cd7b49d0'}, {'x': 492.5, 'y': 278.5, 'width': 95.0, 'height': 229.0, 'confidence': 0.010053043253719807, 'class': 'cucumber veggie - unhealthy', 'points': [{'x': 445.8843688964844, 'y': 163.75625610351562}, {'x': 445.8843688964844, 'y': 183.4562530517578}, {'x': 447.0046691894531, 'y': 184.07188415527344}, {'x': 452.6062316894531, 'y': 184.07188415527344}, {'x': 453.7265319824219, 'y': 183.4562530517578}, {'x': 459.3280944824219, 'y': 183.4562530517578}, {'x': 463.8093566894531, 'y': 180.99375915527344}, {'x': 468.2906188964844, 'y': 180.99375915527344}, {'x': 469.4109191894531, 'y': 181.609375}, {'x': 469.4109191894531, 'y': 182.22500610351562}, {'x': 470.5312194824219, 'y': 182.84063720703125}, {'x': 470.5312194824219, 'y': 183.4562530517578}, {'x': 471.65155029296875, 'y': 184.07188415527344}, {'x': 471.65155029296875, 'y': 189.6125030517578}, {'x': 470.5312194824219, 'y': 190.22813415527344}, {'x': 470.5312194824219, 'y': 192.6906280517578}, {'x': 469.4109191894531, 'y': 193.30625915527344}, {'x': 469.4109191894531, 'y': 194.53750610351562}, {'x': 468.2906188964844, 'y': 195.15313720703125}, {'x': 468.2906188964844, 'y': 195.7687530517578}, {'x': 467.1702880859375, 'y': 196.38438415527344}, {'x': 467.1702880859375, 'y': 197.0}, {'x': 466.04998779296875, 'y': 197.61563110351562}, {'x': 466.04998779296875, 'y': 200.07814025878906}, {'x': 464.9296569824219, 'y': 200.69375610351562}, {'x': 464.9296569824219, 'y': 201.9250030517578}, {'x': 463.8093566894531, 'y': 202.54063415527344}, {'x': 463.8093566894531, 'y': 203.15626525878906}, {'x': 462.6890563964844, 'y': 203.77188110351562}, {'x': 462.6890563964844, 'y': 204.38751220703125}, {'x': 461.5687255859375, 'y': 205.0031280517578}, {'x': 461.5687255859375, 'y': 206.23439025878906}, {'x': 460.44842529296875, 'y': 206.85000610351562}, {'x': 460.44842529296875, 'y': 207.46563720703125}, {'x': 458.2077941894531, 'y': 208.69688415527344}, {'x': 458.2077941894531, 'y': 209.31251525878906}, {'x': 453.7265319824219, 'y': 211.77500915527344}, {'x': 453.7265319824219, 'y': 212.39064025878906}, {'x': 448.1249694824219, 'y': 215.46876525878906}, {'x': 448.1249694824219, 'y': 216.08438110351562}, {'x': 445.8843688964844, 'y': 217.3156280517578}, {'x': 445.8843688964844, 'y': 392.7687683105469}, {'x': 539.9906005859375, 'y': 392.7687683105469}, {'x': 539.9906005859375, 'y': 366.9125061035156}, {'x': 537.75, 'y': 366.9125061035156}, {'x': 536.629638671875, 'y': 367.52813720703125}, {'x': 534.3890380859375, 'y': 367.52813720703125}, {'x': 532.1484375, 'y': 366.296875}, {'x': 532.1484375, 'y': 365.6812744140625}, {'x': 531.028076171875, 'y': 365.0656433105469}, {'x': 531.028076171875, 'y': 363.21875}, {'x': 532.1484375, 'y': 362.6031494140625}, {'x': 532.1484375, 'y': 360.7562561035156}, {'x': 533.2687377929688, 'y': 360.140625}, {'x': 533.2687377929688, 'y': 358.9093933105469}, {'x': 534.3890380859375, 'y': 358.29376220703125}, {'x': 534.3890380859375, 'y': 355.21563720703125}, {'x': 535.5093383789062, 'y': 354.6000061035156}, {'x': 535.5093383789062, 'y': 353.984375}, {'x': 536.629638671875, 'y': 353.3687744140625}, {'x': 536.629638671875, 'y': 352.7531433105469}, {'x': 537.75, 'y': 352.13751220703125}, {'x': 537.75, 'y': 351.5218811035156}, {'x': 538.8703002929688, 'y': 350.90625}, {'x': 538.8703002929688, 'y': 350.2906494140625}, {'x': 539.9906005859375, 'y': 349.6750183105469}, {'x': 539.9906005859375, 'y': 163.75625610351562}], 'class_id': 5, 'detection_id': 'aa8b2297-2563-4438-bcad-714b1f67b079'}, {'x': 392.5, 'y': 205.5, 'width': 47.0, 'height': 141.0, 'confidence': 0.010037082247436047, 'class': 'bell pepper leaf-unhealthy', 'points': [{'x': 404.43280029296875, 'y': 148.98126220703125}, {'x': 403.3124694824219, 'y': 149.5968780517578}, {'x': 401.0718688964844, 'y': 149.5968780517578}, {'x': 399.9515380859375, 'y': 150.21250915527344}, {'x': 399.9515380859375, 'y': 150.828125}, {'x': 398.83123779296875, 'y': 151.44375610351562}, {'x': 398.83123779296875, 'y': 152.05938720703125}, {'x': 392.1093444824219, 'y': 155.7531280517578}, {'x': 392.1093444824219, 'y': 156.36875915527344}, {'x': 390.9890441894531, 'y': 156.984375}, {'x': 390.9890441894531, 'y': 157.60000610351562}, {'x': 389.8687438964844, 'y': 158.21563720703125}, {'x': 389.8687438964844, 'y': 162.52500915527344}, {'x': 388.7484130859375, 'y': 163.140625}, {'x': 389.8687438964844, 'y': 163.75625610351562}, {'x': 389.8687438964844, 'y': 164.37188720703125}, {'x': 390.9890441894531, 'y': 164.9875030517578}, {'x': 390.9890441894531, 'y': 165.60313415527344}, {'x': 392.1093444824219, 'y': 166.21875}, {'x': 390.9890441894531, 'y': 166.83438110351562}, {'x': 390.9890441894531, 'y': 171.1437530517578}, {'x': 389.8687438964844, 'y': 171.75938415527344}, {'x': 389.8687438964844, 'y': 172.375}, {'x': 388.7484130859375, 'y': 172.99063110351562}, {'x': 388.7484130859375, 'y': 174.83750915527344}, {'x': 387.62811279296875, 'y': 175.453125}, {'x': 387.62811279296875, 'y': 176.68438720703125}, {'x': 386.5077819824219, 'y': 177.3000030517578}, {'x': 386.5077819824219, 'y': 180.3781280517578}, {'x': 385.3874816894531, 'y': 180.99375915527344}, {'x': 385.3874816894531, 'y': 184.07188415527344}, {'x': 384.2671813964844, 'y': 184.6875}, {'x': 384.2671813964844, 'y': 188.38125610351562}, {'x': 383.1468505859375, 'y': 188.99688720703125}, {'x': 383.1468505859375, 'y': 190.22813415527344}, {'x': 382.02655029296875, 'y': 190.84375}, {'x': 382.02655029296875, 'y': 191.45938110351562}, {'x': 380.9062194824219, 'y': 192.07501220703125}, {'x': 380.9062194824219, 'y': 195.15313720703125}, {'x': 379.7859191894531, 'y': 195.7687530517578}, {'x': 379.7859191894531, 'y': 197.61563110351562}, {'x': 378.6656188964844, 'y': 198.23126220703125}, {'x': 378.6656188964844, 'y': 201.30938720703125}, {'x': 377.5452880859375, 'y': 201.9250030517578}, {'x': 377.5452880859375, 'y': 203.15626525878906}, {'x': 376.42498779296875, 'y': 203.77188110351562}, {'x': 376.42498779296875, 'y': 205.0031280517578}, {'x': 375.3046569824219, 'y': 205.61875915527344}, {'x': 375.3046569824219, 'y': 208.69688415527344}, {'x': 374.1843566894531, 'y': 209.31251525878906}, {'x': 374.1843566894531, 'y': 211.77500915527344}, {'x': 373.0640563964844, 'y': 212.39064025878906}, {'x': 373.0640563964844, 'y': 214.2375030517578}, {'x': 371.9437255859375, 'y': 214.85313415527344}, {'x': 371.9437255859375, 'y': 216.08438110351562}, {'x': 373.0640563964844, 'y': 216.70001220703125}, {'x': 373.0640563964844, 'y': 225.93438720703125}, {'x': 374.1843566894531, 'y': 226.5500030517578}, {'x': 374.1843566894531, 'y': 229.01251220703125}, {'x': 375.3046569824219, 'y': 229.6281280517578}, {'x': 375.3046569824219, 'y': 238.8625030517578}, {'x': 376.42498779296875, 'y': 239.47813415527344}, {'x': 376.42498779296875, 'y': 241.9406280517578}, {'x': 377.5452880859375, 'y': 242.55625915527344}, {'x': 377.5452880859375, 'y': 245.63438415527344}, {'x': 378.6656188964844, 'y': 246.25001525878906}, {'x': 378.6656188964844, 'y': 250.55938720703125}, {'x': 379.7859191894531, 'y': 251.1750030517578}, {'x': 379.7859191894531, 'y': 251.79063415527344}, {'x': 380.9062194824219, 'y': 252.40626525878906}, {'x': 380.9062194824219, 'y': 253.02188110351562}, {'x': 382.02655029296875, 'y': 253.63751220703125}, {'x': 382.02655029296875, 'y': 254.86875915527344}, {'x': 385.3874816894531, 'y': 256.71563720703125}, {'x': 385.3874816894531, 'y': 257.9468994140625}, {'x': 386.5077819824219, 'y': 258.5625}, {'x': 386.5077819824219, 'y': 264.71875}, {'x': 387.62811279296875, 'y': 264.71875}, {'x': 387.62811279296875, 'y': 262.2562561035156}, {'x': 388.7484130859375, 'y': 261.640625}, {'x': 388.7484130859375, 'y': 261.0250244140625}, {'x': 390.9890441894531, 'y': 259.79376220703125}, {'x': 395.4703063964844, 'y': 259.79376220703125}, {'x': 396.5906066894531, 'y': 259.1781311035156}, {'x': 397.7109069824219, 'y': 259.1781311035156}, {'x': 401.0718688964844, 'y': 257.3312683105469}, {'x': 401.0718688964844, 'y': 256.1000061035156}, {'x': 402.1921691894531, 'y': 255.48439025878906}, {'x': 402.1921691894531, 'y': 253.63751220703125}, {'x': 403.3124694824219, 'y': 253.02188110351562}, {'x': 403.3124694824219, 'y': 250.55938720703125}, {'x': 404.43280029296875, 'y': 249.94375610351562}, {'x': 404.43280029296875, 'y': 248.0968780517578}, {'x': 405.5531005859375, 'y': 247.48126220703125}, {'x': 405.5531005859375, 'y': 244.40313720703125}, {'x': 406.6734313964844, 'y': 243.78750610351562}, {'x': 406.6734313964844, 'y': 239.47813415527344}, {'x': 407.7937316894531, 'y': 238.8625030517578}, {'x': 407.7937316894531, 'y': 236.40000915527344}, {'x': 408.9140319824219, 'y': 235.7843780517578}, {'x': 408.9140319824219, 'y': 233.32188415527344}, {'x': 410.03436279296875, 'y': 232.7062530517578}, {'x': 410.03436279296875, 'y': 225.31875610351562}, {'x': 411.1546630859375, 'y': 224.70314025878906}, {'x': 411.1546630859375, 'y': 220.3937530517578}, {'x': 412.2749938964844, 'y': 219.77813720703125}, {'x': 412.2749938964844, 'y': 217.3156280517578}, {'x': 413.3952941894531, 'y': 216.70001220703125}, {'x': 413.3952941894531, 'y': 214.2375030517578}, {'x': 414.5155944824219, 'y': 213.62188720703125}, {'x': 414.5155944824219, 'y': 206.85000610351562}, {'x': 415.63592529296875, 'y': 206.23439025878906}, {'x': 415.63592529296875, 'y': 191.45938110351562}, {'x': 414.5155944824219, 'y': 190.84375}, {'x': 414.5155944824219, 'y': 185.91876220703125}, {'x': 413.3952941894531, 'y': 185.30313110351562}, {'x': 413.3952941894531, 'y': 182.22500610351562}, {'x': 412.2749938964844, 'y': 181.609375}, {'x': 412.2749938964844, 'y': 169.296875}, {'x': 411.1546630859375, 'y': 168.68125915527344}, {'x': 411.1546630859375, 'y': 162.52500915527344}, {'x': 410.03436279296875, 'y': 161.9093780517578}, {'x': 410.03436279296875, 'y': 161.29376220703125}, {'x': 411.1546630859375, 'y': 160.67813110351562}, {'x': 411.1546630859375, 'y': 157.60000610351562}, {'x': 412.2749938964844, 'y': 156.984375}, {'x': 412.2749938964844, 'y': 155.7531280517578}, {'x': 411.1546630859375, 'y': 155.13751220703125}, {'x': 410.03436279296875, 'y': 155.13751220703125}, {'x': 408.9140319824219, 'y': 154.52188110351562}, {'x': 408.9140319824219, 'y': 153.90625}, {'x': 407.7937316894531, 'y': 153.29063415527344}, {'x': 408.9140319824219, 'y': 152.6750030517578}, {'x': 408.9140319824219, 'y': 150.828125}, {'x': 407.7937316894531, 'y': 150.21250915527344}, {'x': 406.6734313964844, 'y': 150.21250915527344}], 'class_id': 1, 'detection_id': 'f07f25c0-bd3b-4d6f-a7c6-6871d86e995c'}]}\n"
          ]
        }
      ]
    },
    {
      "cell_type": "code",
      "source": [
        "import gradio as gr\n",
        "from inference_sdk import InferenceHTTPClient\n",
        "\n",
        "# Initialize Roboflow client with your API key\n",
        "CLIENT = InferenceHTTPClient(\n",
        "    api_url=\"https://serverless.roboflow.com\",\n",
        "    api_key=\"7DbiKWzKS99H2vHwftND\"  # replace with your API key\n",
        ")\n",
        "\n",
        "MODEL_ID = \"crop-disease-identification/9\"  # your model ID\n",
        "\n",
        "def predict(image):\n",
        "    # Save the uploaded image temporarily\n",
        "    image_path = \"temp.jpg\"\n",
        "    image.save(image_path)\n",
        "\n",
        "    # Run inference on the saved image\n",
        "    result = CLIENT.infer(image_path, model_id=MODEL_ID)\n",
        "\n",
        "    # Prepare output text\n",
        "    if not result[\"predictions\"]:\n",
        "        return \"No disease detected.\"\n",
        "\n",
        "    output = []\n",
        "    for pred in result[\"predictions\"]:\n",
        "        cls = pred[\"class\"]\n",
        "        conf = pred[\"confidence\"]\n",
        "        output.append(f\"{cls}: {conf*100:.2f}% confidence\")\n",
        "\n",
        "    return \"\\n\".join(output)\n",
        "\n",
        "# Gradio UI\n",
        "iface = gr.Interface(\n",
        "    fn=predict,\n",
        "    inputs=gr.Image(type=\"pil\"),\n",
        "    outputs=\"text\",\n",
        "    title=\"Plant Disease Detection\",\n",
        "    description=\"Upload a plant leaf image to detect diseases.\"\n",
        ")\n",
        "\n",
        "iface.launch()\n"
      ],
      "metadata": {
        "colab": {
          "base_uri": "https://localhost:8080/",
          "height": 650
        },
        "id": "7Ge5wuaDsIzx",
        "outputId": "d374cb69-7a49-471e-881a-5480bf9e548d"
      },
      "execution_count": null,
      "outputs": [
        {
          "output_type": "stream",
          "name": "stdout",
          "text": [
            "It looks like you are running Gradio on a hosted Jupyter notebook, which requires `share=True`. Automatically setting `share=True` (you can turn this off by setting `share=False` in `launch()` explicitly).\n",
            "\n",
            "Colab notebook detected. To show errors in colab notebook, set debug=True in launch()\n",
            "* Running on public URL: https://1d43cc370f67f737ca.gradio.live\n",
            "\n",
            "This share link expires in 1 week. For free permanent hosting and GPU upgrades, run `gradio deploy` from the terminal in the working directory to deploy to Hugging Face Spaces (https://huggingface.co/spaces)\n"
          ]
        },
        {
          "output_type": "display_data",
          "data": {
            "text/plain": [
              "<IPython.core.display.HTML object>"
            ],
            "text/html": [
              "<div><iframe src=\"https://1d43cc370f67f737ca.gradio.live\" width=\"100%\" height=\"500\" allow=\"autoplay; camera; microphone; clipboard-read; clipboard-write;\" frameborder=\"0\" allowfullscreen></iframe></div>"
            ]
          },
          "metadata": {}
        },
        {
          "output_type": "execute_result",
          "data": {
            "text/plain": []
          },
          "metadata": {},
          "execution_count": 11
        }
      ]
    },
    {
      "cell_type": "code",
      "source": [],
      "metadata": {
        "id": "sBCd5FHi5zfz"
      },
      "execution_count": null,
      "outputs": []
    },
    {
      "cell_type": "code",
      "source": [
        "import tensorflow as tf\n",
        "from tensorflow.keras.models import load_model"
      ],
      "metadata": {
        "id": "RWpYN1DgC-U0"
      },
      "execution_count": 16,
      "outputs": []
    },
    {
      "cell_type": "code",
      "source": [
        "import gradio as gr\n",
        "from PIL import Image\n",
        "import numpy as np\n",
        "\n",
        "# Load your model\n",
        "model = load_model(\"/content/plant_disease_recog_model_pwp.keras\")\n",
        "\n",
        "# Replace with your actual class names\n",
        "class_names = [\"Healthy\", \"DiseaseA\", \"DiseaseB\"]\n",
        "\n",
        "def preprocess(image):\n",
        "    image = image.resize((224, 224))\n",
        "    image = image.convert(\"RGB\")\n",
        "    image_array = np.array(image) / 255.0\n",
        "    image_array = np.expand_dims(image_array, 0)\n",
        "    return image_array\n",
        "\n",
        "def predict(image):\n",
        "    processed = preprocess(image)\n",
        "    preds = model.predict(processed)[0]\n",
        "    idx = np.argmax(preds)\n",
        "    return {class_names[i]: float(preds[i]) for i in range(len(class_names))}\n",
        "\n",
        "# Create Gradio interface\n",
        "iface = gr.Interface(\n",
        "    fn=predict,\n",
        "    inputs=gr.Image(type=\"pil\"),\n",
        "    outputs=gr.Label(num_top_classes=len(class_names)),\n",
        "    title=\"Crop Disease Detection\",\n",
        "    description=\"Upload a crop image to detect disease.\"\n",
        ")\n",
        "\n",
        "if __name__ == \"__main__\":\n",
        "    iface.launch()\n"
      ],
      "metadata": {
        "id": "32v4z4gYtDJv",
        "colab": {
          "base_uri": "https://localhost:8080/",
          "height": 646
        },
        "outputId": "c2eed759-0fb4-4676-b251-367badccabae"
      },
      "execution_count": 17,
      "outputs": [
        {
          "output_type": "stream",
          "name": "stdout",
          "text": [
            "It looks like you are running Gradio on a hosted Jupyter notebook, which requires `share=True`. Automatically setting `share=True` (you can turn this off by setting `share=False` in `launch()` explicitly).\n",
            "\n",
            "Colab notebook detected. To show errors in colab notebook, set debug=True in launch()\n",
            "* Running on public URL: https://b5cd943f176884882d.gradio.live\n",
            "\n",
            "This share link expires in 1 week. For free permanent hosting and GPU upgrades, run `gradio deploy` from the terminal in the working directory to deploy to Hugging Face Spaces (https://huggingface.co/spaces)\n"
          ]
        },
        {
          "output_type": "display_data",
          "data": {
            "text/plain": [
              "<IPython.core.display.HTML object>"
            ],
            "text/html": [
              "<div><iframe src=\"https://b5cd943f176884882d.gradio.live\" width=\"100%\" height=\"500\" allow=\"autoplay; camera; microphone; clipboard-read; clipboard-write;\" frameborder=\"0\" allowfullscreen></iframe></div>"
            ]
          },
          "metadata": {}
        }
      ]
    },
    {
      "cell_type": "markdown",
      "source": [
        "# Use the Values and parameters below to use model only those are fine ignore upper codes, values, parameters"
      ],
      "metadata": {
        "id": "utMFoAsAI4xY"
      }
    },
    {
      "cell_type": "code",
      "source": [
        "import tensorflow as tf\n",
        "from tensorflow.keras.models import load_model\n",
        "import gradio as gr\n",
        "from PIL import Image\n",
        "import numpy as np\n",
        "\n",
        "# Load your model\n",
        "model = load_model(\"/content/plant_disease_recog_model_pwp.keras\")\n",
        "\n",
        "model.summary()\n",
        "\n",
        "# Replace with your actual class names (38 classes from the PlantVillage dataset)\n",
        "class_names = [\n",
        "    'Background without leaves',\n",
        "    'Apple__Apple_scab',\n",
        "    'Apple_Black_rot',\n",
        "    'Apple_Cedar_apple_rust',\n",
        "    'Apple__healthy',\n",
        "    'Blueberry_healthy',\n",
        "    'Cherry_(including_sour)_Powdery_mildew',\n",
        "    'Cherry_(including_sour)_healthy',\n",
        "    'Corn_(maize)__Cercospora_leaf_spot Gray_leaf_spot',\n",
        "    'Corn_(maize)__Common_rust_',\n",
        "    'Corn_(maize)__Northern_Leaf_Blight',\n",
        "    'Corn_(maize)_healthy',\n",
        "    'Grape_Black_rot',\n",
        "    'Grape_Esca_(Black_Measles)',\n",
        "    'Grape_Leaf_blight_(Isariopsis_leaf_spot)',\n",
        "    'Grape_healthy',\n",
        "    'Orange_Haunglongbing_(Citrus_greening)',\n",
        "    'Peach_Bacterial_spot',\n",
        "    'Peach_healthy',\n",
        "    'Pepper,_bell_Bacterial_spot',\n",
        "    'Pepper,_bell_healthy',\n",
        "    'Potato_Early_blight',\n",
        "    'Potato_Late_blight',\n",
        "    'Potato_healthy',\n",
        "    'Raspberry_healthy',\n",
        "    'Soybean_healthy',\n",
        "    'Squash_Powdery_mildew',\n",
        "    'Strawberry_Leaf_scorch',\n",
        "    'Strawberry_healthy',\n",
        "    'Tomato_Bacterial_spot',\n",
        "    'Tomato_Early_blight',\n",
        "    'Tomato_Late_blight',\n",
        "    'Tomato_Leaf_Mold',\n",
        "    'Tomato_Septoria_leaf_spot',\n",
        "    'Tomato_Spider_mites Two-spotted_spider_mite',\n",
        "    'Tomato_Target_Spot',\n",
        "    'Tomato_Tomato_Yellow_Leaf_Curl_Virus',\n",
        "    'Tomato_Tomato_mosaic_virus',\n",
        "    'Tomato_healthy'\n",
        "]\n",
        "\n",
        "def preprocess(image):\n",
        "    \"\"\"\n",
        "    Prepares the image for model prediction by resizing, converting to RGB,\n",
        "    normalizing pixel values, and adding a batch dimension.\n",
        "    \"\"\"\n",
        "    image = image.resize((160, 160))\n",
        "    image = image.convert(\"RGB\")\n",
        "    image_array = np.array(image) / 255.0\n",
        "    image_array = np.expand_dims(image_array, 0)\n",
        "    return image_array\n",
        "\n",
        "def predict(image):\n",
        "    \"\"\"\n",
        "    Predicts the disease from the uploaded image using the loaded model.\n",
        "    \"\"\"\n",
        "    processed = preprocess(image)\n",
        "    preds = model.predict(processed)[0]\n",
        "    # The Gradio Label component expects a dictionary mapping labels to confidences.\n",
        "    return {class_names[i]: float(preds[i]) for i in range(len(class_names))}\n",
        "\n",
        "# Create Gradio interface\n",
        "iface = gr.Interface(\n",
        "    fn=predict,\n",
        "    inputs=gr.Image(type=\"pil\", label=\"Upload a crop image\"),\n",
        "    outputs=gr.Label(num_top_classes=3, label=\"Prediction\"),\n",
        "    title=\"Crop Disease Detection\",\n",
        "    description=\"Upload a crop image to detect disease. The model was trained on the PlantVillage dataset.\"\n",
        ")\n",
        "\n",
        "if __name__ == \"__main__\":\n",
        "    iface.launch()"
      ],
      "metadata": {
        "colab": {
          "base_uri": "https://localhost:8080/",
          "height": 950
        },
        "id": "NAfZjoEo5czv",
        "outputId": "38395ab2-2f44-4463-b6df-709f87cc4bfd"
      },
      "execution_count": 21,
      "outputs": [
        {
          "output_type": "display_data",
          "data": {
            "text/plain": [
              "\u001b[1mModel: \"functional_3\"\u001b[0m\n"
            ],
            "text/html": [
              "<pre style=\"white-space:pre;overflow-x:auto;line-height:normal;font-family:Menlo,'DejaVu Sans Mono',consolas,'Courier New',monospace\"><span style=\"font-weight: bold\">Model: \"functional_3\"</span>\n",
              "</pre>\n"
            ]
          },
          "metadata": {}
        },
        {
          "output_type": "display_data",
          "data": {
            "text/plain": [
              "┏━━━━━━━━━━━━━━━━━━━━━━━━━━━━━━━━━┳━━━━━━━━━━━━━━━━━━━━━━━━┳━━━━━━━━━━━━━━━┓\n",
              "┃\u001b[1m \u001b[0m\u001b[1mLayer (type)                   \u001b[0m\u001b[1m \u001b[0m┃\u001b[1m \u001b[0m\u001b[1mOutput Shape          \u001b[0m\u001b[1m \u001b[0m┃\u001b[1m \u001b[0m\u001b[1m      Param #\u001b[0m\u001b[1m \u001b[0m┃\n",
              "┡━━━━━━━━━━━━━━━━━━━━━━━━━━━━━━━━━╇━━━━━━━━━━━━━━━━━━━━━━━━╇━━━━━━━━━━━━━━━┩\n",
              "│ input_layer_6 (\u001b[38;5;33mInputLayer\u001b[0m)      │ (\u001b[38;5;45mNone\u001b[0m, \u001b[38;5;34m160\u001b[0m, \u001b[38;5;34m160\u001b[0m, \u001b[38;5;34m3\u001b[0m)    │             \u001b[38;5;34m0\u001b[0m │\n",
              "├─────────────────────────────────┼────────────────────────┼───────────────┤\n",
              "│ efficientnetb4 (\u001b[38;5;33mFunctional\u001b[0m)     │ (\u001b[38;5;45mNone\u001b[0m, \u001b[38;5;34m5\u001b[0m, \u001b[38;5;34m5\u001b[0m, \u001b[38;5;34m1792\u001b[0m)     │    \u001b[38;5;34m17,673,823\u001b[0m │\n",
              "├─────────────────────────────────┼────────────────────────┼───────────────┤\n",
              "│ global_average_pooling2d_1      │ (\u001b[38;5;45mNone\u001b[0m, \u001b[38;5;34m1792\u001b[0m)           │             \u001b[38;5;34m0\u001b[0m │\n",
              "│ (\u001b[38;5;33mGlobalAveragePooling2D\u001b[0m)        │                        │               │\n",
              "├─────────────────────────────────┼────────────────────────┼───────────────┤\n",
              "│ dropout_3 (\u001b[38;5;33mDropout\u001b[0m)             │ (\u001b[38;5;45mNone\u001b[0m, \u001b[38;5;34m1792\u001b[0m)           │             \u001b[38;5;34m0\u001b[0m │\n",
              "├─────────────────────────────────┼────────────────────────┼───────────────┤\n",
              "│ dense_1 (\u001b[38;5;33mDense\u001b[0m)                 │ (\u001b[38;5;45mNone\u001b[0m, \u001b[38;5;34m39\u001b[0m)             │        \u001b[38;5;34m69,927\u001b[0m │\n",
              "└─────────────────────────────────┴────────────────────────┴───────────────┘\n"
            ],
            "text/html": [
              "<pre style=\"white-space:pre;overflow-x:auto;line-height:normal;font-family:Menlo,'DejaVu Sans Mono',consolas,'Courier New',monospace\">┏━━━━━━━━━━━━━━━━━━━━━━━━━━━━━━━━━┳━━━━━━━━━━━━━━━━━━━━━━━━┳━━━━━━━━━━━━━━━┓\n",
              "┃<span style=\"font-weight: bold\"> Layer (type)                    </span>┃<span style=\"font-weight: bold\"> Output Shape           </span>┃<span style=\"font-weight: bold\">       Param # </span>┃\n",
              "┡━━━━━━━━━━━━━━━━━━━━━━━━━━━━━━━━━╇━━━━━━━━━━━━━━━━━━━━━━━━╇━━━━━━━━━━━━━━━┩\n",
              "│ input_layer_6 (<span style=\"color: #0087ff; text-decoration-color: #0087ff\">InputLayer</span>)      │ (<span style=\"color: #00d7ff; text-decoration-color: #00d7ff\">None</span>, <span style=\"color: #00af00; text-decoration-color: #00af00\">160</span>, <span style=\"color: #00af00; text-decoration-color: #00af00\">160</span>, <span style=\"color: #00af00; text-decoration-color: #00af00\">3</span>)    │             <span style=\"color: #00af00; text-decoration-color: #00af00\">0</span> │\n",
              "├─────────────────────────────────┼────────────────────────┼───────────────┤\n",
              "│ efficientnetb4 (<span style=\"color: #0087ff; text-decoration-color: #0087ff\">Functional</span>)     │ (<span style=\"color: #00d7ff; text-decoration-color: #00d7ff\">None</span>, <span style=\"color: #00af00; text-decoration-color: #00af00\">5</span>, <span style=\"color: #00af00; text-decoration-color: #00af00\">5</span>, <span style=\"color: #00af00; text-decoration-color: #00af00\">1792</span>)     │    <span style=\"color: #00af00; text-decoration-color: #00af00\">17,673,823</span> │\n",
              "├─────────────────────────────────┼────────────────────────┼───────────────┤\n",
              "│ global_average_pooling2d_1      │ (<span style=\"color: #00d7ff; text-decoration-color: #00d7ff\">None</span>, <span style=\"color: #00af00; text-decoration-color: #00af00\">1792</span>)           │             <span style=\"color: #00af00; text-decoration-color: #00af00\">0</span> │\n",
              "│ (<span style=\"color: #0087ff; text-decoration-color: #0087ff\">GlobalAveragePooling2D</span>)        │                        │               │\n",
              "├─────────────────────────────────┼────────────────────────┼───────────────┤\n",
              "│ dropout_3 (<span style=\"color: #0087ff; text-decoration-color: #0087ff\">Dropout</span>)             │ (<span style=\"color: #00d7ff; text-decoration-color: #00d7ff\">None</span>, <span style=\"color: #00af00; text-decoration-color: #00af00\">1792</span>)           │             <span style=\"color: #00af00; text-decoration-color: #00af00\">0</span> │\n",
              "├─────────────────────────────────┼────────────────────────┼───────────────┤\n",
              "│ dense_1 (<span style=\"color: #0087ff; text-decoration-color: #0087ff\">Dense</span>)                 │ (<span style=\"color: #00d7ff; text-decoration-color: #00d7ff\">None</span>, <span style=\"color: #00af00; text-decoration-color: #00af00\">39</span>)             │        <span style=\"color: #00af00; text-decoration-color: #00af00\">69,927</span> │\n",
              "└─────────────────────────────────┴────────────────────────┴───────────────┘\n",
              "</pre>\n"
            ]
          },
          "metadata": {}
        },
        {
          "output_type": "display_data",
          "data": {
            "text/plain": [
              "\u001b[1m Total params: \u001b[0m\u001b[38;5;34m52,807,318\u001b[0m (201.44 MB)\n"
            ],
            "text/html": [
              "<pre style=\"white-space:pre;overflow-x:auto;line-height:normal;font-family:Menlo,'DejaVu Sans Mono',consolas,'Courier New',monospace\"><span style=\"font-weight: bold\"> Total params: </span><span style=\"color: #00af00; text-decoration-color: #00af00\">52,807,318</span> (201.44 MB)\n",
              "</pre>\n"
            ]
          },
          "metadata": {}
        },
        {
          "output_type": "display_data",
          "data": {
            "text/plain": [
              "\u001b[1m Trainable params: \u001b[0m\u001b[38;5;34m17,531,783\u001b[0m (66.88 MB)\n"
            ],
            "text/html": [
              "<pre style=\"white-space:pre;overflow-x:auto;line-height:normal;font-family:Menlo,'DejaVu Sans Mono',consolas,'Courier New',monospace\"><span style=\"font-weight: bold\"> Trainable params: </span><span style=\"color: #00af00; text-decoration-color: #00af00\">17,531,783</span> (66.88 MB)\n",
              "</pre>\n"
            ]
          },
          "metadata": {}
        },
        {
          "output_type": "display_data",
          "data": {
            "text/plain": [
              "\u001b[1m Non-trainable params: \u001b[0m\u001b[38;5;34m211,967\u001b[0m (828.00 KB)\n"
            ],
            "text/html": [
              "<pre style=\"white-space:pre;overflow-x:auto;line-height:normal;font-family:Menlo,'DejaVu Sans Mono',consolas,'Courier New',monospace\"><span style=\"font-weight: bold\"> Non-trainable params: </span><span style=\"color: #00af00; text-decoration-color: #00af00\">211,967</span> (828.00 KB)\n",
              "</pre>\n"
            ]
          },
          "metadata": {}
        },
        {
          "output_type": "display_data",
          "data": {
            "text/plain": [
              "\u001b[1m Optimizer params: \u001b[0m\u001b[38;5;34m35,063,568\u001b[0m (133.76 MB)\n"
            ],
            "text/html": [
              "<pre style=\"white-space:pre;overflow-x:auto;line-height:normal;font-family:Menlo,'DejaVu Sans Mono',consolas,'Courier New',monospace\"><span style=\"font-weight: bold\"> Optimizer params: </span><span style=\"color: #00af00; text-decoration-color: #00af00\">35,063,568</span> (133.76 MB)\n",
              "</pre>\n"
            ]
          },
          "metadata": {}
        },
        {
          "output_type": "stream",
          "name": "stdout",
          "text": [
            "It looks like you are running Gradio on a hosted Jupyter notebook, which requires `share=True`. Automatically setting `share=True` (you can turn this off by setting `share=False` in `launch()` explicitly).\n",
            "\n",
            "Colab notebook detected. To show errors in colab notebook, set debug=True in launch()\n",
            "* Running on public URL: https://70970dbac4e922bef7.gradio.live\n",
            "\n",
            "This share link expires in 1 week. For free permanent hosting and GPU upgrades, run `gradio deploy` from the terminal in the working directory to deploy to Hugging Face Spaces (https://huggingface.co/spaces)\n"
          ]
        },
        {
          "output_type": "display_data",
          "data": {
            "text/plain": [
              "<IPython.core.display.HTML object>"
            ],
            "text/html": [
              "<div><iframe src=\"https://70970dbac4e922bef7.gradio.live\" width=\"100%\" height=\"500\" allow=\"autoplay; camera; microphone; clipboard-read; clipboard-write;\" frameborder=\"0\" allowfullscreen></iframe></div>"
            ]
          },
          "metadata": {}
        }
      ]
    },
    {
      "cell_type": "code",
      "source": [],
      "metadata": {
        "id": "3Geiuu73Fcll"
      },
      "execution_count": null,
      "outputs": []
    }
  ]
}