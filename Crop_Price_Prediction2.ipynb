{
  "nbformat": 4,
  "nbformat_minor": 0,
  "metadata": {
    "colab": {
      "provenance": [],
      "mount_file_id": "1Vh6zcqJjFXMRS3aeQUj9KAh5ctvoVOaH",
      "authorship_tag": "ABX9TyPbS9kPP/EabsTvoHvvloqV",
      "include_colab_link": true
    },
    "kernelspec": {
      "name": "python3",
      "display_name": "Python 3"
    },
    "language_info": {
      "name": "python"
    }
  },
  "cells": [
    {
      "cell_type": "markdown",
      "metadata": {
        "id": "view-in-github",
        "colab_type": "text"
      },
      "source": [
        "<a href=\"https://colab.research.google.com/github/varuncode01/SIH_Files/blob/main/Crop_Price_Prediction2.ipynb\" target=\"_parent\"><img src=\"https://colab.research.google.com/assets/colab-badge.svg\" alt=\"Open In Colab\"/></a>"
      ]
    },
    {
      "cell_type": "code",
      "execution_count": 13,
      "metadata": {
        "id": "R5fwb24_TuAT"
      },
      "outputs": [],
      "source": [
        "import numpy as np"
      ]
    },
    {
      "cell_type": "code",
      "source": [
        "import joblib"
      ],
      "metadata": {
        "id": "k7_X5eQPUTB9"
      },
      "execution_count": 2,
      "outputs": []
    },
    {
      "cell_type": "code",
      "source": [
        "model = joblib.load('/content/drive/MyDrive/Colab Notebooks/SIH1/price_predictor_rf.pkl')"
      ],
      "metadata": {
        "id": "pTX-uSsYUWO9"
      },
      "execution_count": 3,
      "outputs": []
    },
    {
      "cell_type": "code",
      "source": [
        "category_mapping = joblib.load('/content/drive/MyDrive/Colab Notebooks/SIH1/category_mapping2.pkl')"
      ],
      "metadata": {
        "id": "r0A0BSBWWaJ-"
      },
      "execution_count": 8,
      "outputs": []
    },
    {
      "cell_type": "code",
      "source": [
        "def encode_input(raw_input):\n",
        "    encoded = []\n",
        "    for col in ['State', 'District', 'Market', 'Commodity', 'Variety', 'Grade']:\n",
        "        categories = category_mapping[col]\n",
        "        val = raw_input.get(col, None)\n",
        "        if val in categories:\n",
        "            encoded.append(categories.index(val))\n",
        "        else:\n",
        "            encoded.append(-1)  # or handle unknown category as needed\n",
        "    return encoded"
      ],
      "metadata": {
        "id": "J5ofRAycXLBw"
      },
      "execution_count": 11,
      "outputs": []
    },
    {
      "cell_type": "code",
      "source": [
        "raw_sample = {\n",
        "    'State': 'Gujarat',\n",
        "    'District': 'Amreli',\n",
        "    'Market': 'Damnagar',\n",
        "    'Commodity': 'Bhindi(Ladies Finger)',\n",
        "    'Variety': 'Bhindi',\n",
        "    'Grade': 'FAQ'\n",
        "}\n",
        "\n",
        "encoded_sample = encode_input(raw_sample)\n",
        "sample_np = np.array(encoded_sample).reshape(1, -1)  # reshape for sklearn\n",
        "\n",
        "prediction = model.predict(sample_np)\n",
        "print(\"Predicted Max and Min Price:\", prediction)"
      ],
      "metadata": {
        "colab": {
          "base_uri": "https://localhost:8080/"
        },
        "id": "QzD0SB4nWln7",
        "outputId": "ab3fa5af-327f-477d-ecbb-8aeed76433a0"
      },
      "execution_count": 14,
      "outputs": [
        {
          "output_type": "stream",
          "name": "stdout",
          "text": [
            "Predicted Max and Min Price: [[3463.88273314 4015.07685511]]\n"
          ]
        },
        {
          "output_type": "stream",
          "name": "stderr",
          "text": [
            "/usr/local/lib/python3.12/dist-packages/sklearn/utils/validation.py:2739: UserWarning: X does not have valid feature names, but RandomForestRegressor was fitted with feature names\n",
            "  warnings.warn(\n",
            "/usr/local/lib/python3.12/dist-packages/sklearn/utils/validation.py:2739: UserWarning: X does not have valid feature names, but RandomForestRegressor was fitted with feature names\n",
            "  warnings.warn(\n"
          ]
        }
      ]
    },
    {
      "cell_type": "code",
      "source": [
        "features = ['State', 'District', 'Market', 'Commodity', 'Variety', 'Grade']"
      ],
      "metadata": {
        "id": "roswYa4bXjSM"
      },
      "execution_count": 15,
      "outputs": []
    },
    {
      "cell_type": "code",
      "source": [
        "import pandas as pd\n",
        "\n",
        "encoded_sample = encode_input(raw_sample)\n",
        "sample_df = pd.DataFrame([encoded_sample], columns=features)\n",
        "\n",
        "prediction = model.predict(sample_df)\n",
        "print(\"Predicted Max and Min Price:\", prediction)"
      ],
      "metadata": {
        "colab": {
          "base_uri": "https://localhost:8080/"
        },
        "id": "0CGg0qZJX8uf",
        "outputId": "86dabb29-60d1-4150-f9fd-2b00e13c8ddd"
      },
      "execution_count": 16,
      "outputs": [
        {
          "output_type": "stream",
          "name": "stdout",
          "text": [
            "Predicted Max and Min Price: [[3463.88273314 4015.07685511]]\n"
          ]
        }
      ]
    },
    {
      "cell_type": "code",
      "source": [
        "sample_df = pd.DataFrame([encoded_sample], columns=['State', 'District', 'Market', 'Commodity', 'Variety', 'Grade'])\n",
        "prediction = model.predict(sample_df)"
      ],
      "metadata": {
        "id": "Z-wyA9bTX-UX"
      },
      "execution_count": 17,
      "outputs": []
    },
    {
      "cell_type": "code",
      "source": [],
      "metadata": {
        "id": "mBPdHhoyYCAl"
      },
      "execution_count": null,
      "outputs": []
    }
  ]
}